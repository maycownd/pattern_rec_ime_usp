{
 "cells": [
  {
   "cell_type": "markdown",
   "metadata": {},
   "source": [
    "# Exercício Programa 2\n",
    "\n",
    "Nesse exercício, vamos praticar um pouco do conteúdo dado em aula. Para os exercícios (1) a (5), vamos utilizar as classes dos classificadores lineares e de plotagem de dados apresentados por Sebastian Rascka e Vahid Mirjalili no livro \"Python Machine Learning\". Dos exercícios (6) a (9), os classificadores implementados pelo scikit-learn serão utilizados."
   ]
  },
  {
   "cell_type": "markdown",
   "metadata": {},
   "source": [
    "### Exercício 1\n",
    "\n",
    "O Exercício disponibiliza o código desenvolvido no livro (\"Python Machine Learning\") na pasta \"sebastian\". Nessa pasta contém os seguintes arquivos:\n",
    "\n",
    "- **adaline:** Contém as classes **AdalineGD** que implementa o classificador linear \"Adaline\" visto em aula com o algoritmo \"em Batch\" e **AdalineSGD** que implementa o classificador linear \"Adaline\" visto em aula com o algoritmo \"estocástico\".\n",
    "- **perceptron:** Contém a classe **Perceptron** que implementa o classificador linear **Perceptron** com o algoritmo de Perceptron do Rosenblatt.\n",
    "- **logistic_regression:** Contém a classe **LogisticRegressionGD** que implementa o classificador de \"Regressão Logística\".\n",
    "- **ploting:** Contém a função **plot_decision_regions** que plota a região de decisão do classificador junto com um conjunto de vetores de características \"X\" e suas classes \"y\" e destaca um subconjunto dos mesmos indicado pelos índices em X e y no parâmetro **test_idx**.\n",
    "\n",
    "Note que a implementação dos classificadores lineares de Raschka e Mirjalili possuem algoritmos de aprendizado que sempre se encerra depois de uma certa quantidade de iterações (épocas). Nesse exercício pede-se, para que você modifique as implementações disponibilizadas para que cada classe de classificador linear (**AdalineGD**, **AdalineSGD**, **Perceptron** e **LogisticRegressionGD**) receba um limiar de custo em seu construtor que determina a quantidade de iterações do algoritmo de aprendizado da seguinte maneira:\n",
    "\n",
    "- Se o limiar de custo e o número de iterações (n_itr) não forem nulos, então o algoritmo se encerra quando o custo da iteração atual ser menor que o limiar de custo ou se algoritmo já executou n_itr épocas.\n",
    "- Se o limiar de custo for nulo, então o algoritmo de aprendizado se encerra apenas depois de executar n_itr épocas.\n",
    "- Se o número de iterações (n_itr) for nulo, então o algoritmo se encerra apenas quando o custo da iteração atual for menor que o limiar de custo.\n",
    "- Sempre considere que ou limiar de custo, ou número de iterações será não nulo.\n",
    "\n",
    "Na implementação do **Perceptron**, veja que não existe uma lista de custos como nas outras implementações, você deve deve considerar a lista de erros como o custo. Neste caso o custo $c$ do  **Perceptron** será:\n",
    "\n",
    "$$ c(w,b) = \\sum_{i=1}^n L(f(\\vec{x}^{(i)}, \\vec{w}, b), y^{(i)})  $$\n",
    "\n",
    "onde,\n",
    "\n",
    "$$ \n",
    "\\begin{align*}\n",
    "L(y', y) = \\begin{cases} 0 \\textrm{   se } y = y' \\\\ 1 \\textrm{   se } y \\not= y' \\end{cases} \\\\\n",
    "f(\\vec{x}^{(i)}, \\vec{w}, b) = \\begin{cases} \n",
    "    1  \\textrm{    se } \\vec{w}^t \\vec{x}^{(i)} + b \\geq 0 \\\\\n",
    "    -1 \\textrm{    se } \\vec{w}^t \\vec{x}^{(i)} + b < 0\n",
    "\\end{cases}\n",
    "\\end{align*}\n",
    "$$"
   ]
  },
  {
   "cell_type": "markdown",
   "metadata": {},
   "source": [
    "### Exercício 2\n",
    "\n",
    "No pacote do exercício, existe uma pasta chamada \"dataset\", essa pasta contém um \"arquivo csv\" chamado \"ex2.data\". Esse dataset é composto de duas características e mais uma classe \"A\" ou \"B\" para cada linha.\n",
    "\n",
    "Utilizando o teorema de convergência do **Perceptron** e os classificadores modificados do exercício anterior, mostre que o dataset é linearmente separável. Apresente a reta que separe os dados e número de iterações necessárias até a convergência.\n",
    "\n",
    "OBS.: Você pode (inclusive é encorajado) a modificar a classe **Perceptron** para encontrar as informações não disponíveis solicitadas no exercício."
   ]
  },
  {
   "cell_type": "code",
   "execution_count": 1,
   "metadata": {
    "ExecuteTime": {
     "end_time": "2019-01-01T00:04:39.540190Z",
     "start_time": "2019-01-01T00:04:38.391609Z"
    }
   },
   "outputs": [],
   "source": [
    "%load_ext autoreload\n",
    "%autoreload 2\n",
    "%matplotlib inline"
   ]
  },
  {
   "cell_type": "code",
   "execution_count": 2,
   "metadata": {
    "ExecuteTime": {
     "end_time": "2019-01-01T00:04:41.038278Z",
     "start_time": "2019-01-01T00:04:39.542726Z"
    }
   },
   "outputs": [],
   "source": [
    "import pandas as pd\n",
    "import numpy as np\n",
    "import sys\n",
    "from sebastian import perceptron, adaline, ploting, logistic_regression\n",
    "from benlau import polynomials\n",
    "import matplotlib.pyplot as plt"
   ]
  },
  {
   "cell_type": "code",
   "execution_count": 82,
   "metadata": {
    "ExecuteTime": {
     "end_time": "2019-06-05T09:26:07.425487Z",
     "start_time": "2019-06-05T09:26:07.356543Z"
    }
   },
   "outputs": [
    {
     "data": {
      "text/html": [
       "<div>\n",
       "<style scoped>\n",
       "    .dataframe tbody tr th:only-of-type {\n",
       "        vertical-align: middle;\n",
       "    }\n",
       "\n",
       "    .dataframe tbody tr th {\n",
       "        vertical-align: top;\n",
       "    }\n",
       "\n",
       "    .dataframe thead th {\n",
       "        text-align: right;\n",
       "    }\n",
       "</style>\n",
       "<table border=\"1\" class=\"dataframe\">\n",
       "  <thead>\n",
       "    <tr style=\"text-align: right;\">\n",
       "      <th></th>\n",
       "      <th>x1</th>\n",
       "      <th>x2</th>\n",
       "      <th>class</th>\n",
       "    </tr>\n",
       "  </thead>\n",
       "  <tbody>\n",
       "    <tr>\n",
       "      <th>0</th>\n",
       "      <td>0.776487</td>\n",
       "      <td>4.567870</td>\n",
       "      <td>1</td>\n",
       "    </tr>\n",
       "    <tr>\n",
       "      <th>1</th>\n",
       "      <td>0.943656</td>\n",
       "      <td>4.612453</td>\n",
       "      <td>1</td>\n",
       "    </tr>\n",
       "    <tr>\n",
       "      <th>2</th>\n",
       "      <td>-0.145937</td>\n",
       "      <td>4.256271</td>\n",
       "      <td>1</td>\n",
       "    </tr>\n",
       "    <tr>\n",
       "      <th>3</th>\n",
       "      <td>3.730815</td>\n",
       "      <td>5.043636</td>\n",
       "      <td>1</td>\n",
       "    </tr>\n",
       "    <tr>\n",
       "      <th>4</th>\n",
       "      <td>-2.603077</td>\n",
       "      <td>3.716977</td>\n",
       "      <td>1</td>\n",
       "    </tr>\n",
       "  </tbody>\n",
       "</table>\n",
       "</div>"
      ],
      "text/plain": [
       "         x1        x2  class\n",
       "0  0.776487  4.567870      1\n",
       "1  0.943656  4.612453      1\n",
       "2 -0.145937  4.256271      1\n",
       "3  3.730815  5.043636      1\n",
       "4 -2.603077  3.716977      1"
      ]
     },
     "execution_count": 82,
     "metadata": {},
     "output_type": "execute_result"
    }
   ],
   "source": [
    "df = pd.read_csv(\"dataset/ex2.data\", sep=\";\", header=0, names=['x1', 'x2', 'y'])\n",
    "df['class'] = np.where(df['y'] == 'A', 1, -1)\n",
    "df.drop(['y'], inplace=True, axis=1)\n",
    "X, y = df.iloc[:, :2].values, df['class'].values\n",
    "df.head(5)"
   ]
  },
  {
   "cell_type": "code",
   "execution_count": 83,
   "metadata": {
    "ExecuteTime": {
     "end_time": "2019-06-05T09:26:09.024078Z",
     "start_time": "2019-06-05T09:26:08.640398Z"
    }
   },
   "outputs": [
    {
     "name": "stdout",
     "output_type": "stream",
     "text": [
      "Número de Iterações: 9: \n"
     ]
    },
    {
     "data": {
      "image/png": "[encoded data removed]",
      "text/plain": [
       "<Figure size 432x288 with 1 Axes>"
      ]
     },
     "metadata": {
      "needs_background": "light"
     },
     "output_type": "display_data"
    }
   ],
   "source": [
    "percep = perceptron.Perceptron(random_state=9999, threshold=sys.float_info.epsilon, n_iter=1000)\n",
    "percep.fit(X, y)\n",
    "n_iterations = percep.return_iterations()\n",
    "print(\"Número de Iterações: %d: \" % n_iterations )\n",
    "ploting.plot_decision_regions(X, y, percep)"
   ]
  },
  {
   "cell_type": "markdown",
   "metadata": {},
   "source": [
    "### Exercício 3\n",
    "\n",
    "Nesse exercício, você utilizará os dados disponíveis em \"dataset/ex3.data\". Leia esses dados e separe $30\\%$ das amostras para teste a mantenha os outros $70\\%$ para treino utilizando a função **train_test_split** do scikit-learn com **random_state=1** e **stratify=y** (veja um exemplo na seção \"First steps with scikit-learn – training a\n",
    "perceptron\" do capitulo $3$ do livro do Sebastian). Depois treine dois classificadores: \n",
    "\n",
    "1. **AdalineSGD:** Com os parâmetros n_iter=1500, eta=0.001, random_state=1 e limiar de custo = None\n",
    "2. **Perceptron:** Com os parâmetros n_iter=1500, eta=0.001, random_state=1 e limiar de custo = None\n",
    "\n",
    "Agora, plote a região de decisão dos dois classificadores juntamente com a base de dados (treino e teste), destaque as amostras da base de teste e imprima a quantidade de predição incorreta da base de treino para cada classificador.\n",
    "\n",
    "Observando as plotagens, responda:\n",
    "\n",
    "- **(1)** Considerando o conceito de margem e erro de generalização visto em aula. Visualmente qual dos classificadores aparenta ter menor erro de generalização.\n",
    "- **(2)** Analisando o desempenho de teste dos seus classificadores, qual obteve o melhor resultado (menos erros nos dados de teste). Relacione esse resultado com a análise do exercício anterior."
   ]
  },
  {
   "cell_type": "code",
   "execution_count": 85,
   "metadata": {
    "ExecuteTime": {
     "end_time": "2019-06-05T09:26:22.516958Z",
     "start_time": "2019-06-05T09:26:22.448439Z"
    }
   },
   "outputs": [
    {
     "data": {
      "text/html": [
       "<div>\n",
       "<style scoped>\n",
       "    .dataframe tbody tr th:only-of-type {\n",
       "        vertical-align: middle;\n",
       "    }\n",
       "\n",
       "    .dataframe tbody tr th {\n",
       "        vertical-align: top;\n",
       "    }\n",
       "\n",
       "    .dataframe thead th {\n",
       "        text-align: right;\n",
       "    }\n",
       "</style>\n",
       "<table border=\"1\" class=\"dataframe\">\n",
       "  <thead>\n",
       "    <tr style=\"text-align: right;\">\n",
       "      <th></th>\n",
       "      <th>x1</th>\n",
       "      <th>x2</th>\n",
       "      <th>class</th>\n",
       "    </tr>\n",
       "  </thead>\n",
       "  <tbody>\n",
       "    <tr>\n",
       "      <th>0</th>\n",
       "      <td>0.776487</td>\n",
       "      <td>2.225614</td>\n",
       "      <td>A</td>\n",
       "    </tr>\n",
       "    <tr>\n",
       "      <th>1</th>\n",
       "      <td>0.943656</td>\n",
       "      <td>2.878100</td>\n",
       "      <td>A</td>\n",
       "    </tr>\n",
       "    <tr>\n",
       "      <th>2</th>\n",
       "      <td>-0.145937</td>\n",
       "      <td>1.729269</td>\n",
       "      <td>A</td>\n",
       "    </tr>\n",
       "    <tr>\n",
       "      <th>3</th>\n",
       "      <td>3.730815</td>\n",
       "      <td>5.495548</td>\n",
       "      <td>A</td>\n",
       "    </tr>\n",
       "    <tr>\n",
       "      <th>4</th>\n",
       "      <td>-2.603077</td>\n",
       "      <td>-1.034227</td>\n",
       "      <td>A</td>\n",
       "    </tr>\n",
       "  </tbody>\n",
       "</table>\n",
       "</div>"
      ],
      "text/plain": [
       "         x1        x2 class\n",
       "0  0.776487  2.225614     A\n",
       "1  0.943656  2.878100     A\n",
       "2 -0.145937  1.729269     A\n",
       "3  3.730815  5.495548     A\n",
       "4 -2.603077 -1.034227     A"
      ]
     },
     "execution_count": 85,
     "metadata": {},
     "output_type": "execute_result"
    }
   ],
   "source": [
    "df = pd.read_csv(\"dataset/ex3.data\", sep=';', header=0, names=['x1', 'x2', 'class'])\n",
    "X, y = np.squeeze(df[['x1', 'x2']]), np.squeeze(np.where(df[['class']] == 'A', 1, -1))\n",
    "df.head(5)"
   ]
  },
  {
   "cell_type": "code",
   "execution_count": 86,
   "metadata": {
    "ExecuteTime": {
     "end_time": "2019-06-05T09:26:23.707415Z",
     "start_time": "2019-06-05T09:26:23.665495Z"
    }
   },
   "outputs": [],
   "source": [
    "from sklearn.model_selection import train_test_split"
   ]
  },
  {
   "cell_type": "code",
   "execution_count": 87,
   "metadata": {
    "ExecuteTime": {
     "end_time": "2019-06-05T09:26:24.381919Z",
     "start_time": "2019-06-05T09:26:24.351565Z"
    }
   },
   "outputs": [],
   "source": [
    "x_train, x_test, y_train, y_test = train_test_split(X, y, test_size=0.7, random_state=1, stratify=y)"
   ]
  },
  {
   "cell_type": "code",
   "execution_count": 88,
   "metadata": {
    "ExecuteTime": {
     "end_time": "2019-06-05T09:26:27.507300Z",
     "start_time": "2019-06-05T09:26:25.531503Z"
    }
   },
   "outputs": [
    {
     "data": {
      "text/plain": [
       "<sebastian.perceptron.Perceptron at 0x12681bbe0>"
      ]
     },
     "execution_count": 88,
     "metadata": {},
     "output_type": "execute_result"
    }
   ],
   "source": [
    "adaline_clf = adaline.AdalineSGD(eta=0.001, n_iter=1500, random_state=1)\n",
    "perceptron_clf = perceptron.Perceptron(eta=0.001, n_iter=1500, random_state=1)\n",
    "adaline_clf.fit(x_train.values, y_train)\n",
    "perceptron_clf.fit(x_train.values, y_train)"
   ]
  },
  {
   "cell_type": "code",
   "execution_count": 89,
   "metadata": {
    "ExecuteTime": {
     "end_time": "2019-06-05T09:26:28.725166Z",
     "start_time": "2019-06-05T09:26:28.366354Z"
    }
   },
   "outputs": [
    {
     "name": "stdout",
     "output_type": "stream",
     "text": [
      "0 amostras malclassificadas no treino (Perceptron)\n"
     ]
    },
    {
     "data": {
      "image/png": "[encoded data removed]",
      "text/plain": [
       "<Figure size 432x288 with 1 Axes>"
      ]
     },
     "metadata": {
      "needs_background": "light"
     },
     "output_type": "display_data"
    }
   ],
   "source": [
    "ploting.plot_decision_regions(X.values, y, perceptron_clf, test_idx=x_test.index.tolist())\n",
    "y_train_perceptron = perceptron_clf.predict(x_train.values)\n",
    "error_train_perceptron = y_train - y_train_perceptron\n",
    "print(\"%d amostras malclassificadas no treino (Perceptron)\" % error_train_perceptron[error_train_perceptron!=0].sum())"
   ]
  },
  {
   "cell_type": "code",
   "execution_count": 90,
   "metadata": {
    "ExecuteTime": {
     "end_time": "2019-06-05T09:26:30.651488Z",
     "start_time": "2019-06-05T09:26:30.309682Z"
    }
   },
   "outputs": [
    {
     "name": "stdout",
     "output_type": "stream",
     "text": [
      "0 amostras malclassificadas no treino (Adaline)\n"
     ]
    },
    {
     "data": {
      "image/png": "[encoded data removed]",
      "text/plain": [
       "<Figure size 432x288 with 1 Axes>"
      ]
     },
     "metadata": {
      "needs_background": "light"
     },
     "output_type": "display_data"
    }
   ],
   "source": [
    "ploting.plot_decision_regions(X.values, y, adaline_clf, test_idx=x_test.index.tolist())\n",
    "y_train_adaline = adaline_clf.predict(x_train.values)\n",
    "error_train_adaline = y_train - y_train_adaline\n",
    "print(\"%d amostras malclassificadas no treino (Adaline)\" % error_train_adaline[error_train_adaline!=0].sum())"
   ]
  },
  {
   "cell_type": "markdown",
   "metadata": {},
   "source": [
    "O classificador **Adaline** aparenta ter o menor erro de generalização, visto que este separa as duas classes com uma margem melhor"
   ]
  },
  {
   "cell_type": "code",
   "execution_count": 91,
   "metadata": {
    "ExecuteTime": {
     "end_time": "2019-06-05T09:26:34.161109Z",
     "start_time": "2019-06-05T09:26:34.132662Z"
    }
   },
   "outputs": [
    {
     "name": "stdout",
     "output_type": "stream",
     "text": [
      "Quantidade de amostras malclassificadas no conjunto de teste (Perceptron): 2\n",
      "Quantidade de amostras malclassificadas no conjunto de teste (Adaline): 0\n"
     ]
    }
   ],
   "source": [
    "error_test_perceptron = y_test - perceptron_clf.predict(x_test.values)\n",
    "error_test_adaline= y_test - adaline_clf.predict(x_test.values)\n",
    "n_error_test_perceptron = abs(error_test_perceptron.sum())\n",
    "n_error_test_adaline = abs(error_test_adaline.sum())\n",
    "print(\"Quantidade de amostras malclassificadas no conjunto de teste (Perceptron): %d\" % n_error_test_perceptron)\n",
    "print(\"Quantidade de amostras malclassificadas no conjunto de teste (Adaline): %d\" % n_error_test_adaline)"
   ]
  },
  {
   "cell_type": "markdown",
   "metadata": {},
   "source": [
    "O classificador Perceptron apresenta duas amostras malclassificadas no conjunto de teste, enquanto o Adaline não apresenta nenhuma. Isto reforça a análise visual anterior, de que o classificador Adaline possui um menor erro de generalização."
   ]
  },
  {
   "cell_type": "markdown",
   "metadata": {},
   "source": []
  },
  {
   "cell_type": "markdown",
   "metadata": {},
   "source": [
    "### Exercício 4\n",
    "\n",
    "Vamos utilizar os dados no dataset do arquivo \"dataset/ex4.data\". Nesse exercício, você deve treinar $3$ classificadores **Adaline** com **random_state=1**, **n_iter=500**, **limiar de custo** = **None**. Então utilize\n",
    "**eta=$8 \\times 10^{-8}$** para o primeiro classificador, **eta=$1 \\times 10^{-4}$** para o segundo classificador e **eta=$1.725 \\times 10^{-3}$** para o terceiro classificador. Plote o dataset e a superfície de decisão de cada classificador e a função de custo e relacione os gráficos da função de custo com a superfície de decisão. Dentre os valores avaliados qual o valor de **eta** mais adequado para encontrar o classificador com o menor custo em um número baixo de iterações."
   ]
  },
  {
   "cell_type": "code",
   "execution_count": 92,
   "metadata": {
    "ExecuteTime": {
     "end_time": "2019-06-05T09:26:46.833253Z",
     "start_time": "2019-06-05T09:26:46.766245Z"
    }
   },
   "outputs": [
    {
     "data": {
      "text/html": [
       "<div>\n",
       "<style scoped>\n",
       "    .dataframe tbody tr th:only-of-type {\n",
       "        vertical-align: middle;\n",
       "    }\n",
       "\n",
       "    .dataframe tbody tr th {\n",
       "        vertical-align: top;\n",
       "    }\n",
       "\n",
       "    .dataframe thead th {\n",
       "        text-align: right;\n",
       "    }\n",
       "</style>\n",
       "<table border=\"1\" class=\"dataframe\">\n",
       "  <thead>\n",
       "    <tr style=\"text-align: right;\">\n",
       "      <th></th>\n",
       "      <th>x1</th>\n",
       "      <th>x2</th>\n",
       "      <th>category_class</th>\n",
       "    </tr>\n",
       "  </thead>\n",
       "  <tbody>\n",
       "    <tr>\n",
       "      <th>0</th>\n",
       "      <td>0.776487</td>\n",
       "      <td>2.225614</td>\n",
       "      <td>A</td>\n",
       "    </tr>\n",
       "    <tr>\n",
       "      <th>1</th>\n",
       "      <td>0.943656</td>\n",
       "      <td>2.878100</td>\n",
       "      <td>A</td>\n",
       "    </tr>\n",
       "    <tr>\n",
       "      <th>2</th>\n",
       "      <td>-0.145937</td>\n",
       "      <td>1.729269</td>\n",
       "      <td>A</td>\n",
       "    </tr>\n",
       "    <tr>\n",
       "      <th>3</th>\n",
       "      <td>0.657508</td>\n",
       "      <td>2.179342</td>\n",
       "      <td>A</td>\n",
       "    </tr>\n",
       "    <tr>\n",
       "      <th>4</th>\n",
       "      <td>1.974671</td>\n",
       "      <td>3.361514</td>\n",
       "      <td>A</td>\n",
       "    </tr>\n",
       "  </tbody>\n",
       "</table>\n",
       "</div>"
      ],
      "text/plain": [
       "         x1        x2 category_class\n",
       "0  0.776487  2.225614              A\n",
       "1  0.943656  2.878100              A\n",
       "2 -0.145937  1.729269              A\n",
       "3  0.657508  2.179342              A\n",
       "4  1.974671  3.361514              A"
      ]
     },
     "execution_count": 92,
     "metadata": {},
     "output_type": "execute_result"
    }
   ],
   "source": [
    "df = pd.read_csv(\"dataset/ex4.data\", sep=';', header=0, names=[\"x1\", \"x2\", \"category_class\"])\n",
    "X, y = np.squeeze(df[['x1', 'x2']]), np.squeeze(np.where(df[['category_class']] == 'A', 1, -1))\n",
    "df.head(5)"
   ]
  },
  {
   "cell_type": "code",
   "execution_count": 93,
   "metadata": {
    "ExecuteTime": {
     "end_time": "2019-06-05T09:26:48.614442Z",
     "start_time": "2019-06-05T09:26:48.580959Z"
    }
   },
   "outputs": [],
   "source": [
    "adaline_clfs = {}\n",
    "adaline_clfs[\"Adaline_CLF_1\"] = adaline.AdalineGD(random_state=1, n_iter=500, eta = 8e-08, threshold=None)\n",
    "adaline_clfs[\"Adaline_CLF_2\"] = adaline.AdalineGD(random_state=1, n_iter=500, eta = 1e-04, threshold=None)\n",
    "adaline_clfs[\"Adaline_CLF_3\"] = adaline.AdalineGD(random_state=1, n_iter=500, eta = 1.725e-03, threshold=None)"
   ]
  },
  {
   "cell_type": "code",
   "execution_count": 94,
   "metadata": {
    "ExecuteTime": {
     "end_time": "2019-06-05T09:26:51.126162Z",
     "start_time": "2019-06-05T09:26:49.705312Z"
    }
   },
   "outputs": [],
   "source": [
    "for i,_ in enumerate(adaline_clfs):\n",
    "    adaline_clfs[\"Adaline_CLF_\" + str(i+1)].fit(X, y)"
   ]
  },
  {
   "cell_type": "code",
   "execution_count": 95,
   "metadata": {
    "ExecuteTime": {
     "end_time": "2019-06-05T09:26:53.166446Z",
     "start_time": "2019-06-05T09:26:52.602870Z"
    }
   },
   "outputs": [
    {
     "name": "stdout",
     "output_type": "stream",
     "text": [
      "Adaline eta = 8e-08\n",
      "Cost:  38.84104735908988\n"
     ]
    },
    {
     "data": {
      "image/png": "[encoded data removed]",
      "text/plain": [
       "<Figure size 432x288 with 1 Axes>"
      ]
     },
     "metadata": {
      "needs_background": "light"
     },
     "output_type": "display_data"
    },
    {
     "data": {
      "image/png": "[encoded data removed]",
      "text/plain": [
       "<Figure size 432x288 with 1 Axes>"
      ]
     },
     "metadata": {
      "needs_background": "light"
     },
     "output_type": "display_data"
    }
   ],
   "source": [
    "plt.figure(1)\n",
    "ploting.plot_decision_regions(X.values, y, adaline_clfs[\"Adaline_CLF_1\"])\n",
    "plt.figure(2)\n",
    "plt.plot(adaline_clfs[\"Adaline_CLF_1\"].cost_)\n",
    "print(\"Adaline eta =\", 8e-08)\n",
    "print(\"Cost: \", adaline_clfs[\"Adaline_CLF_1\"].cost_[-1])\n"
   ]
  },
  {
   "cell_type": "code",
   "execution_count": 96,
   "metadata": {
    "ExecuteTime": {
     "end_time": "2019-06-05T09:26:59.851195Z",
     "start_time": "2019-06-05T09:26:59.350938Z"
    }
   },
   "outputs": [
    {
     "name": "stdout",
     "output_type": "stream",
     "text": [
      "Adaline eta = 0.0001\n",
      "Cost:  1.5721706118742347\n"
     ]
    },
    {
     "data": {
      "image/png": "[encoded data removed]",
      "text/plain": [
       "<Figure size 432x288 with 1 Axes>"
      ]
     },
     "metadata": {
      "needs_background": "light"
     },
     "output_type": "display_data"
    },
    {
     "data": {
      "image/png": "[encoded data removed]",
      "text/plain": [
       "<Figure size 432x288 with 1 Axes>"
      ]
     },
     "metadata": {
      "needs_background": "light"
     },
     "output_type": "display_data"
    }
   ],
   "source": [
    "plt.figure(1)\n",
    "ploting.plot_decision_regions(X.values, y, adaline_clfs[\"Adaline_CLF_2\"])\n",
    "plt.figure(2)\n",
    "plt.plot(adaline_clfs[\"Adaline_CLF_2\"].cost_)\n",
    "print(\"Adaline eta =\", 1e-04)\n",
    "print(\"Cost: \", adaline_clfs[\"Adaline_CLF_2\"].cost_[-1])"
   ]
  },
  {
   "cell_type": "code",
   "execution_count": 97,
   "metadata": {
    "ExecuteTime": {
     "end_time": "2019-06-05T09:27:02.604733Z",
     "start_time": "2019-06-05T09:27:02.107017Z"
    }
   },
   "outputs": [
    {
     "name": "stdout",
     "output_type": "stream",
     "text": [
      "Adaline eta = 0.001725\n",
      "Cost:  51097.67584035932\n"
     ]
    },
    {
     "data": {
      "image/png": "[encoded data removed]",
      "text/plain": [
       "<Figure size 432x288 with 1 Axes>"
      ]
     },
     "metadata": {
      "needs_background": "light"
     },
     "output_type": "display_data"
    },
    {
     "data": {
      "image/png": "[encoded data removed]",
      "text/plain": [
       "<Figure size 432x288 with 1 Axes>"
      ]
     },
     "metadata": {
      "needs_background": "light"
     },
     "output_type": "display_data"
    }
   ],
   "source": [
    "plt.figure(1)\n",
    "ploting.plot_decision_regions(X.values, y, adaline_clfs[\"Adaline_CLF_3\"])\n",
    "plt.figure(2)\n",
    "plt.plot(adaline_clfs[\"Adaline_CLF_3\"].cost_)\n",
    "print(\"Adaline eta =\", 1.725e-03)\n",
    "print(\"Cost: \", adaline_clfs[\"Adaline_CLF_3\"].cost_[-1])"
   ]
  },
  {
   "cell_type": "markdown",
   "metadata": {},
   "source": [
    "**Classificador 1 (*Adaline_CLF_1*)**:\n",
    "    \n",
    "    Por ter um valor muito baixo para o parâmetro eta, não conseguiu convergir num numero pequeno de iterações, e logo apresentou o maior valor para a função de custo em sua última iteração, sendo o pior entre os três.\n",
    "   \n",
    "   \n",
    "**Classificador 2 (*Adaline_CLF_2*)**:\n",
    "    \n",
    "    Apresentou o menor valor para a função de custo em sua última iteração, sendo o melhor entre os três, porém precisou de mais do que 100 iterações para convergir.\n",
    "    \n",
    "\n",
    "**Classificador 3 (*Adaline_CLF_3*)**:\n",
    "    \n",
    "    Apresentou o segundo menor valor para a função de custo em sua última iteração, e convergiu após poucas iterações, entretando começou a divergir após 300 iterações, aproximadamente.\n",
    "    \n",
    "Logo o melhor valor de *eta* para se encontrar o classificador com menor custo, e em poucas iterações, para este conjunto é $1.725 \\times 10^{-3}$"
   ]
  },
  {
   "cell_type": "markdown",
   "metadata": {},
   "source": [
    "### Exercício 5\n",
    "\n",
    "Conforme visto em aula, o coeficiente de aprendizado é um parâmetro importante para que o algoritmo de aprendizagem obtenha convergência em um número pequeno de iterações. Esse número de iterações para convergência está ligado diretamente com a escala e a média dos valores de características. Em aula, foi apresentado uma transformação **T** no dataset que visa manter a escala e a média igual para todas as características. Nesse exercício, você deve treinar dois classificadores Adaline Estocásticos com **eta=8e-5** e **random_state=1**. Seus classificadores devem executar até que o custo seja menor que **0.045**. Em um deles você não executa a transformação **T** no seu dataset e no outro você deve executar essa transformação. Explique a diferença no número de iterações do algoritmo de aprendizagem com e sem a transformação.\n",
    "\n",
    "**DICA**: Você pode alterar o código do classificador Adaline Estocástico para que ele forneça a quantidade de épocas executadas."
   ]
  },
  {
   "cell_type": "code",
   "execution_count": 98,
   "metadata": {
    "ExecuteTime": {
     "end_time": "2019-06-05T09:27:31.659253Z",
     "start_time": "2019-06-05T09:27:31.620889Z"
    }
   },
   "outputs": [],
   "source": [
    "from sklearn.preprocessing import StandardScaler\n",
    "from sklearn.pipeline import make_pipeline"
   ]
  },
  {
   "cell_type": "code",
   "execution_count": 99,
   "metadata": {
    "ExecuteTime": {
     "end_time": "2019-06-05T09:27:32.128476Z",
     "start_time": "2019-06-05T09:27:32.094341Z"
    }
   },
   "outputs": [],
   "source": [
    "scaler = StandardScaler()\n",
    "adaline_sgd_t = make_pipeline(scaler, adaline.AdalineSGD(eta=8e-5, random_state=1, threshold=0.045))\n",
    "adaline_sgd = adaline.AdalineSGD(eta=8e-5, random_state=1, threshold=0.045)"
   ]
  },
  {
   "cell_type": "code",
   "execution_count": 100,
   "metadata": {
    "ExecuteTime": {
     "end_time": "2019-06-05T09:27:33.272172Z",
     "start_time": "2019-06-05T09:27:32.577142Z"
    }
   },
   "outputs": [
    {
     "data": {
      "text/plain": [
       "<sebastian.adaline.AdalineSGD at 0x1266dfef0>"
      ]
     },
     "execution_count": 100,
     "metadata": {},
     "output_type": "execute_result"
    }
   ],
   "source": [
    "adaline_sgd_t.fit(X.values, y)\n",
    "adaline_sgd.fit(X.values, y)"
   ]
  },
  {
   "cell_type": "code",
   "execution_count": 101,
   "metadata": {
    "ExecuteTime": {
     "end_time": "2019-06-05T09:27:34.010204Z",
     "start_time": "2019-06-05T09:27:33.978933Z"
    }
   },
   "outputs": [
    {
     "name": "stdout",
     "output_type": "stream",
     "text": [
      "Número de iterações do classificador com transformação:  412\n",
      "Número de iterações do classificador sem transformação:  67\n"
     ]
    }
   ],
   "source": [
    "print(\"Número de iterações do classificador com transformação: \", adaline_sgd_t[1].iterations)\n",
    "print(\"Número de iterações do classificador sem transformação: \", adaline_sgd.iterations)"
   ]
  },
  {
   "cell_type": "code",
   "execution_count": 102,
   "metadata": {
    "ExecuteTime": {
     "end_time": "2019-06-05T09:27:35.755883Z",
     "start_time": "2019-06-05T09:27:35.319160Z"
    }
   },
   "outputs": [
    {
     "data": {
      "text/plain": [
       "[<matplotlib.lines.Line2D at 0x12436e6a0>]"
      ]
     },
     "execution_count": 102,
     "metadata": {},
     "output_type": "execute_result"
    },
    {
     "data": {
      "image/png": "[encoded data removed]",
      "text/plain": [
       "<Figure size 432x288 with 1 Axes>"
      ]
     },
     "metadata": {
      "needs_background": "light"
     },
     "output_type": "display_data"
    },
    {
     "data": {
      "image/png": "[encoded data removed]",
      "text/plain": [
       "<Figure size 432x288 with 1 Axes>"
      ]
     },
     "metadata": {
      "needs_background": "light"
     },
     "output_type": "display_data"
    }
   ],
   "source": [
    "plt.figure(1)\n",
    "plt.plot(adaline_sgd_t[1].cost_)\n",
    "plt.figure(2)\n",
    "plt.plot(adaline_sgd.cost_)"
   ]
  },
  {
   "cell_type": "markdown",
   "metadata": {},
   "source": [
    "Devido ao baixo valor do parâmetro *eta*, os dados que **não** foram transformados apresentam uma mais rápida convergência, porém mais abrupta. Enquanto os dados transformados apresentaram uma convergência mais demorada, porém mais suave. Se o parâmetro *eta* fosse maior, convergi-se-iam mais rapidamente os dados **transformados**."
   ]
  },
  {
   "cell_type": "markdown",
   "metadata": {},
   "source": [
    "### Exercício 6\n",
    "\n",
    "Durante as aulas, quando trocamos a função de ativação $\\Phi$ da **identidade** para a função **sigmoid** no classificador de regressão logística, trocamos também a função de custo do **Mean square error (MSE)** pelo logaritmo negativo da verossimilhança. Nesse exercício, vamos analisar o porquê de não utilizarmos o **MSE** com função de ativação do classificador de regressão logistica. Para isso, vamos fixar os valores de $b = 10$ e $w_2 = 0.05$. Então gere $2000$ pontos de $-50$ a $50$ para $w_1$. Utilizando a base de dados no arquivo **dataset/ex5.data** plote a função de custo **MSE** com a função sigmoid como ativação. Então analisando o gráfico, diga porque a função de custo **MSE** com sigmoid não é uma boa escolha para o treinamento de um classificador."
   ]
  },
  {
   "cell_type": "code",
   "execution_count": 103,
   "metadata": {
    "ExecuteTime": {
     "end_time": "2019-06-05T09:29:23.267783Z",
     "start_time": "2019-06-05T09:29:23.200025Z"
    }
   },
   "outputs": [
    {
     "data": {
      "text/html": [
       "<div>\n",
       "<style scoped>\n",
       "    .dataframe tbody tr th:only-of-type {\n",
       "        vertical-align: middle;\n",
       "    }\n",
       "\n",
       "    .dataframe tbody tr th {\n",
       "        vertical-align: top;\n",
       "    }\n",
       "\n",
       "    .dataframe thead th {\n",
       "        text-align: right;\n",
       "    }\n",
       "</style>\n",
       "<table border=\"1\" class=\"dataframe\">\n",
       "  <thead>\n",
       "    <tr style=\"text-align: right;\">\n",
       "      <th></th>\n",
       "      <th>x1</th>\n",
       "      <th>x2</th>\n",
       "      <th>category_class</th>\n",
       "    </tr>\n",
       "  </thead>\n",
       "  <tbody>\n",
       "    <tr>\n",
       "      <th>0</th>\n",
       "      <td>-0.304878</td>\n",
       "      <td>50.711947</td>\n",
       "      <td>A</td>\n",
       "    </tr>\n",
       "    <tr>\n",
       "      <th>1</th>\n",
       "      <td>-0.263086</td>\n",
       "      <td>32.297074</td>\n",
       "      <td>A</td>\n",
       "    </tr>\n",
       "    <tr>\n",
       "      <th>2</th>\n",
       "      <td>-0.535484</td>\n",
       "      <td>11.476711</td>\n",
       "      <td>A</td>\n",
       "    </tr>\n",
       "    <tr>\n",
       "      <th>3</th>\n",
       "      <td>0.433704</td>\n",
       "      <td>33.080361</td>\n",
       "      <td>A</td>\n",
       "    </tr>\n",
       "    <tr>\n",
       "      <th>4</th>\n",
       "      <td>-1.149769</td>\n",
       "      <td>15.811168</td>\n",
       "      <td>A</td>\n",
       "    </tr>\n",
       "  </tbody>\n",
       "</table>\n",
       "</div>"
      ],
      "text/plain": [
       "         x1         x2 category_class\n",
       "0 -0.304878  50.711947              A\n",
       "1 -0.263086  32.297074              A\n",
       "2 -0.535484  11.476711              A\n",
       "3  0.433704  33.080361              A\n",
       "4 -1.149769  15.811168              A"
      ]
     },
     "execution_count": 103,
     "metadata": {},
     "output_type": "execute_result"
    }
   ],
   "source": [
    "df = pd.read_csv(\"dataset/ex5.data\", sep=';', header=0, names=[\"x1\", \"x2\", \"category_class\"])\n",
    "X, y = np.squeeze(df[['x1', 'x2']]), np.squeeze(np.where(df[['category_class']] == 'A', 1, 0))\n",
    "df.head(5)"
   ]
  },
  {
   "cell_type": "code",
   "execution_count": 104,
   "metadata": {
    "ExecuteTime": {
     "end_time": "2019-06-05T09:29:24.816282Z",
     "start_time": "2019-06-05T09:29:24.777507Z"
    }
   },
   "outputs": [],
   "source": [
    "from sklearn.metrics import mean_squared_error, log_loss, accuracy_score"
   ]
  },
  {
   "cell_type": "code",
   "execution_count": 145,
   "metadata": {
    "ExecuteTime": {
     "end_time": "2019-06-05T10:01:06.247923Z",
     "start_time": "2019-06-05T10:01:03.314158Z"
    }
   },
   "outputs": [
    {
     "data": {
      "text/plain": [
       "<matplotlib.legend.Legend at 0x124a396a0>"
      ]
     },
     "execution_count": 145,
     "metadata": {},
     "output_type": "execute_result"
    },
    {
     "data": {
      "image/png": "[encoded data removed]",
      "text/plain": [
       "<Figure size 800x400 with 1 Axes>"
      ]
     },
     "metadata": {
      "needs_background": "light"
     },
     "output_type": "display_data"
    },
    {
     "data": {
      "image/png": "[encoded data removed]",
      "text/plain": [
       "<Figure size 800x400 with 1 Axes>"
      ]
     },
     "metadata": {
      "needs_background": "light"
     },
     "output_type": "display_data"
    }
   ],
   "source": [
    "def lr(w1, w2, b, x, y):\n",
    "    w = [w1, w2]\n",
    "    input_lr = np.dot(x, w) + b\n",
    "    activation = 1. / (1. + np.exp(-input_lr))\n",
    "    return log_loss(y, activation), mean_squared_error(y, activation), accuracy_score(y, np.where(activation >= 0.5, 1, 0))\n",
    "\n",
    "w1 = np.linspace(-50, 50, 2000)\n",
    "w2 = 0.5\n",
    "b = 10\n",
    "cost_mse = []\n",
    "cost_logloss = []\n",
    "accuracies = []\n",
    "for i in w1:\n",
    "    cost_mse_, cost_logloss_, accuracies_ = lr(i, w2, b, X, y)\n",
    "    cost_mse.append(cost_mse_)\n",
    "    cost_logloss.append(cost_logloss_)\n",
    "    accuracies.append(accuracies_)\n",
    "\n",
    "    \n",
    "plt.figure(1, figsize=(8,4), dpi=100)\n",
    "plt.title(\"Negative Log-Likelihood vs MSE\")\n",
    "plt.plot(cost_mse, alpha=0.7, label=\"MSE, min: {:.4f} at {}\".format(np.min(cost_mse), np.argmin(cost_mse)))\n",
    "plt.plot(cost_logloss, alpha=0.7, label=\"Negative Log-Likelihood, min: {:.4f} at {}\".format(np.min(cost_logloss), np.argmin(cost_logloss)))\n",
    "plt.legend()\n",
    "plt.figure(2, figsize=(8,4), dpi=100)\n",
    "plt.title(\"Accuracy at MSE min {:.2f}% vs Accuracy at Log-Loss min {:.2f}%\".format(accuracies[np.argmin(cost_mse)]*100, accuracies[np.argmin(cost_logloss)]*100))\n",
    "acc_idx = list(range(len(accuracies)))\n",
    "max_acc = accuracies.pop(np.argmin(cost_logloss))\n",
    "max_acc_idx = acc_idx.pop(np.argmin(cost_logloss))\n",
    "plt.plot(acc_idx, accuracies, alpha=0.7, marker='', color='blue', linestyle='dashed', label=\"Accuracy\")\n",
    "plt.plot(max_acc_idx, max_acc, alpha=1, marker='o', markersize=12, color='red', label=\"Max Accuracy (Min Log-Likelihood)\")\n",
    "plt.legend()"
   ]
  },
  {
   "cell_type": "markdown",
   "metadata": {},
   "source": [
    "Analisando o gráfico acima, podemos verificar que a maior acurácia encontra-se onde há o menor **negativo da verossimilhança**, e não no menor **MSE**. Diante disto, o **MSE** mostra-se uma medida ineficiente para ser utilizada como função de custo em um problema de classificação, com a função de ativação sigmoid."
   ]
  },
  {
   "cell_type": "code",
   "execution_count": 49,
   "metadata": {
    "ExecuteTime": {
     "end_time": "2019-06-05T09:02:21.773074Z",
     "start_time": "2019-06-05T09:02:21.655392Z"
    }
   },
   "outputs": [
    {
     "data": {
      "text/plain": [
       "array([[ 1.,  0.,  1.,  0.,  0.,  1.],\n",
       "       [ 1.,  2.,  3.,  4.,  6.,  9.],\n",
       "       [ 1.,  4.,  5., 16., 20., 25.]])"
      ]
     },
     "execution_count": 49,
     "metadata": {},
     "output_type": "execute_result"
    }
   ],
   "source": [
    "testx1 = np.array([0, 2, 4])\n",
    "testx1\n",
    "testx2 = np.array([1, 3, 5])\n",
    "testx2\n",
    "polynomials.feature2d_to_polynomial(testx1, testx2, 2)"
   ]
  },
  {
   "cell_type": "code",
   "execution_count": null,
   "metadata": {},
   "outputs": [],
   "source": []
  },
  {
   "cell_type": "markdown",
   "metadata": {},
   "source": [
    "### Exercício 7\n",
    "\n",
    "Nesse exercício você deve utilizar o classificador de regressão logística implementado pelo scikit-learn [LogisticRegression](https://scikit-learn.org/stable/modules/generated/sklearn.linear_model.LogisticRegression.html). \n",
    "\n",
    "Conforme visto em aula, é possível obter superfícies de decisão mais complexa que uma linha utilizando classificadores lineares transformando os vetores de características em polinômios. Nesse exercício, você deve implementar ou modificar as funções que estão no modulo **benlau/polynomials** assim como implementar a função **plot_logistic_regression_polynomials** na célula abaixo. Primeiro, você deve implementar a função **feature2d_to_polynomial** no modulo **benlau/polynomials** que recebe as listas **feature1**, **feature2** contendo todos os dados da primeira e segunda característica respectivamente, **poly_degree*** que denota o grau do polinômio e retorna uma matriz de características representando um polinômio de grau **poly_degree**. Depois, você deve modificar a função **plot_decision_regions_polynomials** que atualmente é uma cópia da função **plot_decision_regions** do livro do Sebastian e Mirjalili. Essa função recebe uma matriz contendo os vetores de características 2D **X**, o conjunto de classes **y**, um classificador treinado **classifier** e o grau do polinômio utilizado no treinamento do classificador **poly_degree** e você deve modificar para plotar os pontos dos vetores de características e as regiões de decisão.\n",
    "\n",
    "Então utilizando as funções modificadas e implementadas do modulo **benlau/polynomials** você deve implementar a função **plot_logistic_regression_polynomials_3** que recebe um parâmetro **C** e executa os seguintes passos: $(i)$ lê os dados do arquivo **dataset/ex6.data**, $(ii)$ transforma os vetores de características em polinômios de grau $3$, $(iii)$ treina um classificador de regressão logística utilizando **max_iter=200**, **random_state=1** e **C** igual ao valor do parâmetro **C** da função e $(iv)$ plota o dataset com a superfície de decisão.\n",
    "\n",
    "Note que a célula abaixo possui um **TextBox** interativo que permite você modificar o valor do parâmetro **C** interativamente e verificar a plotagem pressionando o **Enter**. Leia a documentação do classificador de regressão logística do scikit-learn e justamente com a plotagem da superfície de decisão para diferentes valores de **C** diga qual técnica vista em aula esse parâmetro corresponde e explique a relação desse parâmetro com a complexidade do modelo e o sobreajuste (*overfitting*)."
   ]
  },
  {
   "cell_type": "code",
   "execution_count": 51,
   "metadata": {
    "ExecuteTime": {
     "end_time": "2019-06-05T09:20:20.304000Z",
     "start_time": "2019-06-05T09:20:20.215338Z"
    }
   },
   "outputs": [
    {
     "data": {
      "text/html": [
       "<div>\n",
       "<style scoped>\n",
       "    .dataframe tbody tr th:only-of-type {\n",
       "        vertical-align: middle;\n",
       "    }\n",
       "\n",
       "    .dataframe tbody tr th {\n",
       "        vertical-align: top;\n",
       "    }\n",
       "\n",
       "    .dataframe thead th {\n",
       "        text-align: right;\n",
       "    }\n",
       "</style>\n",
       "<table border=\"1\" class=\"dataframe\">\n",
       "  <thead>\n",
       "    <tr style=\"text-align: right;\">\n",
       "      <th></th>\n",
       "      <th>x1</th>\n",
       "      <th>x2</th>\n",
       "      <th>category_class</th>\n",
       "    </tr>\n",
       "  </thead>\n",
       "  <tbody>\n",
       "    <tr>\n",
       "      <th>0</th>\n",
       "      <td>3.772873</td>\n",
       "      <td>4.368523</td>\n",
       "      <td>A</td>\n",
       "    </tr>\n",
       "    <tr>\n",
       "      <th>1</th>\n",
       "      <td>1.000645</td>\n",
       "      <td>1.949935</td>\n",
       "      <td>A</td>\n",
       "    </tr>\n",
       "    <tr>\n",
       "      <th>2</th>\n",
       "      <td>2.310039</td>\n",
       "      <td>4.583737</td>\n",
       "      <td>A</td>\n",
       "    </tr>\n",
       "    <tr>\n",
       "      <th>3</th>\n",
       "      <td>1.706173</td>\n",
       "      <td>2.960335</td>\n",
       "      <td>A</td>\n",
       "    </tr>\n",
       "    <tr>\n",
       "      <th>4</th>\n",
       "      <td>1.467030</td>\n",
       "      <td>3.384804</td>\n",
       "      <td>A</td>\n",
       "    </tr>\n",
       "    <tr>\n",
       "      <th>5</th>\n",
       "      <td>1.868684</td>\n",
       "      <td>3.943977</td>\n",
       "      <td>A</td>\n",
       "    </tr>\n",
       "    <tr>\n",
       "      <th>6</th>\n",
       "      <td>2.465124</td>\n",
       "      <td>3.063046</td>\n",
       "      <td>A</td>\n",
       "    </tr>\n",
       "    <tr>\n",
       "      <th>7</th>\n",
       "      <td>2.644829</td>\n",
       "      <td>2.289909</td>\n",
       "      <td>A</td>\n",
       "    </tr>\n",
       "    <tr>\n",
       "      <th>8</th>\n",
       "      <td>3.132948</td>\n",
       "      <td>1.874547</td>\n",
       "      <td>A</td>\n",
       "    </tr>\n",
       "    <tr>\n",
       "      <th>9</th>\n",
       "      <td>2.722556</td>\n",
       "      <td>1.413228</td>\n",
       "      <td>A</td>\n",
       "    </tr>\n",
       "    <tr>\n",
       "      <th>10</th>\n",
       "      <td>3.644917</td>\n",
       "      <td>3.840128</td>\n",
       "      <td>A</td>\n",
       "    </tr>\n",
       "    <tr>\n",
       "      <th>11</th>\n",
       "      <td>1.941019</td>\n",
       "      <td>2.798792</td>\n",
       "      <td>A</td>\n",
       "    </tr>\n",
       "    <tr>\n",
       "      <th>12</th>\n",
       "      <td>4.400643</td>\n",
       "      <td>1.754545</td>\n",
       "      <td>A</td>\n",
       "    </tr>\n",
       "    <tr>\n",
       "      <th>13</th>\n",
       "      <td>1.148996</td>\n",
       "      <td>4.408613</td>\n",
       "      <td>A</td>\n",
       "    </tr>\n",
       "    <tr>\n",
       "      <th>14</th>\n",
       "      <td>3.591955</td>\n",
       "      <td>2.206474</td>\n",
       "      <td>A</td>\n",
       "    </tr>\n",
       "    <tr>\n",
       "      <th>15</th>\n",
       "      <td>2.716025</td>\n",
       "      <td>2.705408</td>\n",
       "      <td>A</td>\n",
       "    </tr>\n",
       "    <tr>\n",
       "      <th>16</th>\n",
       "      <td>3.201205</td>\n",
       "      <td>2.287282</td>\n",
       "      <td>A</td>\n",
       "    </tr>\n",
       "    <tr>\n",
       "      <th>17</th>\n",
       "      <td>1.679184</td>\n",
       "      <td>3.444406</td>\n",
       "      <td>A</td>\n",
       "    </tr>\n",
       "    <tr>\n",
       "      <th>18</th>\n",
       "      <td>1.915929</td>\n",
       "      <td>3.274100</td>\n",
       "      <td>A</td>\n",
       "    </tr>\n",
       "    <tr>\n",
       "      <th>19</th>\n",
       "      <td>4.079499</td>\n",
       "      <td>3.343692</td>\n",
       "      <td>A</td>\n",
       "    </tr>\n",
       "    <tr>\n",
       "      <th>20</th>\n",
       "      <td>4.828272</td>\n",
       "      <td>2.175768</td>\n",
       "      <td>A</td>\n",
       "    </tr>\n",
       "    <tr>\n",
       "      <th>21</th>\n",
       "      <td>2.350191</td>\n",
       "      <td>2.245572</td>\n",
       "      <td>A</td>\n",
       "    </tr>\n",
       "    <tr>\n",
       "      <th>22</th>\n",
       "      <td>3.670579</td>\n",
       "      <td>2.129978</td>\n",
       "      <td>A</td>\n",
       "    </tr>\n",
       "    <tr>\n",
       "      <th>23</th>\n",
       "      <td>4.393095</td>\n",
       "      <td>2.401002</td>\n",
       "      <td>A</td>\n",
       "    </tr>\n",
       "    <tr>\n",
       "      <th>24</th>\n",
       "      <td>4.473704</td>\n",
       "      <td>1.695219</td>\n",
       "      <td>A</td>\n",
       "    </tr>\n",
       "    <tr>\n",
       "      <th>25</th>\n",
       "      <td>1.433322</td>\n",
       "      <td>1.784746</td>\n",
       "      <td>A</td>\n",
       "    </tr>\n",
       "    <tr>\n",
       "      <th>26</th>\n",
       "      <td>1.209431</td>\n",
       "      <td>4.805875</td>\n",
       "      <td>A</td>\n",
       "    </tr>\n",
       "    <tr>\n",
       "      <th>27</th>\n",
       "      <td>1.802062</td>\n",
       "      <td>4.786900</td>\n",
       "      <td>A</td>\n",
       "    </tr>\n",
       "    <tr>\n",
       "      <th>28</th>\n",
       "      <td>4.400753</td>\n",
       "      <td>1.877326</td>\n",
       "      <td>A</td>\n",
       "    </tr>\n",
       "    <tr>\n",
       "      <th>29</th>\n",
       "      <td>1.494470</td>\n",
       "      <td>1.132753</td>\n",
       "      <td>A</td>\n",
       "    </tr>\n",
       "    <tr>\n",
       "      <th>...</th>\n",
       "      <td>...</td>\n",
       "      <td>...</td>\n",
       "      <td>...</td>\n",
       "    </tr>\n",
       "    <tr>\n",
       "      <th>234</th>\n",
       "      <td>1.960347</td>\n",
       "      <td>-0.382463</td>\n",
       "      <td>B</td>\n",
       "    </tr>\n",
       "    <tr>\n",
       "      <th>235</th>\n",
       "      <td>6.211310</td>\n",
       "      <td>5.656922</td>\n",
       "      <td>B</td>\n",
       "    </tr>\n",
       "    <tr>\n",
       "      <th>236</th>\n",
       "      <td>5.923121</td>\n",
       "      <td>-0.599195</td>\n",
       "      <td>B</td>\n",
       "    </tr>\n",
       "    <tr>\n",
       "      <th>237</th>\n",
       "      <td>0.528038</td>\n",
       "      <td>4.006897</td>\n",
       "      <td>B</td>\n",
       "    </tr>\n",
       "    <tr>\n",
       "      <th>238</th>\n",
       "      <td>-0.190956</td>\n",
       "      <td>4.309611</td>\n",
       "      <td>B</td>\n",
       "    </tr>\n",
       "    <tr>\n",
       "      <th>239</th>\n",
       "      <td>5.927019</td>\n",
       "      <td>-1.218233</td>\n",
       "      <td>B</td>\n",
       "    </tr>\n",
       "    <tr>\n",
       "      <th>240</th>\n",
       "      <td>7.167714</td>\n",
       "      <td>3.111785</td>\n",
       "      <td>B</td>\n",
       "    </tr>\n",
       "    <tr>\n",
       "      <th>241</th>\n",
       "      <td>2.778870</td>\n",
       "      <td>6.464512</td>\n",
       "      <td>B</td>\n",
       "    </tr>\n",
       "    <tr>\n",
       "      <th>242</th>\n",
       "      <td>1.362987</td>\n",
       "      <td>7.264318</td>\n",
       "      <td>B</td>\n",
       "    </tr>\n",
       "    <tr>\n",
       "      <th>243</th>\n",
       "      <td>-1.097085</td>\n",
       "      <td>-0.192888</td>\n",
       "      <td>B</td>\n",
       "    </tr>\n",
       "    <tr>\n",
       "      <th>244</th>\n",
       "      <td>-0.976807</td>\n",
       "      <td>1.799074</td>\n",
       "      <td>B</td>\n",
       "    </tr>\n",
       "    <tr>\n",
       "      <th>245</th>\n",
       "      <td>4.784252</td>\n",
       "      <td>6.794455</td>\n",
       "      <td>B</td>\n",
       "    </tr>\n",
       "    <tr>\n",
       "      <th>246</th>\n",
       "      <td>3.139617</td>\n",
       "      <td>6.939963</td>\n",
       "      <td>B</td>\n",
       "    </tr>\n",
       "    <tr>\n",
       "      <th>247</th>\n",
       "      <td>6.627938</td>\n",
       "      <td>-0.486325</td>\n",
       "      <td>B</td>\n",
       "    </tr>\n",
       "    <tr>\n",
       "      <th>248</th>\n",
       "      <td>1.802893</td>\n",
       "      <td>0.399551</td>\n",
       "      <td>B</td>\n",
       "    </tr>\n",
       "    <tr>\n",
       "      <th>249</th>\n",
       "      <td>2.155329</td>\n",
       "      <td>6.168846</td>\n",
       "      <td>B</td>\n",
       "    </tr>\n",
       "    <tr>\n",
       "      <th>250</th>\n",
       "      <td>3.669330</td>\n",
       "      <td>6.660677</td>\n",
       "      <td>B</td>\n",
       "    </tr>\n",
       "    <tr>\n",
       "      <th>251</th>\n",
       "      <td>6.878034</td>\n",
       "      <td>1.795687</td>\n",
       "      <td>B</td>\n",
       "    </tr>\n",
       "    <tr>\n",
       "      <th>252</th>\n",
       "      <td>0.047821</td>\n",
       "      <td>5.972322</td>\n",
       "      <td>B</td>\n",
       "    </tr>\n",
       "    <tr>\n",
       "      <th>253</th>\n",
       "      <td>-1.063274</td>\n",
       "      <td>6.507681</td>\n",
       "      <td>B</td>\n",
       "    </tr>\n",
       "    <tr>\n",
       "      <th>254</th>\n",
       "      <td>6.740060</td>\n",
       "      <td>3.170352</td>\n",
       "      <td>B</td>\n",
       "    </tr>\n",
       "    <tr>\n",
       "      <th>255</th>\n",
       "      <td>-0.131741</td>\n",
       "      <td>1.781055</td>\n",
       "      <td>B</td>\n",
       "    </tr>\n",
       "    <tr>\n",
       "      <th>256</th>\n",
       "      <td>3.850015</td>\n",
       "      <td>-1.208659</td>\n",
       "      <td>B</td>\n",
       "    </tr>\n",
       "    <tr>\n",
       "      <th>257</th>\n",
       "      <td>-0.646603</td>\n",
       "      <td>-0.166024</td>\n",
       "      <td>B</td>\n",
       "    </tr>\n",
       "    <tr>\n",
       "      <th>258</th>\n",
       "      <td>3.680147</td>\n",
       "      <td>6.507822</td>\n",
       "      <td>B</td>\n",
       "    </tr>\n",
       "    <tr>\n",
       "      <th>259</th>\n",
       "      <td>6.644332</td>\n",
       "      <td>-1.161573</td>\n",
       "      <td>B</td>\n",
       "    </tr>\n",
       "    <tr>\n",
       "      <th>260</th>\n",
       "      <td>3.798114</td>\n",
       "      <td>-1.354162</td>\n",
       "      <td>B</td>\n",
       "    </tr>\n",
       "    <tr>\n",
       "      <th>261</th>\n",
       "      <td>2.513027</td>\n",
       "      <td>0.121868</td>\n",
       "      <td>B</td>\n",
       "    </tr>\n",
       "    <tr>\n",
       "      <th>262</th>\n",
       "      <td>3.796401</td>\n",
       "      <td>-1.068362</td>\n",
       "      <td>B</td>\n",
       "    </tr>\n",
       "    <tr>\n",
       "      <th>263</th>\n",
       "      <td>-0.724734</td>\n",
       "      <td>-0.682329</td>\n",
       "      <td>B</td>\n",
       "    </tr>\n",
       "  </tbody>\n",
       "</table>\n",
       "<p>264 rows × 3 columns</p>\n",
       "</div>"
      ],
      "text/plain": [
       "           x1        x2 category_class\n",
       "0    3.772873  4.368523              A\n",
       "1    1.000645  1.949935              A\n",
       "2    2.310039  4.583737              A\n",
       "3    1.706173  2.960335              A\n",
       "4    1.467030  3.384804              A\n",
       "5    1.868684  3.943977              A\n",
       "6    2.465124  3.063046              A\n",
       "7    2.644829  2.289909              A\n",
       "8    3.132948  1.874547              A\n",
       "9    2.722556  1.413228              A\n",
       "10   3.644917  3.840128              A\n",
       "11   1.941019  2.798792              A\n",
       "12   4.400643  1.754545              A\n",
       "13   1.148996  4.408613              A\n",
       "14   3.591955  2.206474              A\n",
       "15   2.716025  2.705408              A\n",
       "16   3.201205  2.287282              A\n",
       "17   1.679184  3.444406              A\n",
       "18   1.915929  3.274100              A\n",
       "19   4.079499  3.343692              A\n",
       "20   4.828272  2.175768              A\n",
       "21   2.350191  2.245572              A\n",
       "22   3.670579  2.129978              A\n",
       "23   4.393095  2.401002              A\n",
       "24   4.473704  1.695219              A\n",
       "25   1.433322  1.784746              A\n",
       "26   1.209431  4.805875              A\n",
       "27   1.802062  4.786900              A\n",
       "28   4.400753  1.877326              A\n",
       "29   1.494470  1.132753              A\n",
       "..        ...       ...            ...\n",
       "234  1.960347 -0.382463              B\n",
       "235  6.211310  5.656922              B\n",
       "236  5.923121 -0.599195              B\n",
       "237  0.528038  4.006897              B\n",
       "238 -0.190956  4.309611              B\n",
       "239  5.927019 -1.218233              B\n",
       "240  7.167714  3.111785              B\n",
       "241  2.778870  6.464512              B\n",
       "242  1.362987  7.264318              B\n",
       "243 -1.097085 -0.192888              B\n",
       "244 -0.976807  1.799074              B\n",
       "245  4.784252  6.794455              B\n",
       "246  3.139617  6.939963              B\n",
       "247  6.627938 -0.486325              B\n",
       "248  1.802893  0.399551              B\n",
       "249  2.155329  6.168846              B\n",
       "250  3.669330  6.660677              B\n",
       "251  6.878034  1.795687              B\n",
       "252  0.047821  5.972322              B\n",
       "253 -1.063274  6.507681              B\n",
       "254  6.740060  3.170352              B\n",
       "255 -0.131741  1.781055              B\n",
       "256  3.850015 -1.208659              B\n",
       "257 -0.646603 -0.166024              B\n",
       "258  3.680147  6.507822              B\n",
       "259  6.644332 -1.161573              B\n",
       "260  3.798114 -1.354162              B\n",
       "261  2.513027  0.121868              B\n",
       "262  3.796401 -1.068362              B\n",
       "263 -0.724734 -0.682329              B\n",
       "\n",
       "[264 rows x 3 columns]"
      ]
     },
     "execution_count": 51,
     "metadata": {},
     "output_type": "execute_result"
    }
   ],
   "source": [
    "df = pd.read_csv(\"dataset/ex6.data\", sep=';', header=0, names=[\"x1\", \"x2\", \"category_class\"])\n",
    "df"
   ]
  },
  {
   "cell_type": "code",
   "execution_count": 4,
   "metadata": {},
   "outputs": [
    {
     "data": {
      "application/vnd.jupyter.widget-view+json": {
       "model_id": "1dc673796eac4210947b7aaa5e1d1ac3",
       "version_major": 2,
       "version_minor": 0
      },
      "text/plain": [
       "interactive(children=(BoundedFloatText(value=0.0001, description='C:', max=5.0, min=0.0001, step=0.001), Outpu…"
      ]
     },
     "metadata": {},
     "output_type": "display_data"
    },
    {
     "data": {
      "text/plain": [
       "<function __main__.plot_logistic_regression_polynomials(C=0.0001)>"
      ]
     },
     "execution_count": 4,
     "metadata": {},
     "output_type": "execute_result"
    }
   ],
   "source": [
    "from __future__ import print_function\n",
    "from ipywidgets import interact, interactive, fixed, interact_manual\n",
    "import ipywidgets as widgets\n",
    "\n",
    "from sklearn.linear_model import LogisticRegression\n",
    "from benlau.polynomials import feature2d_to_polynomial, plot_decision_regions_polynomials\n",
    "\n",
    "import matplotlib.pyplot as plt\n",
    "import pandas as pd\n",
    "import numpy as np\n",
    "\n",
    "def plot_logistic_regression_polynomials(C=0.0001):\n",
    "    pass\n",
    "\n",
    "def plot_logistic_regression_polynomials_3(C=0.0001, poly_degree=3):\n",
    "    df = pd.read_csv(\"dataset/ex6.data\", sep=';', header=0, names=[\"x1\", \"x2\", \"category_class\"])\n",
    "    X, y = np.squeeze(df[['x1', 'x2']]), np.squeeze(np.where(df[['category_class']] == 'A', 1, 0))\n",
    "    pos , neg = (y==1).reshape(y.shape[0],1) , (y==0).reshape(y.shape[0],1)\n",
    "    X = polynomials.feature2d_to_polynomial(x)\n",
    "    plt.scatter(X[pos[:,0],1],X[pos[:,0],2],c=\"r\",marker=\"+\",label=\"A\")\n",
    "    plt.scatter(X[neg[:,0],1],X[neg[:,0],2],c=\"b\",marker=\"x\",label=\"B\")\n",
    "    \n",
    "interact(plot_logistic_regression_polynomials, \n",
    "         C=widgets.BoundedFloatText\n",
    "         (value=0.0001,\n",
    "          min=0.0001, \n",
    "          max=5.0,\n",
    "          step=0.001, \n",
    "          description=\"C:\", \n",
    "          disabled=False))"
   ]
  },
  {
   "cell_type": "markdown",
   "metadata": {},
   "source": []
  },
  {
   "cell_type": "markdown",
   "metadata": {},
   "source": [
    "### Exercício 8\n",
    "\n",
    "Nesse exercício, você deve utilizar o dataset no arquivo **\"dataset/heart.csv\"** que obtido pelo site [Kaggle](https://www.kaggle.com/ronitf/heart-disease-uci). Esse **dataset** é formado por linhas que representam atributos de pacientes diagnosticados com doença do coração ou não. Cada paciente possui os seguintes atributos:\n",
    "\n",
    "- 1. **age**: idade;\n",
    "- 2. **sex**: genero com 1 = masculino e 0 = feminino;\n",
    "- 3. **cp**: localização de dor no peito (*chest pain location*) com 1 = subesterna e 0 = caso contrário;\n",
    "- 4. **trestbps**: pressão arterial em repouso;\n",
    "- 5. **chol**: serum colesterol em mg/dl;\n",
    "- 6. **fbs**: diabetes em repouso (*fasting blood sugar) > 120 mg/dl;\n",
    "- 7. **restecg**: resultado de eletrocardiográfica em repouso (*resting electrocardiographic result). Valores de 0 a 2;\n",
    "- 8. **thalach**: Taxa de batimento do coração máxima;\n",
    "- 9. **exang**: angina induzida por exercício com 1 = sim e 0 = não;\n",
    "- 10. **oldpeak**: depressão ST induzida por exercício relativa com repouso;\n",
    "- 11. **slope**: Inclinação do pico no segmento do exercício ST com 1 = crescente, 2 = reto, 3 = decrescente;\n",
    "- 12. **ca**: Número de vasos principais (0-3) colorido com fluoroscopia;\n",
    "- 13. **thal**: 3 = normal, 6 = defeito fixo e 7 defeito reversivel;\n",
    "- 14. **target**: Diagnostico com 1 = paciente com doença e 0 = paciente sem doença.\n",
    "\n",
    "Nesse exercício, você deve utilizar os dados do dataset acima para estimar a probabilidade de uma pessoa ser diagnosticada com doença no coração de acordo com certo características. Para isso, você deve:\n",
    "\n",
    "- **Passo 1.** Lêr o dataset em **dataset/heart.csv**;\n",
    "- **Passo 2.** Remover as características categóricas. Ou seja, **mantenha** apenas as carateristicas **(1.) age**\n",
    "    **(3.) cp**, **(4.) cp**, **(8.) thalach**;\n",
    "- **Passo 3.** Treine um classificador que permita estimar a probabilidade de uma amostra pertencer a uma classe;\n",
    "- **Passo 4.** Gere um dataset de testes com pacientes com idade 30, 40, 50, 60 e 70. Para outras características, você deve gerar 10 amostras igualmente espaçadas entre o valor mínimo e o valor máximo e então gere o dataset com todas as possíveis combinações desses valores gerados incluindo a idade;\n",
    "- **Passo 4.** Utilizando o classificador treinado, estime a probabilidade de pacientes com 30, 40, 50, 60 e 70 anos possuírem doença do coração calculando a média da probabilidade de todas as amostras com a mesma idade. Exiba essas probabilidades;\n",
    "- **Passo 5** Para todas as outras características, divida cada uma delas em 5 intervalos, onde os 4 primeiros intervalos tem o mesmo tamanho e o último intervalo vai do fim do penúltimo intervalo até infinito. Para cada intervalo de cada característica, estime a probabilidade da amostra possuir doença do coração calculando a média das probabilidades estimadas pelo classificador treinado de todas as amostras com valores da característica dentro do intervalo. Exiba essas probabilidades.\n",
    "    \n",
    "Utilize a implementação do classificador da biblioteca do [scikit-learn](https://scikit-learn.org/stable/).\n",
    "\n",
    "****\n",
    "\n",
    "OBS.: observe que o método utilizado para estimar as probabilidades é muito simplificado. Nessa estimativa, estamos considerando que a probabilidade de um paciente aparacer com qualquer valor das características avaliadas é igual, ou seja, estamos considerando que as características são distribuídas uniformemente entre os pacientes. Uma estimativa mais robusta deve considerar as correlações entre as características avaliadas\n",
    "\n",
    "****"
   ]
  },
  {
   "cell_type": "code",
   "execution_count": null,
   "metadata": {},
   "outputs": [],
   "source": []
  },
  {
   "cell_type": "markdown",
   "metadata": {},
   "source": [
    "### Exercício 9\n",
    "\n",
    "Nesse exercício, vamos trabalhar com a distância das amostras mais próximas à superfície de decisão. Primeiro você deve ler os dados que estão no arquivo **dataset/ex8.data**. Esse dataset é um arquivo csv onde cada linha possui valores de 2 características e uma classe (**A** ou **B**). Então crie e treine $4$ classificadores: **Perceptron**, **Adaline** (SGDClassifier no scikit-learn), **Regressão Logística** e **SVM** (LinearSVC no scikit-learn). Treine eles com **random_state=1** e **max_iter=500**. Para **Regressão Logística** e **SVM** utilize a constante **C=1000**. Então para cada um desses classificadores encontre os pontos $x_p$ e $x_n$, tal que, $x_p$ é o ponto onde o valor $z_p = \\vec{w}^t \\vec{x_p} + b \\geq 0$ é mais próximo de $0$ e $x_n$ é ponto onde o valor $z_n = \\vec{w}^t \\vec{x_p} + b < 0$ é mais próximo de $0$. Plote a região de decisão para cada classificador e os hiperplanos $\\vec{w}^t \\vec{x_p} + b = z_n$ e $\\vec{w}^t \\vec{x_p} + b = z_p$. Exiba os valores de $z_p$, $z_n$ da margem de cada classificador. Exceto por erros numéricos, os valores obtidos pelo classificador **SVM** são os esperados pelo conteúdo visto em aula? Explique. Qual classificador tende a ter menor erro de generalização de acordo com o conteúdo discutido em aula? Por quê?"
   ]
  },
  {
   "cell_type": "code",
   "execution_count": null,
   "metadata": {},
   "outputs": [],
   "source": []
  },
  {
   "cell_type": "markdown",
   "metadata": {},
   "source": []
  },
  {
   "cell_type": "markdown",
   "metadata": {},
   "source": [
    "### Comentários"
   ]
  },
  {
   "cell_type": "markdown",
   "metadata": {},
   "source": [
    "Utilize a célula abaixo caso deseja comentar e passar o feedback sobre o exercício."
   ]
  },
  {
   "cell_type": "markdown",
   "metadata": {},
   "source": []
  }
 ],
 "metadata": {
  "kernelspec": {
   "display_name": "Python (Pattern Recognition)",
   "language": "python",
   "name": "pattern_rec_ime_usp"
  },
  "language_info": {
   "codemirror_mode": {
    "name": "ipython",
    "version": 3
   },
   "file_extension": ".py",
   "mimetype": "text/x-python",
   "name": "python",
   "nbconvert_exporter": "python",
   "pygments_lexer": "ipython3",
   "version": "3.7.3"
  },
  "toc": {
   "base_numbering": 1,
   "nav_menu": {},
   "number_sections": true,
   "sideBar": true,
   "skip_h1_title": false,
   "title_cell": "Table of Contents",
   "title_sidebar": "Contents",
   "toc_cell": false,
   "toc_position": {},
   "toc_section_display": true,
   "toc_window_display": false
  }
 },
 "nbformat": 4,
 "nbformat_minor": 2
}

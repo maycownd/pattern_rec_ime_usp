{
 "cells": [
  {
   "cell_type": "markdown",
   "metadata": {},
   "source": [
    "# Exercício Programa 2\n",
    "\n",
    "Nesse exercício, vamos praticar um pouco do conteúdo dado em aula. Para os exercícios (1) a (5), vamos utilizar as classes dos classificadores lineares e de plotagem de dados apresentados por Sebastian Rascka e Vahid Mirjalili no livro \"Python Machine Learning\". Dos exercícios (6) a (9), os classificadores implementados pelo scikit-learn serão utilizados."
   ]
  },
  {
   "cell_type": "markdown",
   "metadata": {},
   "source": [
    "### Exercício 1\n",
    "\n",
    "O Exercício disponibiliza o código desenvolvido no livro (\"Python Machine Learning\") na pasta \"sebastian\". Nessa pasta contém os seguintes arquivos:\n",
    "\n",
    "- **adaline:** Contém as classes **AdalineGD** que implementa o classificador linear \"Adaline\" visto em aula com o algoritmo \"em Batch\" e **AdalineSGD** que implementa o classificador linear \"Adaline\" visto em aula com o algoritmo \"estocástico\".\n",
    "- **perceptron:** Contém a classe **Perceptron** que implementa o classificador linear **Perceptron** com o algoritmo de Perceptron do Rosenblatt.\n",
    "- **logistic_regression:** Contém a classe **LogisticRegressionGD** que implementa o classificador de \"Regressão Logística\".\n",
    "- **ploting:** Contém a função **plot_decision_regions** que plota a região de decisão do classificador junto com um conjunto de vetores de características \"X\" e suas classes \"y\" e destaca um subconjunto dos mesmos indicado pelos índices em X e y no parâmetro **test_idx**.\n",
    "\n",
    "Note que a implementação dos classificadores lineares de Raschka e Mirjalili possuem algoritmos de aprendizado que sempre se encerra depois de uma certa quantidade de iterações (épocas). Nesse exercício pede-se, para que você modifique as implementações disponibilizadas para que cada classe de classificador linear (**AdalineGD**, **AdalineSGD**, **Perceptron** e **LogisticRegressionGD**) receba um limiar de custo em seu construtor que determina a quantidade de iterações do algoritmo de aprendizado da seguinte maneira:\n",
    "\n",
    "- Se o limiar de custo e o número de iterações (n_itr) não forem nulos, então o algoritmo se encerra quando o custo da iteração atual ser menor que o limiar de custo ou se algoritmo já executou n_itr épocas.\n",
    "- Se o limiar de custo for nulo, então o algoritmo de aprendizado se encerra apenas depois de executar n_itr épocas.\n",
    "- Se o número de iterações (n_itr) for nulo, então o algoritmo se encerra apenas quando o custo da iteração atual for menor que o limiar de custo.\n",
    "- Sempre considere que ou limiar de custo, ou número de iterações será não nulo.\n",
    "\n",
    "Na implementação do **Perceptron**, veja que não existe uma lista de custos como nas outras implementações, você deve deve considerar a lista de erros como o custo. Neste caso o custo $c$ do  **Perceptron** será:\n",
    "\n",
    "$$ c(w,b) = \\sum_{i=1}^n L(f(\\vec{x}^{(i)}, \\vec{w}, b), y^{(i)})  $$\n",
    "\n",
    "onde,\n",
    "\n",
    "$$ \n",
    "\\begin{align*}\n",
    "L(y', y) = \\begin{cases} 0 \\textrm{   se } y = y' \\\\ 1 \\textrm{   se } y \\not= y' \\end{cases} \\\\\n",
    "f(\\vec{x}^{(i)}, \\vec{w}, b) = \\begin{cases} \n",
    "    1  \\textrm{    se } \\vec{w}^t \\vec{x}^{(i)} + b \\geq 0 \\\\\n",
    "    -1 \\textrm{    se } \\vec{w}^t \\vec{x}^{(i)} + b < 0\n",
    "\\end{cases}\n",
    "\\end{align*}\n",
    "$$"
   ]
  },
  {
   "cell_type": "markdown",
   "metadata": {},
   "source": [
    "### Exercício 2\n",
    "\n",
    "No pacote do exercício, existe uma pasta chamada \"dataset\", essa pasta contém um \"arquivo csv\" chamado \"ex2.data\". Esse dataset é composto de duas características e mais uma classe \"A\" ou \"B\" para cada linha.\n",
    "\n",
    "Utilizando o teorema de convergência do **Perceptron** e os classificadores modificados do exercício anterior, mostre que o dataset é linearmente separável. Apresente a reta que separe os dados e número de iterações necessárias até a convergência.\n",
    "\n",
    "OBS.: Você pode (inclusive é encorajado) a modificar a classe **Perceptron** para encontrar as informações não disponíveis solicitadas no exercício."
   ]
  },
  {
   "cell_type": "code",
   "execution_count": 1,
   "metadata": {
    "ExecuteTime": {
     "end_time": "2019-05-21T02:45:20.005566Z",
     "start_time": "2019-05-21T02:45:19.696263Z"
    }
   },
   "outputs": [],
   "source": [
    "%load_ext autoreload\n",
    "%autoreload 2\n",
    "%matplotlib inline"
   ]
  },
  {
   "cell_type": "code",
   "execution_count": 2,
   "metadata": {
    "ExecuteTime": {
     "end_time": "2019-05-21T02:45:20.646749Z",
     "start_time": "2019-05-21T02:45:20.010028Z"
    }
   },
   "outputs": [],
   "source": [
    "import pandas as pd\n",
    "import numpy as np\n",
    "import sys\n",
    "from sebastian import perceptron, adaline, ploting, logistic_regression"
   ]
  },
  {
   "cell_type": "code",
   "execution_count": 3,
   "metadata": {
    "ExecuteTime": {
     "end_time": "2019-05-21T02:45:20.714906Z",
     "start_time": "2019-05-21T02:45:20.649045Z"
    }
   },
   "outputs": [
    {
     "data": {
      "text/html": [
       "<div>\n",
       "<style scoped>\n",
       "    .dataframe tbody tr th:only-of-type {\n",
       "        vertical-align: middle;\n",
       "    }\n",
       "\n",
       "    .dataframe tbody tr th {\n",
       "        vertical-align: top;\n",
       "    }\n",
       "\n",
       "    .dataframe thead th {\n",
       "        text-align: right;\n",
       "    }\n",
       "</style>\n",
       "<table border=\"1\" class=\"dataframe\">\n",
       "  <thead>\n",
       "    <tr style=\"text-align: right;\">\n",
       "      <th></th>\n",
       "      <th>x1</th>\n",
       "      <th>x2</th>\n",
       "      <th>class</th>\n",
       "    </tr>\n",
       "  </thead>\n",
       "  <tbody>\n",
       "    <tr>\n",
       "      <th>0</th>\n",
       "      <td>5.248691</td>\n",
       "      <td>6.517258</td>\n",
       "      <td>1</td>\n",
       "    </tr>\n",
       "    <tr>\n",
       "      <th>1</th>\n",
       "      <td>0.776487</td>\n",
       "      <td>4.567870</td>\n",
       "      <td>1</td>\n",
       "    </tr>\n",
       "    <tr>\n",
       "      <th>2</th>\n",
       "      <td>0.943656</td>\n",
       "      <td>4.612453</td>\n",
       "      <td>1</td>\n",
       "    </tr>\n",
       "    <tr>\n",
       "      <th>3</th>\n",
       "      <td>-0.145937</td>\n",
       "      <td>4.256271</td>\n",
       "      <td>1</td>\n",
       "    </tr>\n",
       "    <tr>\n",
       "      <th>4</th>\n",
       "      <td>3.730815</td>\n",
       "      <td>5.043636</td>\n",
       "      <td>1</td>\n",
       "    </tr>\n",
       "  </tbody>\n",
       "</table>\n",
       "</div>"
      ],
      "text/plain": [
       "         x1        x2  class\n",
       "0  5.248691  6.517258      1\n",
       "1  0.776487  4.567870      1\n",
       "2  0.943656  4.612453      1\n",
       "3 -0.145937  4.256271      1\n",
       "4  3.730815  5.043636      1"
      ]
     },
     "execution_count": 3,
     "metadata": {},
     "output_type": "execute_result"
    }
   ],
   "source": [
    "df = pd.read_csv(\"dataset/ex2.data\", sep=\";\", header=None, names=['x1', 'x2', 'y'])\n",
    "df['class'] = np.where(df['y'] == 'A', 1, -1)\n",
    "df.drop(['y'], inplace=True, axis=1)\n",
    "X, y = df.iloc[:, :2].values, df['class'].values\n",
    "df.head(5)"
   ]
  },
  {
   "cell_type": "code",
   "execution_count": 4,
   "metadata": {
    "ExecuteTime": {
     "end_time": "2019-05-21T02:45:22.400510Z",
     "start_time": "2019-05-21T02:45:21.987948Z"
    }
   },
   "outputs": [
    {
     "name": "stdout",
     "output_type": "stream",
     "text": [
      "Número de Iterações: 10: \n"
     ]
    },
    {
     "data": {
      "image/png": "[encoded data removed]",
      "text/plain": [
       "<Figure size 432x288 with 1 Axes>"
      ]
     },
     "metadata": {
      "needs_background": "light"
     },
     "output_type": "display_data"
    }
   ],
   "source": [
    "percep = perceptron.Perceptron(random_state=9999, threshold=sys.float_info.epsilon, n_iter=1000)\n",
    "percep.fit(X, y)\n",
    "n_iterations = percep.return_iterations()\n",
    "print(\"Número de Iterações: %d: \" % n_iterations )\n",
    "ploting.plot_decision_regions(X, y, percep)"
   ]
  },
  {
   "cell_type": "markdown",
   "metadata": {},
   "source": [
    "### Exercício 3\n",
    "\n",
    "Nesse exercício, você utilizará os dados disponíveis em \"dataset/ex3.data\". Leia esses dados e separe $30\\%$ das amostras para teste a mantenha os outros $70\\%$ para treino utilizando a função **train_test_split** do scikit-learn com **random_state=1** e **stratify=y** (veja um exemplo na seção \"First steps with scikit-learn – training a\n",
    "perceptron\" do capitulo $3$ do livro do Sebastian). Depois treine dois classificadores: \n",
    "\n",
    "1. **AdalineSGD:** Com os parâmetros n_iter=1500, eta=0.001, random_state=1 e limiar de custo = None\n",
    "2. **Perceptron:** Com os parâmetros n_iter=1500, eta=0.001, random_state=1 e limiar de custo = None\n",
    "\n",
    "Agora, plote a região de decisão dos dois classificadores juntamente com a base de dados (treino e teste), destaque as amostras da base de teste e imprima a quantidade de predição incorreta da base de treino para cada classificador.\n",
    "\n",
    "Observando as plotagens, responda:\n",
    "\n",
    "- **(1)** Considerando o conceito de margem e erro de generalização visto em aula. Visualmente qual dos classificadores aparenta ter menor erro de generalização.\n",
    "- **(2)** Analisando o desempenho de teste dos seus classificadores, qual obteve o melhor resultado (menos erros nos dados de teste). Relacione esse resultado com a análise do exercício anterior."
   ]
  },
  {
   "cell_type": "code",
   "execution_count": 96,
   "metadata": {
    "ExecuteTime": {
     "end_time": "2019-05-21T03:12:44.917887Z",
     "start_time": "2019-05-21T03:12:44.867271Z"
    }
   },
   "outputs": [
    {
     "data": {
      "text/html": [
       "<div>\n",
       "<style scoped>\n",
       "    .dataframe tbody tr th:only-of-type {\n",
       "        vertical-align: middle;\n",
       "    }\n",
       "\n",
       "    .dataframe tbody tr th {\n",
       "        vertical-align: top;\n",
       "    }\n",
       "\n",
       "    .dataframe thead th {\n",
       "        text-align: right;\n",
       "    }\n",
       "</style>\n",
       "<table border=\"1\" class=\"dataframe\">\n",
       "  <thead>\n",
       "    <tr style=\"text-align: right;\">\n",
       "      <th></th>\n",
       "      <th>x1</th>\n",
       "      <th>x2</th>\n",
       "      <th>class</th>\n",
       "    </tr>\n",
       "  </thead>\n",
       "  <tbody>\n",
       "    <tr>\n",
       "      <th>0</th>\n",
       "      <td>5.248691</td>\n",
       "      <td>6.655406</td>\n",
       "      <td>A</td>\n",
       "    </tr>\n",
       "    <tr>\n",
       "      <th>1</th>\n",
       "      <td>0.776487</td>\n",
       "      <td>2.225614</td>\n",
       "      <td>A</td>\n",
       "    </tr>\n",
       "    <tr>\n",
       "      <th>2</th>\n",
       "      <td>0.943656</td>\n",
       "      <td>2.878100</td>\n",
       "      <td>A</td>\n",
       "    </tr>\n",
       "    <tr>\n",
       "      <th>3</th>\n",
       "      <td>-0.145937</td>\n",
       "      <td>1.729269</td>\n",
       "      <td>A</td>\n",
       "    </tr>\n",
       "    <tr>\n",
       "      <th>4</th>\n",
       "      <td>3.730815</td>\n",
       "      <td>5.495548</td>\n",
       "      <td>A</td>\n",
       "    </tr>\n",
       "  </tbody>\n",
       "</table>\n",
       "</div>"
      ],
      "text/plain": [
       "         x1        x2 class\n",
       "0  5.248691  6.655406     A\n",
       "1  0.776487  2.225614     A\n",
       "2  0.943656  2.878100     A\n",
       "3 -0.145937  1.729269     A\n",
       "4  3.730815  5.495548     A"
      ]
     },
     "execution_count": 96,
     "metadata": {},
     "output_type": "execute_result"
    }
   ],
   "source": [
    "df = pd.read_csv(\"dataset/ex3.data\", sep=';', header=None, names=['x1', 'x2', 'class'])\n",
    "X, y = np.squeeze(df[['x1', 'x2']]), np.squeeze(np.where(df[['class']] == 'A', 1, -1))\n",
    "df.head(5)"
   ]
  },
  {
   "cell_type": "code",
   "execution_count": 97,
   "metadata": {
    "ExecuteTime": {
     "end_time": "2019-05-21T03:12:45.647156Z",
     "start_time": "2019-05-21T03:12:45.617249Z"
    }
   },
   "outputs": [],
   "source": [
    "from sklearn.model_selection import train_test_split"
   ]
  },
  {
   "cell_type": "code",
   "execution_count": 98,
   "metadata": {
    "ExecuteTime": {
     "end_time": "2019-05-21T03:12:46.006334Z",
     "start_time": "2019-05-21T03:12:45.967671Z"
    }
   },
   "outputs": [],
   "source": [
    "x_train, x_test, y_train, y_test = train_test_split(X, y, test_size=0.7, random_state=1, stratify=y)"
   ]
  },
  {
   "cell_type": "code",
   "execution_count": 101,
   "metadata": {
    "ExecuteTime": {
     "end_time": "2019-05-21T03:13:09.502588Z",
     "start_time": "2019-05-21T03:13:07.429988Z"
    }
   },
   "outputs": [
    {
     "data": {
      "text/plain": [
       "<sebastian.perceptron.Perceptron at 0x114e83da0>"
      ]
     },
     "execution_count": 101,
     "metadata": {},
     "output_type": "execute_result"
    }
   ],
   "source": [
    "adaline_clf = adaline.AdalineSGD(eta=0.001, n_iter=1500, random_state=1)\n",
    "perceptron_clf = perceptron.Perceptron(eta=0.001, n_iter=1500, random_state=1)\n",
    "adaline_clf.fit(x_train.values, y_train)\n",
    "perceptron_clf.fit(x_train.values, y_train)"
   ]
  },
  {
   "cell_type": "code",
   "execution_count": 125,
   "metadata": {
    "ExecuteTime": {
     "end_time": "2019-05-21T03:25:55.968766Z",
     "start_time": "2019-05-21T03:25:55.556792Z"
    }
   },
   "outputs": [
    {
     "name": "stdout",
     "output_type": "stream",
     "text": [
      "0 amostras malclassificadas no treino (Perceptron)\n"
     ]
    },
    {
     "data": {
      "image/png": "[encoded data removed]",
      "text/plain": [
       "<Figure size 432x288 with 1 Axes>"
      ]
     },
     "metadata": {
      "needs_background": "light"
     },
     "output_type": "display_data"
    }
   ],
   "source": [
    "ploting.plot_decision_regions(X.values, y, perceptron_clf, test_idx=x_test.index.tolist())\n",
    "y_train_perceptron = perceptron_clf.predict(x_train.values)\n",
    "error_train_perceptron = y_train - y_train_perceptron\n",
    "print(\"%d amostras malclassificadas no treino (Perceptron)\" % error_train_perceptron[error_train_perceptron!=0].sum())"
   ]
  },
  {
   "cell_type": "code",
   "execution_count": 126,
   "metadata": {
    "ExecuteTime": {
     "end_time": "2019-05-21T03:25:56.868634Z",
     "start_time": "2019-05-21T03:25:56.485998Z"
    }
   },
   "outputs": [
    {
     "name": "stdout",
     "output_type": "stream",
     "text": [
      "0 amostras malclassificadas no treino (Adaline)\n"
     ]
    },
    {
     "data": {
      "image/png": "[encoded data removed]",
      "text/plain": [
       "<Figure size 432x288 with 1 Axes>"
      ]
     },
     "metadata": {
      "needs_background": "light"
     },
     "output_type": "display_data"
    }
   ],
   "source": [
    "ploting.plot_decision_regions(X.values, y, adaline_clf, test_idx=x_test.index.tolist())\n",
    "y_train_adaline = adaline_clf.predict(x_train.values)\n",
    "error_train_adaline = y_train - y_train_adaline\n",
    "print(\"%d amostras malclassificadas no treino (Adaline)\" % error_train_adaline[error_train_adaline!=0].sum())"
   ]
  },
  {
   "cell_type": "markdown",
   "metadata": {},
   "source": [
    "O classificador **Adaline** aparenta ter o menor erro de generalização, visto que este separa as duas classes com uma margem melhor"
   ]
  },
  {
   "cell_type": "code",
   "execution_count": 132,
   "metadata": {
    "ExecuteTime": {
     "end_time": "2019-05-21T03:28:33.187970Z",
     "start_time": "2019-05-21T03:28:33.149522Z"
    }
   },
   "outputs": [
    {
     "name": "stdout",
     "output_type": "stream",
     "text": [
      "Quantidade de amostras malclassificadas no conjunto de teste (Perceptron): 2\n",
      "Quantidade de amostras malclassificadas no conjunto de teste (Adaline): 0\n"
     ]
    }
   ],
   "source": [
    "error_test_perceptron = y_test - perceptron_clf.predict(x_test.values)\n",
    "error_test_adaline= y_test - adaline_clf.predict(x_test.values)\n",
    "n_error_test_perceptron = error_test_perceptron.sum()\n",
    "n_error_test_adaline = error_test_adaline.sum()\n",
    "print(\"Quantidade de amostras malclassificadas no conjunto de teste (Perceptron): %d\" % n_error_test_perceptron)\n",
    "print(\"Quantidade de amostras malclassificadas no conjunto de teste (Adaline): %d\" % n_error_test_adaline)"
   ]
  },
  {
   "cell_type": "markdown",
   "metadata": {},
   "source": [
    "O classificador Perceptron apresenta duas amostras malclassificadas no conjunto de teste, enquanto o Adaline não apresenta nenhuma. Isto reforça a análise visual anterior, de que o classificador Adaline possui um menor erro de generalização."
   ]
  },
  {
   "cell_type": "markdown",
   "metadata": {},
   "source": []
  },
  {
   "cell_type": "markdown",
   "metadata": {},
   "source": [
    "### Exercício 4\n",
    "\n",
    "Vamos utilizar os dados no dataset do arquivo \"dataset/ex4.data\". Nesse exercício, você deve treinar $3$ classificadores **Adaline** com **random_state=1**, **n_iter=500**, **limiar de custo** = **None**. Então utilize\n",
    "**eta=$8 \\times 10^{-8}$** para o primeiro classificador, **eta=$1 \\times 10^{-4}$** para o segundo classificador e **eta=$1.725 \\times 10^{-3}$** para o terceiro classificador. Plote o dataset e a superfície de decisão de cada classificador e a função de custo e relacione os gráficos da função de custo com a superfície de decisão. Dentre os valores avaliados qual o valor de **eta** mais adequado para encontrar o classificador com o menor custo em um número baixo de iterações."
   ]
  },
  {
   "cell_type": "code",
   "execution_count": null,
   "metadata": {},
   "outputs": [],
   "source": []
  },
  {
   "cell_type": "markdown",
   "metadata": {},
   "source": []
  },
  {
   "cell_type": "markdown",
   "metadata": {},
   "source": [
    "### Exercício 5\n",
    "\n",
    "Conforme visto em aula, o coeficiente de aprendizado é um parâmetro importante para que o algoritmo de aprendizagem obtenha convergência em um número pequeno de iterações. Esse número de iterações para convergência está ligado diretamente com a escala e a média dos valores de características. Em aula, foi apresentado uma transformação **T** no dataset que visa manter a escala e a média igual para todas as características. Nesse exercício, você deve treinar dois classificadores Adaline Estocásticos com **eta=8e-5** e **random_state=1**. Seus classificadores devem executar até que o custo seja menor que **0.045**. Em um deles você não executa a transformação **T** no seu dataset e no outro você deve executar essa transformação. Explique a diferença no número de iterações do algoritmo de aprendizagem com e sem a transformação.\n",
    "\n",
    "**DICA**: Você pode alterar o código do classificador Adaline Estocástico para que ele forneça a quantidade de épocas executadas."
   ]
  },
  {
   "cell_type": "code",
   "execution_count": null,
   "metadata": {},
   "outputs": [],
   "source": []
  },
  {
   "cell_type": "markdown",
   "metadata": {},
   "source": []
  },
  {
   "cell_type": "markdown",
   "metadata": {},
   "source": [
    "### Exercício 6\n",
    "\n",
    "Durante as aulas, quando trocamos a função de ativação $\\Phi$ da **identidade** para a função **sigmoid** no classificador de regressão logística, trocamos também a função de custo do **Mean square error (MSE)** pelo logaritmo negativo da verossimilhança. Nesse exercício, vamos analisar o porquê de não utilizarmos o **MSE** com função de ativação do classificador de regressão logistica. Para isso, vamos fixar os valores de $b = 10$ e $w_2 = 0.05$. Então gere $2000$ pontos de $-50$ a $50$ para $w_1$. Utilizando a base de dados no arquivo **dataset/ex5.data** plote a função de custo **MSE** com a função sigmoid como ativação. Então analisando o gráfico, diga porque a função de custo **MSE** com sigmoid não é uma boa escolha para o treinamento de um classificador."
   ]
  },
  {
   "cell_type": "code",
   "execution_count": null,
   "metadata": {},
   "outputs": [],
   "source": []
  },
  {
   "cell_type": "markdown",
   "metadata": {},
   "source": []
  },
  {
   "cell_type": "markdown",
   "metadata": {},
   "source": [
    "### Exercício 7\n",
    "\n",
    "Nesse exercício você deve utilizar o classificador de regressão logística implementado pelo scikit-learn [LogisticRegression](https://scikit-learn.org/stable/modules/generated/sklearn.linear_model.LogisticRegression.html). \n",
    "\n",
    "Conforme visto em aula, é possível obter superfícies de decisão mais complexa que uma linha utilizando classificadores lineares transformando os vetores de características em polinômios. Nesse exercício, você deve implementar ou modificar as funções que estão no modulo **benlau/polynomials** assim como implementar a função **plot_logistic_regression_polynomials** na célula abaixo. Primeiro, você deve implementar a função **feature2d_to_polynomial** no modulo **benlau/polynomials** que recebe as listas **feature1**, **feature2** contendo todos os dados da primeira e segunda característica respectivamente, **poly_degree*** que denota o grau do polinômio e retorna uma matriz de características representando um polinômio de grau **poly_degree**. Depois, você deve modificar a função **plot_decision_regions_polynomials** que atualmente é uma cópia da função **plot_decision_regions** do livro do Sebastian e Mirjalili. Essa função recebe uma matriz contendo os vetores de características 2D **X**, o conjunto de classes **y**, um classificador treinado **classifier** e o grau do polinômio utilizado no treinamento do classificador **poly_degree** e você deve modificar para plotar os pontos dos vetores de características e as regiões de decisão.\n",
    "\n",
    "Então utilizando as funções modificadas e implementadas do modulo **benlau/polynomials** você deve implementar a função **plot_logistic_regression_polynomials_3** que recebe um parâmetro **C** e executa os seguintes passos: $(i)$ lê os dados do arquivo **dataset/ex6.data**, $(ii)$ transforma os vetores de características em polinômios de grau $3$, $(iii)$ treina um classificador de regressão logística utilizando **max_iter=200**, **random_state=1** e **C** igual ao valor do parâmetro **C** da função e $(iv)$ plota o dataset com a superfície de decisão.\n",
    "\n",
    "Note que a célula abaixo possui um **TextBox** interativo que permite você modificar o valor do parâmetro **C** interativamente e verificar a plotagem pressionando o **Enter**. Leia a documentação do classificador de regressão logística do scikit-learn e justamente com a plotagem da superfície de decisão para diferentes valores de **C** diga qual técnica vista em aula esse parâmetro corresponde e explique a relação desse parâmetro com a complexidade do modelo e o sobreajuste (*overfitting*)."
   ]
  },
  {
   "cell_type": "code",
   "execution_count": 4,
   "metadata": {},
   "outputs": [
    {
     "data": {
      "application/vnd.jupyter.widget-view+json": {
       "model_id": "1dc673796eac4210947b7aaa5e1d1ac3",
       "version_major": 2,
       "version_minor": 0
      },
      "text/plain": [
       "interactive(children=(BoundedFloatText(value=0.0001, description='C:', max=5.0, min=0.0001, step=0.001), Outpu…"
      ]
     },
     "metadata": {},
     "output_type": "display_data"
    },
    {
     "data": {
      "text/plain": [
       "<function __main__.plot_logistic_regression_polynomials(C=0.0001)>"
      ]
     },
     "execution_count": 4,
     "metadata": {},
     "output_type": "execute_result"
    }
   ],
   "source": [
    "from __future__ import print_function\n",
    "from ipywidgets import interact, interactive, fixed, interact_manual\n",
    "import ipywidgets as widgets\n",
    "\n",
    "from sklearn.linear_model import LogisticRegression\n",
    "from benlau.polynomials import feature2d_to_polynomial, plot_decision_regions_polynomials\n",
    "\n",
    "import matplotlib.pyplot as plt\n",
    "import pandas as pd\n",
    "import numpy as np\n",
    "\n",
    "def plot_logistic_regression_polynomials(C=0.0001):\n",
    "    pass\n",
    "    \n",
    "interact(plot_logistic_regression_polynomials, \n",
    "         C=widgets.BoundedFloatText\n",
    "         (value=0.0001,\n",
    "          min=0.0001, \n",
    "          max=5.0,\n",
    "          step=0.001, \n",
    "          description=\"C:\", \n",
    "          disabled=False))"
   ]
  },
  {
   "cell_type": "markdown",
   "metadata": {},
   "source": []
  },
  {
   "cell_type": "markdown",
   "metadata": {},
   "source": [
    "### Exercício 8\n",
    "\n",
    "Nesse exercício, você deve utilizar o dataset no arquivo **\"dataset/heart.csv\"** que obtido pelo site [Kaggle](https://www.kaggle.com/ronitf/heart-disease-uci). Esse **dataset** é formado por linhas que representam atributos de pacientes diagnosticados com doença do coração ou não. Cada paciente possui os seguintes atributos:\n",
    "\n",
    "- 1. **age**: idade;\n",
    "- 2. **sex**: genero com 1 = masculino e 0 = feminino;\n",
    "- 3. **cp**: localização de dor no peito (*chest pain location*) com 1 = subesterna e 0 = caso contrário;\n",
    "- 4. **trestbps**: pressão arterial em repouso;\n",
    "- 5. **chol**: serum colesterol em mg/dl;\n",
    "- 6. **fbs**: diabetes em repouso (*fasting blood sugar) > 120 mg/dl;\n",
    "- 7. **restecg**: resultado de eletrocardiográfica em repouso (*resting electrocardiographic result). Valores de 0 a 2;\n",
    "- 8. **thalach**: Taxa de batimento do coração máxima;\n",
    "- 9. **exang**: angina induzida por exercício com 1 = sim e 0 = não;\n",
    "- 10. **oldpeak**: depressão ST induzida por exercício relativa com repouso;\n",
    "- 11. **slope**: Inclinação do pico no segmento do exercício ST com 1 = crescente, 2 = reto, 3 = decrescente;\n",
    "- 12. **ca**: Número de vasos principais (0-3) colorido com fluoroscopia;\n",
    "- 13. **thal**: 3 = normal, 6 = defeito fixo e 7 defeito reversivel;\n",
    "- 14. **target**: Diagnostico com 1 = paciente com doença e 0 = paciente sem doença.\n",
    "\n",
    "Nesse exercício, você deve utilizar os dados do dataset acima para estimar a probabilidade de uma pessoa ser diagnosticada com doença no coração de acordo com certo características. Para isso, você deve:\n",
    "\n",
    "- **Passo 1.** Lêr o dataset em **dataset/heart.csv**;\n",
    "- **Passo 2.** Remover as características categóricas. Ou seja, **mantenha** apenas as carateristicas **(1.) age**\n",
    "    **(3.) cp**, **(4.) cp**, **(8.) thalach**;\n",
    "- **Passo 3.** Treine um classificador que permita estimar a probabilidade de uma amostra pertencer a uma classe;\n",
    "- **Passo 4.** Gere um dataset de testes com pacientes com idade 30, 40, 50, 60 e 70. Para outras características, você deve gerar 10 amostras igualmente espaçadas entre o valor mínimo e o valor máximo e então gere o dataset com todas as possíveis combinações desses valores gerados incluindo a idade;\n",
    "- **Passo 4.** Utilizando o classificador treinado, estime a probabilidade de pacientes com 30, 40, 50, 60 e 70 anos possuírem doença do coração calculando a média da probabilidade de todas as amostras com a mesma idade. Exiba essas probabilidades;\n",
    "- **Passo 5** Para todas as outras características, divida cada uma delas em 5 intervalos, onde os 4 primeiros intervalos tem o mesmo tamanho e o último intervalo vai do fim do penúltimo intervalo até infinito. Para cada intervalo de cada característica, estime a probabilidade da amostra possuir doença do coração calculando a média das probabilidades estimadas pelo classificador treinado de todas as amostras com valores da característica dentro do intervalo. Exiba essas probabilidades.\n",
    "    \n",
    "Utilize a implementação do classificador da biblioteca do [scikit-learn](https://scikit-learn.org/stable/).\n",
    "\n",
    "****\n",
    "\n",
    "OBS.: observe que o método utilizado para estimar as probabilidades é muito simplificado. Nessa estimativa, estamos considerando que a probabilidade de um paciente aparacer com qualquer valor das características avaliadas é igual, ou seja, estamos considerando que as características são distribuídas uniformemente entre os pacientes. Uma estimativa mais robusta deve considerar as correlações entre as características avaliadas\n",
    "\n",
    "****"
   ]
  },
  {
   "cell_type": "code",
   "execution_count": null,
   "metadata": {},
   "outputs": [],
   "source": []
  },
  {
   "cell_type": "markdown",
   "metadata": {},
   "source": [
    "### Exercício 9\n",
    "\n",
    "Nesse exercício, vamos trabalhar com a distância das amostras mais próximas à superfície de decisão. Primeiro você deve ler os dados que estão no arquivo **dataset/ex8.data**. Esse dataset é um arquivo csv onde cada linha possui valores de 2 características e uma classe (**A** ou **B**). Então crie e treine $4$ classificadores: **Perceptron**, **Adaline** (SGDClassifier no scikit-learn), **Regressão Logística** e **SVM** (LinearSVC no scikit-learn). Treine eles com **random_state=1** e **max_iter=500**. Para **Regressão Logística** e **SVM** utilize a constante **C=1000**. Então para cada um desses classificadores encontre os pontos $x_p$ e $x_n$, tal que, $x_p$ é o ponto onde o valor $z_p = \\vec{w}^t \\vec{x_p} + b \\geq 0$ é mais próximo de $0$ e $x_n$ é ponto onde o valor $z_n = \\vec{w}^t \\vec{x_p} + b < 0$ é mais próximo de $0$. Plote a região de decisão para cada classificador e os hiperplanos $\\vec{w}^t \\vec{x_p} + b = z_n$ e $\\vec{w}^t \\vec{x_p} + b = z_p$. Exiba os valores de $z_p$, $z_n$ da margem de cada classificador. Exceto por erros numéricos, os valores obtidos pelo classificador **SVM** são os esperados pelo conteúdo visto em aula? Explique. Qual classificador tende a ter menor erro de generalização de acordo com o conteúdo discutido em aula? Por quê?"
   ]
  },
  {
   "cell_type": "code",
   "execution_count": null,
   "metadata": {},
   "outputs": [],
   "source": []
  },
  {
   "cell_type": "markdown",
   "metadata": {},
   "source": []
  },
  {
   "cell_type": "markdown",
   "metadata": {},
   "source": [
    "### Comentários"
   ]
  },
  {
   "cell_type": "markdown",
   "metadata": {},
   "source": [
    "Utilize a célula abaixo caso deseja comentar e passar o feedback sobre o exercício."
   ]
  },
  {
   "cell_type": "markdown",
   "metadata": {},
   "source": []
  }
 ],
 "metadata": {
  "kernelspec": {
   "display_name": "Python (Pattern Recognition)",
   "language": "python",
   "name": "pattern_rec_ime_usp"
  },
  "language_info": {
   "codemirror_mode": {
    "name": "ipython",
    "version": 3
   },
   "file_extension": ".py",
   "mimetype": "text/x-python",
   "name": "python",
   "nbconvert_exporter": "python",
   "pygments_lexer": "ipython3",
   "version": "3.7.3"
  },
  "toc": {
   "base_numbering": 1,
   "nav_menu": {},
   "number_sections": true,
   "sideBar": true,
   "skip_h1_title": false,
   "title_cell": "Table of Contents",
   "title_sidebar": "Contents",
   "toc_cell": false,
   "toc_position": {},
   "toc_section_display": true,
   "toc_window_display": false
  }
 },
 "nbformat": 4,
 "nbformat_minor": 2
}

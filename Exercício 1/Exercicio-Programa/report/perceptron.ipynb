{
 "cells": [
  {
   "cell_type": "markdown",
   "metadata": {},
   "source": [
    "## Parte 2 - Implementação, treinamento e teste do Perceptron"
   ]
  },
  {
   "cell_type": "markdown",
   "metadata": {},
   "source": [
    "Antes de iniciar a implementação do Perceptron, vamos verificar o nosso dataset. A primeira pergunta a ser fazer é\n",
    "se os dataset é linearmente separável ou não. Caso seja podemos utilizar o algoritmo de Rosenblatt para encontrar os pesos $\\vec{w}$ e o número $b$ que induzem uma reta que separa os pontos por um superfície de decisão.\n",
    "\n",
    "Python facilita o tratamento dos dados do dataset porque possui bibliotecas (módulos) com funcionalidades prontas para que possamos trabalhar com esses dados e plota-los. as bibliotecas mais comuns para realizar esse tipo de tarefa são:\n",
    "\n",
    "- **NumPy **: Para operações matriciais\n",
    "- **Pandas **: Para leitura e manipulação de dados\n",
    "- **matplotlib **: Para plotar gráficos.\n",
    "\n",
    "Primeiramente vamos realizar as importações mais comuns para realizar essa plotagem."
   ]
  },
  {
   "cell_type": "code",
   "execution_count": 1,
   "metadata": {
    "ExecuteTime": {
     "end_time": "2019-04-26T02:58:34.997748Z",
     "start_time": "2019-04-26T02:58:29.831480Z"
    }
   },
   "outputs": [],
   "source": [
    "%load_ext autoreload\n",
    "%autoreload 2"
   ]
  },
  {
   "cell_type": "code",
   "execution_count": 180,
   "metadata": {
    "ExecuteTime": {
     "end_time": "2019-04-26T00:34:49.086090Z",
     "start_time": "2019-04-26T00:34:49.082094Z"
    }
   },
   "outputs": [],
   "source": [
    "import numpy as np # importa NumPy com alias np\n",
    "import pandas as pd # importa pandas com alias pd\n",
    "import matplotlib.pyplot as plt # importa modulo matplotlib.pyplot com alias pd\n",
    "\n",
    "# Importing cufflinks and plotly for interactive visualization\n",
    "import cufflinks as cf\n",
    "import plotly\n",
    "import plotly.graph_objs as go\n",
    "from plotly.offline import download_plotlyjs, init_notebook_mode, plot, iplot"
   ]
  },
  {
   "cell_type": "code",
   "execution_count": 181,
   "metadata": {},
   "outputs": [
    {
     "name": "stdout",
     "output_type": "stream",
     "text": [
      "numpy : 1.16.3\n",
      "pandas : 0.24.2\n",
      "cufflinks : 0.15\n",
      "plotly : 3.8.1\n"
     ]
    }
   ],
   "source": [
    "# lib versions\n",
    "print(np.__name__, \":\", np.__version__)\n",
    "print(pd.__name__, \":\", pd.__version__)\n",
    "print(cf.__name__, \":\", cf.__version__)\n",
    "print(plotly.__name__, \":\", plotly.__version__)\n"
   ]
  },
  {
   "cell_type": "code",
   "execution_count": 182,
   "metadata": {
    "ExecuteTime": {
     "end_time": "2019-04-26T00:10:55.532204Z",
     "start_time": "2019-04-26T00:10:55.526227Z"
    }
   },
   "outputs": [
    {
     "data": {
      "text/html": [
       "        <script type=\"text/javascript\">\n",
       "        window.PlotlyConfig = {MathJaxConfig: 'local'};\n",
       "        if (window.MathJax) {MathJax.Hub.Config({SVG: {font: \"STIX-Web\"}});}\n",
       "        if (typeof require !== 'undefined') {\n",
       "        require.undef(\"plotly\");\n",
       "        requirejs.config({\n",
       "            paths: {\n",
       "                'plotly': ['https://cdn.plot.ly/plotly-latest.min']\n",
       "            }\n",
       "        });\n",
       "        require(['plotly'], function(Plotly) {\n",
       "            window._Plotly = Plotly;\n",
       "        });\n",
       "        }\n",
       "        </script>\n",
       "        "
      ]
     },
     "metadata": {},
     "output_type": "display_data"
    }
   ],
   "source": [
    "init_notebook_mode(connected=True)"
   ]
  },
  {
   "cell_type": "code",
   "execution_count": 183,
   "metadata": {
    "ExecuteTime": {
     "end_time": "2019-04-26T00:11:06.143750Z",
     "start_time": "2019-04-26T00:11:06.135738Z"
    }
   },
   "outputs": [
    {
     "data": {
      "text/html": [
       "        <script type=\"text/javascript\">\n",
       "        window.PlotlyConfig = {MathJaxConfig: 'local'};\n",
       "        if (window.MathJax) {MathJax.Hub.Config({SVG: {font: \"STIX-Web\"}});}\n",
       "        if (typeof require !== 'undefined') {\n",
       "        require.undef(\"plotly\");\n",
       "        requirejs.config({\n",
       "            paths: {\n",
       "                'plotly': ['https://cdn.plot.ly/plotly-latest.min']\n",
       "            }\n",
       "        });\n",
       "        require(['plotly'], function(Plotly) {\n",
       "            window._Plotly = Plotly;\n",
       "        });\n",
       "        }\n",
       "        </script>\n",
       "        "
      ]
     },
     "metadata": {},
     "output_type": "display_data"
    }
   ],
   "source": [
    "cf.go_offline()"
   ]
  },
  {
   "cell_type": "markdown",
   "metadata": {},
   "source": [
    "Agora vamos plotar os dados salvos no arquivo \"exemplo.csv\":"
   ]
  },
  {
   "cell_type": "code",
   "execution_count": 184,
   "metadata": {
    "ExecuteTime": {
     "end_time": "2019-04-26T00:01:23.410253Z",
     "start_time": "2019-04-26T00:01:23.399252Z"
    }
   },
   "outputs": [
    {
     "name": "stdout",
     "output_type": "stream",
     "text": [
      "feature1;feature2;label\n",
      "3;4;0\n",
      "2;5;0\n",
      "4;6;0\n",
      "1;3;1\n",
      "3;2;1\n",
      "2;0;1\n"
     ]
    }
   ],
   "source": [
    "with open(\"exemplo.csv\") as file:\n",
    "    print(file.read())"
   ]
  },
  {
   "cell_type": "markdown",
   "metadata": {},
   "source": [
    "Como mostrado acima, o arquivo \"exemplo.csv\" possui um cabeçalho (\"feature1\", \"feature2\" e \"label\") e linhas com valores para as características e rotulo. Nesse arquivo, cada linha (exceto o cabeçalho) são amostras de \"feature1\" e \"feature2\" que estão associados com o rotulo 0 ou 1. Primeira coisa que faremos será ler esses dados em um DataFrame da biblioteca Pandas conforme exibido abaixo:"
   ]
  },
  {
   "cell_type": "code",
   "execution_count": 185,
   "metadata": {
    "ExecuteTime": {
     "end_time": "2019-04-26T00:12:03.672242Z",
     "start_time": "2019-04-26T00:12:03.659243Z"
    }
   },
   "outputs": [
    {
     "data": {
      "text/html": [
       "<div>\n",
       "<style scoped>\n",
       "    .dataframe tbody tr th:only-of-type {\n",
       "        vertical-align: middle;\n",
       "    }\n",
       "\n",
       "    .dataframe tbody tr th {\n",
       "        vertical-align: top;\n",
       "    }\n",
       "\n",
       "    .dataframe thead th {\n",
       "        text-align: right;\n",
       "    }\n",
       "</style>\n",
       "<table border=\"1\" class=\"dataframe\">\n",
       "  <thead>\n",
       "    <tr style=\"text-align: right;\">\n",
       "      <th></th>\n",
       "      <th>feature1</th>\n",
       "      <th>feature2</th>\n",
       "      <th>label</th>\n",
       "    </tr>\n",
       "  </thead>\n",
       "  <tbody>\n",
       "    <tr>\n",
       "      <th>0</th>\n",
       "      <td>3</td>\n",
       "      <td>4</td>\n",
       "      <td>0</td>\n",
       "    </tr>\n",
       "    <tr>\n",
       "      <th>1</th>\n",
       "      <td>2</td>\n",
       "      <td>5</td>\n",
       "      <td>0</td>\n",
       "    </tr>\n",
       "    <tr>\n",
       "      <th>2</th>\n",
       "      <td>4</td>\n",
       "      <td>6</td>\n",
       "      <td>0</td>\n",
       "    </tr>\n",
       "    <tr>\n",
       "      <th>3</th>\n",
       "      <td>1</td>\n",
       "      <td>3</td>\n",
       "      <td>1</td>\n",
       "    </tr>\n",
       "    <tr>\n",
       "      <th>4</th>\n",
       "      <td>3</td>\n",
       "      <td>2</td>\n",
       "      <td>1</td>\n",
       "    </tr>\n",
       "    <tr>\n",
       "      <th>5</th>\n",
       "      <td>2</td>\n",
       "      <td>0</td>\n",
       "      <td>1</td>\n",
       "    </tr>\n",
       "  </tbody>\n",
       "</table>\n",
       "</div>"
      ],
      "text/plain": [
       "   feature1  feature2  label\n",
       "0         3         4      0\n",
       "1         2         5      0\n",
       "2         4         6      0\n",
       "3         1         3      1\n",
       "4         3         2      1\n",
       "5         2         0      1"
      ]
     },
     "metadata": {},
     "output_type": "display_data"
    }
   ],
   "source": [
    "df = pd.read_csv(\"exemplo.csv\", delimiter=\";\")\n",
    "display(df)"
   ]
  },
  {
   "cell_type": "markdown",
   "metadata": {},
   "source": [
    "Agora, vamos separar esses dados em duas variáveis. Uma variável $X$ que será uma matriz onde cada linha é um vetor de características e $y$ que é uma lista de rótulos. Essas duas variáveis serão relacionadas pela linha em $X$ e pela ordem do rotulo em $y$, por exemplo, o vetor de característica em $X$[i] possui o rotulo $y$[i]. O código abaixo realiza essa separação."
   ]
  },
  {
   "cell_type": "code",
   "execution_count": 186,
   "metadata": {
    "ExecuteTime": {
     "end_time": "2019-04-26T00:01:29.692265Z",
     "start_time": "2019-04-26T00:01:29.663263Z"
    }
   },
   "outputs": [
    {
     "data": {
      "text/plain": [
       "array([[3, 4],\n",
       "       [2, 5],\n",
       "       [4, 6],\n",
       "       [1, 3],\n",
       "       [3, 2],\n",
       "       [2, 0]])"
      ]
     },
     "metadata": {},
     "output_type": "display_data"
    },
    {
     "data": {
      "text/plain": [
       "array([0, 0, 0, 1, 1, 1])"
      ]
     },
     "metadata": {},
     "output_type": "display_data"
    }
   ],
   "source": [
    "# pegamos todas as linhas das colunas \"feature1\" e \"feature2\" e convertemos para um array do NumPy (chamando values)\n",
    "X = df[[\"feature1\", \"feature2\"]].values \n",
    "y = df[\"label\"].values # pegamos todos os rotulos e convertemos para um array NumPy.\n",
    "\n",
    "display(X, y)"
   ]
  },
  {
   "cell_type": "markdown",
   "metadata": {},
   "source": [
    "Para nosso exemplo, a classe negativa será $0$ e a classe positiva $1$. Logo precisaremos converter os números $0$ em $-1$ conforme exibido abaixo:"
   ]
  },
  {
   "cell_type": "code",
   "execution_count": 187,
   "metadata": {
    "ExecuteTime": {
     "end_time": "2019-04-26T00:01:38.203913Z",
     "start_time": "2019-04-26T00:01:38.197910Z"
    }
   },
   "outputs": [
    {
     "data": {
      "text/plain": [
       "array([-1, -1, -1,  1,  1,  1])"
      ]
     },
     "metadata": {},
     "output_type": "display_data"
    }
   ],
   "source": [
    "# função que verifica se cada item cumpre a condição y == 0, se sim é transformado em -1 senão 1\n",
    "y = np.where(y == 0, -1, 1) \n",
    "display(y)"
   ]
  },
  {
   "cell_type": "markdown",
   "metadata": {},
   "source": [
    "Agora que temos os dados no formato que gostaríamos, vamos utilizar matplotlib para plotar um gráfico de dispersão das nossas características. Para isso vamos utilizar a função *scatter* que recebe uma lista de coordenadas da abscissa, uma lista de coordenadas de ordenadas (relacionadas pela ordem na lista) e configurações\n",
    "de marcadores e cores para plotar os pontos no gráfico. Conforme o código abaixo:"
   ]
  },
  {
   "cell_type": "code",
   "execution_count": 188,
   "metadata": {
    "ExecuteTime": {
     "end_time": "2019-04-26T00:12:10.726124Z",
     "start_time": "2019-04-26T00:12:10.597136Z"
    }
   },
   "outputs": [
    {
     "data": {
      "image/png": "[encoded data removed]",
      "text/plain": [
       "<Figure size 432x288 with 1 Axes>"
      ]
     },
     "metadata": {
      "needs_background": "light"
     },
     "output_type": "display_data"
    }
   ],
   "source": [
    "# comando para plotagem direta no Jupyter notebook\n",
    "%matplotlib inline\n",
    "\n",
    "# plotar os pontos da classe positiva em azul com marcadores em \"x\":\n",
    "plt.scatter(X[y == 1, 0], X[y == 1, 1], color=\"blue\", marker=\"x\")\n",
    "\n",
    "#plotar os pontos da classe negativa em vermelho com marcadores \"o\"\n",
    "plt.scatter(X[y == -1, 0], X[y == -1, 1], color=\"red\", marker=\"o\")\n",
    "\n",
    "# exibe o gráfico.\n",
    "plt.show()"
   ]
  },
  {
   "cell_type": "markdown",
   "metadata": {},
   "source": [
    "## Exercícios"
   ]
  },
  {
   "cell_type": "markdown",
   "metadata": {},
   "source": [
    "**1)** Conforme apresentado acima, leia o arquivo \"treino.csv\" gerado na **parte 1** desse exercício. Plote os dados contidos no arquivo em um gráfico de dispersão, configure o conjunto de vetores de características em uma matriz \"$X$\" onde cada linha é o vetor de características, configure o conjunto de labels \"$y$\" tal que o conjunto de labels esteja relacionada com \"$X$\" por suas ordens, ou seja, a amostra na linha $i$ da matriz $X$ possui o rotulo $y$ na posição $i$.\n",
    "\n",
    "Realiza a importação dos módulos necessários, plote os gráficos de dispersão com marcador \"x\" e cor azul para as amostras de classe positiva e marcador \"o\" e cor \"vermelha\" para as amostras de classe negativa. Visualmente diga se os dados são linearmente separáveis ou não."
   ]
  },
  {
   "cell_type": "code",
   "execution_count": 189,
   "metadata": {
    "ExecuteTime": {
     "end_time": "2019-04-26T00:13:36.415962Z",
     "start_time": "2019-04-26T00:13:36.331949Z"
    }
   },
   "outputs": [],
   "source": [
    "df_train = pd.read_csv(\"dataset/treino.csv\", sep=\";\")"
   ]
  },
  {
   "cell_type": "code",
   "execution_count": 190,
   "metadata": {
    "ExecuteTime": {
     "end_time": "2019-04-26T04:46:34.503110Z",
     "start_time": "2019-04-26T04:46:34.369107Z"
    }
   },
   "outputs": [
    {
     "data": {
      "text/html": [
       "<div>\n",
       "<style scoped>\n",
       "    .dataframe tbody tr th:only-of-type {\n",
       "        vertical-align: middle;\n",
       "    }\n",
       "\n",
       "    .dataframe tbody tr th {\n",
       "        vertical-align: top;\n",
       "    }\n",
       "\n",
       "    .dataframe thead th {\n",
       "        text-align: right;\n",
       "    }\n",
       "</style>\n",
       "<table border=\"1\" class=\"dataframe\">\n",
       "  <thead>\n",
       "    <tr style=\"text-align: right;\">\n",
       "      <th></th>\n",
       "      <th>sepal width</th>\n",
       "      <th>sepal length</th>\n",
       "      <th>type</th>\n",
       "    </tr>\n",
       "  </thead>\n",
       "  <tbody>\n",
       "    <tr>\n",
       "      <th>0</th>\n",
       "      <td>4.8</td>\n",
       "      <td>3.4</td>\n",
       "      <td>1</td>\n",
       "    </tr>\n",
       "    <tr>\n",
       "      <th>1</th>\n",
       "      <td>4.9</td>\n",
       "      <td>3.1</td>\n",
       "      <td>1</td>\n",
       "    </tr>\n",
       "    <tr>\n",
       "      <th>2</th>\n",
       "      <td>5.0</td>\n",
       "      <td>3.4</td>\n",
       "      <td>1</td>\n",
       "    </tr>\n",
       "    <tr>\n",
       "      <th>3</th>\n",
       "      <td>5.4</td>\n",
       "      <td>3.9</td>\n",
       "      <td>1</td>\n",
       "    </tr>\n",
       "    <tr>\n",
       "      <th>4</th>\n",
       "      <td>5.7</td>\n",
       "      <td>2.8</td>\n",
       "      <td>0</td>\n",
       "    </tr>\n",
       "  </tbody>\n",
       "</table>\n",
       "</div>"
      ],
      "text/plain": [
       "   sepal width  sepal length  type\n",
       "0          4.8           3.4     1\n",
       "1          4.9           3.1     1\n",
       "2          5.0           3.4     1\n",
       "3          5.4           3.9     1\n",
       "4          5.7           2.8     0"
      ]
     },
     "execution_count": 190,
     "metadata": {},
     "output_type": "execute_result"
    }
   ],
   "source": [
    "X = df_train.loc[:, [\"sepal width\", \"sepal length\"]].values\n",
    "y = df_train.loc[:, [\"type\"]].values\n",
    "y[y==0] = -1\n",
    "df_train.head(5)\n"
   ]
  },
  {
   "cell_type": "code",
   "execution_count": 191,
   "metadata": {
    "ExecuteTime": {
     "end_time": "2019-04-26T04:46:47.927465Z",
     "start_time": "2019-04-26T04:46:47.629465Z"
    }
   },
   "outputs": [
    {
     "data": {
      "application/vnd.plotly.v1+json": {
       "config": {
        "linkText": "Export to plot.ly",
        "plotlyServerURL": "https://plot.ly",
        "responsive": true,
        "showLink": false
       },
       "data": [
        {
         "marker": {
          "color": "rgba(255, 0, 0, 0.8)",
          "size": 10,
          "symbol": "circle"
         },
         "mode": "markers",
         "name": "Iris Versicolor",
         "text": [
          "Iris Versicolor",
          "Iris Versicolor",
          "Iris Versicolor",
          "Iris Versicolor",
          "Iris Versicolor",
          "Iris Versicolor",
          "Iris Versicolor",
          "Iris Versicolor",
          "Iris Versicolor",
          "Iris Versicolor"
         ],
         "type": "scatter",
         "uid": "938bc0ba-77fb-4e4b-8e8d-b95b22ded12d",
         "x": [
          5.7,
          6.4,
          7,
          6.9,
          6.5,
          7,
          6.4,
          6.9,
          5.5,
          6.5
         ],
         "y": [
          2.8,
          3.2,
          3.2,
          3.1,
          2.8,
          3.2,
          3.2,
          3.1,
          2.3,
          2.8
         ]
        },
        {
         "marker": {
          "color": "rgba(0, 0, 255, 0.8)",
          "size": 10,
          "symbol": "x"
         },
         "mode": "markers",
         "name": "Iris Setosa",
         "text": [
          "Iris Setosa",
          "Iris Setosa",
          "Iris Setosa",
          "Iris Setosa",
          "Iris Setosa",
          "Iris Setosa",
          "Iris Setosa",
          "Iris Setosa",
          "Iris Setosa",
          "Iris Setosa",
          "Iris Setosa"
         ],
         "type": "scatter",
         "uid": "47736366-c007-4329-a695-f5c156131717",
         "x": [
          4.8,
          4.9,
          5,
          5.4,
          4.4,
          5.4,
          5,
          4.4,
          4.9,
          5.4,
          4.8
         ],
         "y": [
          3.4,
          3.1,
          3.4,
          3.9,
          2.9,
          3.7,
          3.4,
          2.9,
          3.1,
          3.7,
          3.4
         ]
        }
       ],
       "layout": {
        "title": {
         "text": "Iris Classes"
        },
        "xaxis": {
         "ticklen": 5,
         "title": {
          "text": "Sepal Width"
         },
         "zeroline": false
        },
        "yaxis": {
         "ticklen": 5,
         "title": {
          "text": "Sepal Length"
         },
         "zeroline": false
        }
       }
      },
      "text/html": [
       "<div>\n",
       "        \n",
       "        \n",
       "            <div id=\"7258b08f-faa9-4f07-98d5-ad0b1bb67072\" class=\"plotly-graph-div\" style=\"height:525px; width:100%;\"></div>\n",
       "            <script type=\"text/javascript\">\n",
       "                require([\"plotly\"], function(Plotly) {\n",
       "                    window.PLOTLYENV=window.PLOTLYENV || {};\n",
       "                    window.PLOTLYENV.BASE_URL='https://plot.ly';\n",
       "                    \n",
       "                if (document.getElementById(\"7258b08f-faa9-4f07-98d5-ad0b1bb67072\")) {\n",
       "                    Plotly.newPlot(\n",
       "                        '7258b08f-faa9-4f07-98d5-ad0b1bb67072',\n",
       "                        [{\"marker\": {\"color\": \"rgba(255, 0, 0, 0.8)\", \"size\": 10, \"symbol\": \"circle\"}, \"mode\": \"markers\", \"name\": \"Iris Versicolor\", \"text\": [\"Iris Versicolor\", \"Iris Versicolor\", \"Iris Versicolor\", \"Iris Versicolor\", \"Iris Versicolor\", \"Iris Versicolor\", \"Iris Versicolor\", \"Iris Versicolor\", \"Iris Versicolor\", \"Iris Versicolor\"], \"type\": \"scatter\", \"uid\": \"6707193e-f6dd-4167-8451-6d95b1351feb\", \"x\": [5.7, 6.4, 7.0, 6.9, 6.5, 7.0, 6.4, 6.9, 5.5, 6.5], \"y\": [2.8, 3.2, 3.2, 3.1, 2.8, 3.2, 3.2, 3.1, 2.3, 2.8]}, {\"marker\": {\"color\": \"rgba(0, 0, 255, 0.8)\", \"size\": 10, \"symbol\": \"x\"}, \"mode\": \"markers\", \"name\": \"Iris Setosa\", \"text\": [\"Iris Setosa\", \"Iris Setosa\", \"Iris Setosa\", \"Iris Setosa\", \"Iris Setosa\", \"Iris Setosa\", \"Iris Setosa\", \"Iris Setosa\", \"Iris Setosa\", \"Iris Setosa\", \"Iris Setosa\"], \"type\": \"scatter\", \"uid\": \"08c5b81b-9b94-4316-9afa-626427034282\", \"x\": [4.8, 4.9, 5.0, 5.4, 4.4, 5.4, 5.0, 4.4, 4.9, 5.4, 4.8], \"y\": [3.4, 3.1, 3.4, 3.9, 2.9, 3.7, 3.4, 2.9, 3.1, 3.7, 3.4]}],\n",
       "                        {\"title\": {\"text\": \"Iris Classes\"}, \"xaxis\": {\"ticklen\": 5, \"title\": {\"text\": \"Sepal Width\"}, \"zeroline\": false}, \"yaxis\": {\"ticklen\": 5, \"title\": {\"text\": \"Sepal Length\"}, \"zeroline\": false}},\n",
       "                        {\"showLink\": false, \"linkText\": \"Export to plot.ly\", \"plotlyServerURL\": \"https://plot.ly\", \"responsive\": true}\n",
       "                    ).then(function(){\n",
       "                            \n",
       "var gd = document.getElementById('7258b08f-faa9-4f07-98d5-ad0b1bb67072');\n",
       "var x = new MutationObserver(function (mutations, observer) {{\n",
       "        var display = window.getComputedStyle(gd).display;\n",
       "        if (!display || display === 'none') {{\n",
       "            console.log([gd, 'removed!']);\n",
       "            Plotly.purge(gd);\n",
       "            observer.disconnect();\n",
       "        }}\n",
       "}});\n",
       "\n",
       "// Listen for the removal of the full notebook cells\n",
       "var notebookContainer = gd.closest('#notebook-container');\n",
       "if (notebookContainer) {{\n",
       "    x.observe(notebookContainer, {childList: true});\n",
       "}}\n",
       "\n",
       "// Listen for the clearing of the current output cell\n",
       "var outputEl = gd.closest('.output');\n",
       "if (outputEl) {{\n",
       "    x.observe(outputEl, {childList: true});\n",
       "}}\n",
       "\n",
       "                        })\n",
       "                };\n",
       "                });\n",
       "            </script>\n",
       "        </div>"
      ]
     },
     "metadata": {},
     "output_type": "display_data"
    }
   ],
   "source": [
    "# prepare data frames\n",
    "df_setosa = df_train[df_train.type == 1]\n",
    "df_versicolor = df_train[df_train.type == 0]\n",
    "\n",
    "for df in [df_versicolor, df_setosa]:\n",
    "    df['type_name'] = np.where(df['type']==0, 'Iris Versicolor', 'Iris Setosa')\n",
    "    \n",
    "# creating trace1\n",
    "trace1 =go.Scatter(\n",
    "                    x = df_versicolor[\"sepal width\"],\n",
    "                    y = df_versicolor[\"sepal length\"],\n",
    "                    mode = \"markers\",\n",
    "                    name = \"Iris Versicolor\",\n",
    "                    marker = dict(color = 'rgba(255, 0, 0, 0.8)', size = 10, symbol='circle'),\n",
    "                    text= df_versicolor[\"type_name\"])\n",
    "# creating trace2\n",
    "trace2 =go.Scatter(\n",
    "                    x = df_setosa[\"sepal width\"],\n",
    "                    y = df_setosa[\"sepal length\"],\n",
    "                    mode = \"markers\",\n",
    "                    name = \"Iris Setosa\",\n",
    "                    marker = dict(color = 'rgba(0, 0, 255, 0.8)', size = 10, symbol='x'),\n",
    "                    text= df_setosa[\"type_name\"])\n",
    "\n",
    "data = [trace1, trace2]\n",
    "layout = dict(title = 'Iris Classes',\n",
    "              xaxis= dict(title= 'Sepal Width',ticklen= 5,zeroline= False),\n",
    "              yaxis= dict(title= 'Sepal Length',ticklen= 5,zeroline= False)\n",
    "             )\n",
    "fig = dict(data = data, layout = layout)\n",
    "iplot(fig)"
   ]
  },
  {
   "cell_type": "markdown",
   "metadata": {},
   "source": [
    "**Observando visualmente os dados, percebe-se que os mesmos são linearmente separáveis.**"
   ]
  },
  {
   "cell_type": "markdown",
   "metadata": {},
   "source": [
    "**2)** Dentro da pasta \"ml\" crie um modulo chamado \"perceptron\". Implemente uma classe chamada \"PerceptronBatch\" com pelo menos os métodos \"fit\" e \"predict\", onde \"fit\" recebe o conjunto de vetores com duas características e o conjunto\n",
    "de rótulos (classes ou *labels*) com duas classes e treina o classificador Perceptron de Rosenblatt utilizando o algoritmo em Batch e ao final do método configure o atributo \"w\" e b contendo os pesos e bias do Perceptron respectivamente. O método \"predict\" recebe um conjunto de amostras (vetores com duas características) e utiliza o algoritmo de Perceptron para classificar a classe em -1 ou 1. Sua classe deve suportar configurar uma semente para número aleatórios (\"random_state\") e um valor para o coeficiente de aprendizagem (eta) no construtor de sua classe.\n",
    "\n",
    "Após implementa-lo, crie uma instância da sua classe com random_state=0 e eta=0.001 treine o Perceptron com \"X\" e \"y\" lidos no exercício anterior e imprima os valores de pesos (\"w\") e bias (\"b\")."
   ]
  },
  {
   "cell_type": "markdown",
   "metadata": {},
   "source": [
    "Obs.: Abaixo segue o pseudo-código do algoritmo de treinamento do Perceptron de Rosenblatt em Batch. adaptado de https://www.cis.upenn.edu/~cis519/fall2014/lectures/04_LinearClassificationPerceptron.pdf (slide 12):\n",
    "\n",
    "1. Seja $S_n = \\{ (\\vec{x}^{(1)}, y^{(1)}), (\\vec{x}^{(2)}, y^{(2)}), \\dots (\\vec{x}^{(n)}, y^{(n)}) \\}$ o conjunto\n",
    "   de exemplos de treinamento.\n",
    "\n",
    "2. Inicialize $\\vec{w}$ e $b$ com valores aleatorios próximos de zero\n",
    "\n",
    "3. Seja $\\Delta w = (0,0,0, \\dots, 0) \\in \\mathbb{R}^d$ e $\\Delta b$ os valores iniciais para atualizações de     \n",
    "   pesos.\n",
    "\n",
    "4. Para cada $(\\vec{x}^{(i)}, y^{(i)}) \\in S_n$ faça\n",
    "    * $z^{(i)}$ $\\leftarrow$ $\\vec{w}^T \\vec{x}^{(i)} + b$\n",
    "    * $e^{(i)}$ $\\leftarrow$ $y^{(i)} - \\Phi(z^{(i)})$ \n",
    "    * $\\Delta w$ $\\leftarrow$ $\\Delta w$ + $e^{(i)}\\vec{x}^{(i)}$\n",
    "    * $\\Delta b$ $\\leftarrow$ $\\Delta b$ + $e^{(i)}$\n",
    "\n",
    "5. $\\Delta w$ $\\leftarrow$ $\\frac{\\Delta w}{n}$ e $\\Delta b$ $\\leftarrow$ $\\frac{\\Delta b}{n}$\n",
    "\n",
    "6. $w \\leftarrow w + \\eta \\Delta w$ e $b \\leftarrow \\eta \\Delta b$\n",
    "\n",
    "7. Se errou (existe um $e^{(i)} \\not= 0$) volte ao passo 3; senão seu Perceptron é definido por $w$ e $b$"
   ]
  },
  {
   "cell_type": "code",
   "execution_count": 192,
   "metadata": {},
   "outputs": [],
   "source": [
    "from ml.perceptron import PerceptronBatch"
   ]
  },
  {
   "cell_type": "code",
   "execution_count": 193,
   "metadata": {
    "ExecuteTime": {
     "end_time": "2019-04-26T05:04:38.721148Z",
     "start_time": "2019-04-26T05:04:38.525152Z"
    },
    "scrolled": true
   },
   "outputs": [
    {
     "name": "stdout",
     "output_type": "stream",
     "text": [
      "W: \t[[-0.2935865   0.32908937]]\n",
      "b: \t[[0.47276338]]\n"
     ]
    }
   ],
   "source": [
    "pb = PerceptronBatch(random_state=0, eta=0.001)\n",
    "pb.fit(X, y)\n",
    "print(\"W: \\t{}\\nb: \\t{}\".format(pb.w, pb.b))"
   ]
  },
  {
   "cell_type": "markdown",
   "metadata": {},
   "source": [
    "### Plotagem de função em Python\n",
    "\n",
    "Para o próximo exercício, você precisará plotar uma reta utilizando \"matplotlib\" (superfície de decisão do Perceptron). Para plotar uma reta em Python vamos utilizar a equação da reta:\n",
    "\n",
    "$$ x_2 = ax_1 + b $$\n",
    "\n",
    "Neste caso não importa os valores de a e b, para exemplificar, vamos fazer $a = 2$ e $b = 3$. Precisamos também definir o intervalo da plotagem, que nesse exemplo vamos definir como $\\left[-3,3\\right]$. Para implementar esse gráfico em Python, vamos utilizar a função \"linspace\" do NumPy. Essa função gera $N$ amostras espaçadas igualmente em um intervalo dado como parâmetro. Vamos também utilizar a função \"plot\" do \"matplotlib\" que dados um conjunto de coordenadas da abscissa e ordenada, desenha um segmento de reta que liga todos as coordenadas."
   ]
  },
  {
   "cell_type": "code",
   "execution_count": 194,
   "metadata": {},
   "outputs": [
    {
     "data": {
      "image/png": "[encoded data removed]",
      "text/plain": [
       "<Figure size 432x288 with 1 Axes>"
      ]
     },
     "metadata": {
      "needs_background": "light"
     },
     "output_type": "display_data"
    }
   ],
   "source": [
    "# configurando as constantes a e b\n",
    "a = 2\n",
    "b = 3\n",
    "\n",
    "# Gerando 100 amostras do intervalo [-3, 3]\n",
    "x1 = np.linspace(start=-3, stop=3, num=100) \n",
    "\n",
    "# calculado as ordenadas \"y\"\n",
    "x2 = a*x1 + b\n",
    "\n",
    "# plotando a \"reta\"\n",
    "plt.plot(x1, x2, color=\"black\")\n",
    "plt.title(\"Plotagem da função $x_2 = 2x_1 + 3$ no intervalo [-3, 3]\")\n",
    "plt.xlabel(\"$x_1$\")\n",
    "plt.ylabel(\"$x_2$\")\n",
    "plt.show()"
   ]
  },
  {
   "cell_type": "markdown",
   "metadata": {},
   "source": [
    "**3)** Para visualizar a interpretação gráfica do Perceptron, plote o gráfico de dispersão do seu conjunto de dados de maneira semelhante ao exercício **1)** e no mesmo gráfico, plote a reta (ou superfície de decisão) do Perceptron treinado no exercício anterior.\n",
    "\n",
    "DICA: Lembre-se que a reta (ou superfície de decisão) do Perceptron é definida como:\n",
    "\n",
    "$$ \\vec{w}^T \\vec{x} + b = 0 $$"
   ]
  },
  {
   "cell_type": "code",
   "execution_count": 195,
   "metadata": {},
   "outputs": [
    {
     "data": {
      "application/vnd.plotly.v1+json": {
       "config": {
        "linkText": "Export to plot.ly",
        "plotlyServerURL": "https://plot.ly",
        "responsive": true,
        "showLink": false
       },
       "data": [
        {
         "marker": {
          "color": "rgba(255, 0, 0, 0.8)",
          "size": 10,
          "symbol": "circle"
         },
         "mode": "markers",
         "name": "Iris Versicolor",
         "type": "scatter",
         "uid": "c2f61d27-e850-4d1c-a76e-646cb37a01cc",
         "x": [
          5.7,
          6.4,
          7,
          6.9,
          6.5,
          7,
          6.4,
          6.9,
          5.5,
          6.5
         ],
         "y": [
          2.8,
          3.2,
          3.2,
          3.1,
          2.8,
          3.2,
          3.2,
          3.1,
          2.3,
          2.8
         ]
        },
        {
         "marker": {
          "color": "rgba(0, 0, 255, 0.8)",
          "size": 10,
          "symbol": "x"
         },
         "mode": "markers",
         "name": "Iris Setosa",
         "type": "scatter",
         "uid": "30b0485d-905f-416f-a183-c4071600d5b6",
         "x": [
          4.8,
          4.9,
          5,
          5.4,
          4.4,
          5.4,
          5,
          4.4,
          4.9,
          5.4,
          4.8
         ],
         "y": [
          3.4,
          3.1,
          3.4,
          3.9,
          2.9,
          3.7,
          3.4,
          2.9,
          3.1,
          3.7,
          3.4
         ]
        },
        {
         "mode": "lines",
         "name": "Perceptron Decision Function",
         "type": "scatter",
         "uid": "a4550f1f-4242-4d54-9961-9f33534e1ed2",
         "x": [
          4.4,
          4.4530612244897965,
          4.506122448979593,
          4.559183673469388,
          4.612244897959184,
          4.66530612244898,
          4.718367346938776,
          4.771428571428571,
          4.8244897959183675,
          4.877551020408164,
          4.93061224489796,
          4.983673469387755,
          5.036734693877551,
          5.089795918367347,
          5.142857142857143,
          5.195918367346939,
          5.248979591836735,
          5.302040816326531,
          5.355102040816327,
          5.408163265306123,
          5.461224489795919,
          5.514285714285714,
          5.56734693877551,
          5.6204081632653065,
          5.673469387755102,
          5.726530612244898,
          5.779591836734694,
          5.83265306122449,
          5.885714285714286,
          5.938775510204081,
          5.9918367346938775,
          6.044897959183674,
          6.09795918367347,
          6.151020408163266,
          6.204081632653061,
          6.257142857142857,
          6.310204081632653,
          6.3632653061224485,
          6.4163265306122454,
          6.469387755102041,
          6.522448979591837,
          6.575510204081633,
          6.628571428571428,
          6.681632653061225,
          6.73469387755102,
          6.7877551020408164,
          6.840816326530613,
          6.893877551020408,
          6.946938775510204,
          7
         ],
         "y": [
          2.4887379852962894,
          2.5360748504979918,
          2.583411715699694,
          2.630748580901396,
          2.678085446103098,
          2.7254223113048006,
          2.7727591765065025,
          2.8200960417082044,
          2.8674329069099063,
          2.914769772111609,
          2.962106637313312,
          3.009443502515013,
          3.0567803677167156,
          3.1041172329184175,
          3.1514540981201202,
          3.198790963321822,
          3.246127828523524,
          3.2934646937252268,
          3.3408015589269286,
          3.3881384241286314,
          3.4354752893303333,
          3.482812154532035,
          3.530149019733737,
          3.57748588493544,
          3.6248227501371417,
          3.6721596153388436,
          3.7194964805405464,
          3.7668333457422483,
          3.814170210943951,
          3.861507076145652,
          3.908843941347355,
          3.9561808065490567,
          4.0035176717507595,
          4.050854536952461,
          4.098191402154163,
          4.145528267355866,
          4.192865132557568,
          4.24020199775927,
          4.2875388629609725,
          4.334875728162674,
          4.382212593364376,
          4.429549458566079,
          4.476886323767781,
          4.524223188969484,
          4.571560054171186,
          4.6188969193728875,
          4.66623378457459,
          4.713570649776291,
          4.760907514977994,
          4.808244380179697
         ]
        }
       ],
       "layout": {
        "title": {
         "text": "Iris Classes"
        },
        "xaxis": {
         "ticklen": 5,
         "title": {
          "text": "Sepal Width"
         },
         "zeroline": false
        },
        "yaxis": {
         "ticklen": 5,
         "title": {
          "text": "Sepal Length"
         },
         "zeroline": false
        }
       }
      },
      "text/html": [
       "<div>\n",
       "        \n",
       "        \n",
       "            <div id=\"489ac190-8849-49a4-be43-f4b9b6a15004\" class=\"plotly-graph-div\" style=\"height:525px; width:100%;\"></div>\n",
       "            <script type=\"text/javascript\">\n",
       "                require([\"plotly\"], function(Plotly) {\n",
       "                    window.PLOTLYENV=window.PLOTLYENV || {};\n",
       "                    window.PLOTLYENV.BASE_URL='https://plot.ly';\n",
       "                    \n",
       "                if (document.getElementById(\"489ac190-8849-49a4-be43-f4b9b6a15004\")) {\n",
       "                    Plotly.newPlot(\n",
       "                        '489ac190-8849-49a4-be43-f4b9b6a15004',\n",
       "                        [{\"marker\": {\"color\": \"rgba(255, 0, 0, 0.8)\", \"size\": 10, \"symbol\": \"circle\"}, \"mode\": \"markers\", \"name\": \"Iris Versicolor\", \"type\": \"scatter\", \"uid\": \"20443daf-e71a-482b-b9d2-390aa183fbbf\", \"x\": [5.7, 6.4, 7.0, 6.9, 6.5, 7.0, 6.4, 6.9, 5.5, 6.5], \"y\": [2.8, 3.2, 3.2, 3.1, 2.8, 3.2, 3.2, 3.1, 2.3, 2.8]}, {\"marker\": {\"color\": \"rgba(0, 0, 255, 0.8)\", \"size\": 10, \"symbol\": \"x\"}, \"mode\": \"markers\", \"name\": \"Iris Setosa\", \"type\": \"scatter\", \"uid\": \"0b7303a5-1d92-456f-a7a6-02dd8ca4d37f\", \"x\": [4.8, 4.9, 5.0, 5.4, 4.4, 5.4, 5.0, 4.4, 4.9, 5.4, 4.8], \"y\": [3.4, 3.1, 3.4, 3.9, 2.9, 3.7, 3.4, 2.9, 3.1, 3.7, 3.4]}, {\"mode\": \"lines\", \"name\": \"Perceptron Decision Function\", \"type\": \"scatter\", \"uid\": \"af49b86c-b0b9-4b70-af50-822ca0fbe1ce\", \"x\": [4.4, 4.4530612244897965, 4.506122448979593, 4.559183673469388, 4.612244897959184, 4.66530612244898, 4.718367346938776, 4.771428571428571, 4.8244897959183675, 4.877551020408164, 4.93061224489796, 4.983673469387755, 5.036734693877551, 5.089795918367347, 5.142857142857143, 5.195918367346939, 5.248979591836735, 5.302040816326531, 5.355102040816327, 5.408163265306123, 5.461224489795919, 5.514285714285714, 5.56734693877551, 5.6204081632653065, 5.673469387755102, 5.726530612244898, 5.779591836734694, 5.83265306122449, 5.885714285714286, 5.938775510204081, 5.9918367346938775, 6.044897959183674, 6.09795918367347, 6.151020408163266, 6.204081632653061, 6.257142857142857, 6.310204081632653, 6.3632653061224485, 6.4163265306122454, 6.469387755102041, 6.522448979591837, 6.575510204081633, 6.628571428571428, 6.681632653061225, 6.73469387755102, 6.7877551020408164, 6.840816326530613, 6.893877551020408, 6.946938775510204, 7.0], \"y\": [2.4887379852962894, 2.5360748504979918, 2.583411715699694, 2.630748580901396, 2.678085446103098, 2.7254223113048006, 2.7727591765065025, 2.8200960417082044, 2.8674329069099063, 2.914769772111609, 2.962106637313312, 3.009443502515013, 3.0567803677167156, 3.1041172329184175, 3.1514540981201202, 3.198790963321822, 3.246127828523524, 3.2934646937252268, 3.3408015589269286, 3.3881384241286314, 3.4354752893303333, 3.482812154532035, 3.530149019733737, 3.57748588493544, 3.6248227501371417, 3.6721596153388436, 3.7194964805405464, 3.7668333457422483, 3.814170210943951, 3.861507076145652, 3.908843941347355, 3.9561808065490567, 4.0035176717507595, 4.050854536952461, 4.098191402154163, 4.145528267355866, 4.192865132557568, 4.24020199775927, 4.2875388629609725, 4.334875728162674, 4.382212593364376, 4.429549458566079, 4.476886323767781, 4.524223188969484, 4.571560054171186, 4.6188969193728875, 4.66623378457459, 4.713570649776291, 4.760907514977994, 4.808244380179697]}],\n",
       "                        {\"title\": {\"text\": \"Iris Classes\"}, \"xaxis\": {\"ticklen\": 5, \"title\": {\"text\": \"Sepal Width\"}, \"zeroline\": false}, \"yaxis\": {\"ticklen\": 5, \"title\": {\"text\": \"Sepal Length\"}, \"zeroline\": false}},\n",
       "                        {\"showLink\": false, \"linkText\": \"Export to plot.ly\", \"plotlyServerURL\": \"https://plot.ly\", \"responsive\": true}\n",
       "                    ).then(function(){\n",
       "                            \n",
       "var gd = document.getElementById('489ac190-8849-49a4-be43-f4b9b6a15004');\n",
       "var x = new MutationObserver(function (mutations, observer) {{\n",
       "        var display = window.getComputedStyle(gd).display;\n",
       "        if (!display || display === 'none') {{\n",
       "            console.log([gd, 'removed!']);\n",
       "            Plotly.purge(gd);\n",
       "            observer.disconnect();\n",
       "        }}\n",
       "}});\n",
       "\n",
       "// Listen for the removal of the full notebook cells\n",
       "var notebookContainer = gd.closest('#notebook-container');\n",
       "if (notebookContainer) {{\n",
       "    x.observe(notebookContainer, {childList: true});\n",
       "}}\n",
       "\n",
       "// Listen for the clearing of the current output cell\n",
       "var outputEl = gd.closest('.output');\n",
       "if (outputEl) {{\n",
       "    x.observe(outputEl, {childList: true});\n",
       "}}\n",
       "\n",
       "                        })\n",
       "                };\n",
       "                });\n",
       "            </script>\n",
       "        </div>"
      ]
     },
     "metadata": {},
     "output_type": "display_data"
    }
   ],
   "source": [
    "# prepare data frames\n",
    "df_versicolor = X[(y==-1)[:, 0]]\n",
    "df_setosa = X[(y==1)[:, 0]]\n",
    "\n",
    "# Prepare the decision function boundary\n",
    "# Reference: https://stats.stackexchange.com/questions/169343/how-to-plot-the-or-function-along-with-the-decision-boundary-of-a-perceptron\n",
    "b, w1, w2 = pb.b[0,0], pb.w[0, 0], pb.w[0, 1]\n",
    "f_x = -b / w1\n",
    "f_y = -b / w2\n",
    "d = f_y\n",
    "c = -f_y / f_x\n",
    "line_x_coords = np.linspace(np.min(X[:, 0]), np.max(X[:, 0]))\n",
    "line_y_coords = c * line_x_coords + d\n",
    "\n",
    "# creating trace1\n",
    "trace1 =go.Scatter(\n",
    "                    x = df_versicolor[:, 0],\n",
    "                    y = df_versicolor[:, 1],\n",
    "                    mode = \"markers\",\n",
    "                    name = \"Iris Versicolor\",\n",
    "                    marker = dict(color = 'rgba(255, 0, 0, 0.8)', size = 10, symbol='circle'),\n",
    ")\n",
    "# creating trace2\n",
    "trace2 =go.Scatter(\n",
    "                    x = df_setosa[:, 0],\n",
    "                    y = df_setosa[:, 1],\n",
    "                    mode = \"markers\",\n",
    "                    name = \"Iris Setosa\",\n",
    "                    marker = dict(color = 'rgba(0, 0, 255, 0.8)', size = 10, symbol='x'),\n",
    ")\n",
    "\n",
    "trace3 = go.Scatter(\n",
    "    x = line_x_coords,\n",
    "    y = line_y_coords,\n",
    "    mode = 'lines',\n",
    "    name = 'Perceptron Decision Function'\n",
    ")\n",
    "\n",
    "data = [trace1, trace2, trace3]\n",
    "layout = dict(title = 'Iris Classes',\n",
    "              xaxis= dict(title= 'Sepal Width',ticklen= 5,zeroline= False),\n",
    "              yaxis= dict(title= 'Sepal Length',ticklen= 5,zeroline= False)\n",
    "             )\n",
    "fig = dict(data = data, layout = layout)\n",
    "iplot(fig)"
   ]
  },
  {
   "cell_type": "markdown",
   "metadata": {},
   "source": [
    "**4)** Agora vamos verificar como o Perceptron se sai no conjunto de dados de teste. Primeiramente, leia sua base de testes (arquivo \"teste.csv\", gerado na parte 1 do exercício), então semelhantemente ao exercício anterior plote os dados de teste em um gráfico de dispersão com a reta do seu Perceptron.\n",
    "\n",
    "**OBS.:** Não treine seu Perceptron com os dados de teste. Mantenha os pesos do Perceptron conforme encontrados no exercício de treinamento. Estamos verificando a eficiência do seu Perceptron treinado com os dados de treinamento."
   ]
  },
  {
   "cell_type": "code",
   "execution_count": 196,
   "metadata": {},
   "outputs": [
    {
     "data": {
      "text/html": [
       "<div>\n",
       "<style scoped>\n",
       "    .dataframe tbody tr th:only-of-type {\n",
       "        vertical-align: middle;\n",
       "    }\n",
       "\n",
       "    .dataframe tbody tr th {\n",
       "        vertical-align: top;\n",
       "    }\n",
       "\n",
       "    .dataframe thead th {\n",
       "        text-align: right;\n",
       "    }\n",
       "</style>\n",
       "<table border=\"1\" class=\"dataframe\">\n",
       "  <thead>\n",
       "    <tr style=\"text-align: right;\">\n",
       "      <th></th>\n",
       "      <th>sepal width</th>\n",
       "      <th>sepal length</th>\n",
       "      <th>type</th>\n",
       "    </tr>\n",
       "  </thead>\n",
       "  <tbody>\n",
       "    <tr>\n",
       "      <th>0</th>\n",
       "      <td>5.0</td>\n",
       "      <td>3.0</td>\n",
       "      <td>1</td>\n",
       "    </tr>\n",
       "    <tr>\n",
       "      <th>1</th>\n",
       "      <td>5.0</td>\n",
       "      <td>3.4</td>\n",
       "      <td>1</td>\n",
       "    </tr>\n",
       "    <tr>\n",
       "      <th>2</th>\n",
       "      <td>4.5</td>\n",
       "      <td>2.3</td>\n",
       "      <td>1</td>\n",
       "    </tr>\n",
       "    <tr>\n",
       "      <th>3</th>\n",
       "      <td>5.2</td>\n",
       "      <td>3.4</td>\n",
       "      <td>1</td>\n",
       "    </tr>\n",
       "    <tr>\n",
       "      <th>4</th>\n",
       "      <td>4.7</td>\n",
       "      <td>3.2</td>\n",
       "      <td>1</td>\n",
       "    </tr>\n",
       "  </tbody>\n",
       "</table>\n",
       "</div>"
      ],
      "text/plain": [
       "   sepal width  sepal length  type\n",
       "0          5.0           3.0     1\n",
       "1          5.0           3.4     1\n",
       "2          4.5           2.3     1\n",
       "3          5.2           3.4     1\n",
       "4          4.7           3.2     1"
      ]
     },
     "execution_count": 196,
     "metadata": {},
     "output_type": "execute_result"
    }
   ],
   "source": [
    "df_test = pd.read_csv(\"dataset/teste.csv\", sep=\";\")\n",
    "X_test = df_test.loc[:, [\"sepal width\", \"sepal length\"]].values\n",
    "y_test = df_test.loc[:, [\"type\"]].values\n",
    "y_test[y_test==0] = -1\n",
    "df_test.head(5)"
   ]
  },
  {
   "cell_type": "code",
   "execution_count": 197,
   "metadata": {},
   "outputs": [
    {
     "data": {
      "application/vnd.plotly.v1+json": {
       "config": {
        "linkText": "Export to plot.ly",
        "plotlyServerURL": "https://plot.ly",
        "responsive": true,
        "showLink": false
       },
       "data": [
        {
         "marker": {
          "color": "rgba(255, 0, 0, 0.8)",
          "size": 10,
          "symbol": "circle"
         },
         "mode": "markers",
         "name": "Iris Versicolor",
         "type": "scatter",
         "uid": "325ec1e6-bae4-42ba-8936-21fcefbcdf36",
         "x": [
          6,
          6.1,
          5.6,
          6.7,
          5.6,
          5.8
         ],
         "y": [
          2.2,
          2.9,
          2.9,
          3.1,
          3,
          2.7
         ]
        },
        {
         "marker": {
          "color": "rgba(0, 0, 255, 0.8)",
          "size": 10,
          "symbol": "x"
         },
         "mode": "markers",
         "name": "Iris Setosa",
         "type": "scatter",
         "uid": "645441a2-c11c-4f53-9677-1e65af11c901",
         "x": [
          5,
          5,
          4.5,
          5.2,
          4.7,
          4.8
         ],
         "y": [
          3,
          3.4,
          2.3,
          3.4,
          3.2,
          3.1
         ]
        },
        {
         "mode": "lines",
         "name": "Perceptron Decision Function",
         "type": "scatter",
         "uid": "c51bee95-c29c-4ac8-bf7a-4f859588677d",
         "x": [
          4.5,
          4.544897959183674,
          4.589795918367347,
          4.634693877551021,
          4.679591836734694,
          4.724489795918368,
          4.7693877551020405,
          4.814285714285714,
          4.859183673469388,
          4.904081632653061,
          4.948979591836735,
          4.993877551020408,
          5.038775510204082,
          5.083673469387755,
          5.128571428571429,
          5.173469387755102,
          5.218367346938775,
          5.263265306122449,
          5.308163265306122,
          5.353061224489796,
          5.3979591836734695,
          5.442857142857143,
          5.487755102040817,
          5.53265306122449,
          5.577551020408164,
          5.622448979591837,
          5.66734693877551,
          5.7122448979591836,
          5.757142857142857,
          5.802040816326531,
          5.846938775510204,
          5.891836734693878,
          5.936734693877551,
          5.981632653061225,
          6.026530612244898,
          6.071428571428571,
          6.116326530612245,
          6.161224489795918,
          6.206122448979592,
          6.251020408163265,
          6.295918367346939,
          6.340816326530613,
          6.385714285714286,
          6.43061224489796,
          6.475510204081633,
          6.520408163265307,
          6.56530612244898,
          6.610204081632653,
          6.655102040816327,
          6.7
         ],
         "y": [
          2.5779497697148814,
          2.6180040402701685,
          2.6580583108254547,
          2.698112581380741,
          2.738166851936028,
          2.7782211224913143,
          2.8182753930466005,
          2.8583296636018867,
          2.898383934157173,
          2.93843820471246,
          2.978492475267746,
          3.0185467458230333,
          3.0586010163783195,
          3.0986552869336057,
          3.138709557488893,
          3.178763828044178,
          3.218818098599465,
          3.2588723691547514,
          3.2989266397100376,
          3.3389809102653247,
          3.379035180820611,
          3.419089451375898,
          3.4591437219311842,
          3.4991979924864705,
          3.5392522630417576,
          3.5793065335970438,
          3.61936080415233,
          3.659415074707616,
          3.6994693452629024,
          3.7395236158181895,
          3.7795778863734757,
          3.819632156928763,
          3.859686427484049,
          3.899740698039335,
          3.9397949685946214,
          3.9798492391499076,
          4.019903509705195,
          4.059957780260481,
          4.100012050815767,
          4.140066321371054,
          4.1801205919263404,
          4.2201748624816275,
          4.260229133036914,
          4.3002834035922,
          4.340337674147487,
          4.380391944702773,
          4.4204462152580595,
          4.460500485813346,
          4.500554756368632,
          4.540609026923919
         ]
        }
       ],
       "layout": {
        "title": {
         "text": "Iris Classes"
        },
        "xaxis": {
         "ticklen": 5,
         "title": {
          "text": "Sepal Width"
         },
         "zeroline": false
        },
        "yaxis": {
         "ticklen": 5,
         "title": {
          "text": "Sepal Length"
         },
         "zeroline": false
        }
       }
      },
      "text/html": [
       "<div>\n",
       "        \n",
       "        \n",
       "            <div id=\"6d855b85-c225-4214-b7f0-ccdfb4a38eef\" class=\"plotly-graph-div\" style=\"height:525px; width:100%;\"></div>\n",
       "            <script type=\"text/javascript\">\n",
       "                require([\"plotly\"], function(Plotly) {\n",
       "                    window.PLOTLYENV=window.PLOTLYENV || {};\n",
       "                    window.PLOTLYENV.BASE_URL='https://plot.ly';\n",
       "                    \n",
       "                if (document.getElementById(\"6d855b85-c225-4214-b7f0-ccdfb4a38eef\")) {\n",
       "                    Plotly.newPlot(\n",
       "                        '6d855b85-c225-4214-b7f0-ccdfb4a38eef',\n",
       "                        [{\"marker\": {\"color\": \"rgba(255, 0, 0, 0.8)\", \"size\": 10, \"symbol\": \"circle\"}, \"mode\": \"markers\", \"name\": \"Iris Versicolor\", \"type\": \"scatter\", \"uid\": \"06054eea-4a50-4ac1-b7c0-728b3265db8d\", \"x\": [6.0, 6.1, 5.6, 6.7, 5.6, 5.8], \"y\": [2.2, 2.9, 2.9, 3.1, 3.0, 2.7]}, {\"marker\": {\"color\": \"rgba(0, 0, 255, 0.8)\", \"size\": 10, \"symbol\": \"x\"}, \"mode\": \"markers\", \"name\": \"Iris Setosa\", \"type\": \"scatter\", \"uid\": \"7c9f78e5-cb81-43e5-812e-ca1999f83243\", \"x\": [5.0, 5.0, 4.5, 5.2, 4.7, 4.8], \"y\": [3.0, 3.4, 2.3, 3.4, 3.2, 3.1]}, {\"mode\": \"lines\", \"name\": \"Perceptron Decision Function\", \"type\": \"scatter\", \"uid\": \"a36c295a-0c9c-4e1b-bc2a-dfaf17912228\", \"x\": [4.5, 4.544897959183674, 4.589795918367347, 4.634693877551021, 4.679591836734694, 4.724489795918368, 4.7693877551020405, 4.814285714285714, 4.859183673469388, 4.904081632653061, 4.948979591836735, 4.993877551020408, 5.038775510204082, 5.083673469387755, 5.128571428571429, 5.173469387755102, 5.218367346938775, 5.263265306122449, 5.308163265306122, 5.353061224489796, 5.3979591836734695, 5.442857142857143, 5.487755102040817, 5.53265306122449, 5.577551020408164, 5.622448979591837, 5.66734693877551, 5.7122448979591836, 5.757142857142857, 5.802040816326531, 5.846938775510204, 5.891836734693878, 5.936734693877551, 5.981632653061225, 6.026530612244898, 6.071428571428571, 6.116326530612245, 6.161224489795918, 6.206122448979592, 6.251020408163265, 6.295918367346939, 6.340816326530613, 6.385714285714286, 6.43061224489796, 6.475510204081633, 6.520408163265307, 6.56530612244898, 6.610204081632653, 6.655102040816327, 6.7], \"y\": [2.5779497697148814, 2.6180040402701685, 2.6580583108254547, 2.698112581380741, 2.738166851936028, 2.7782211224913143, 2.8182753930466005, 2.8583296636018867, 2.898383934157173, 2.93843820471246, 2.978492475267746, 3.0185467458230333, 3.0586010163783195, 3.0986552869336057, 3.138709557488893, 3.178763828044178, 3.218818098599465, 3.2588723691547514, 3.2989266397100376, 3.3389809102653247, 3.379035180820611, 3.419089451375898, 3.4591437219311842, 3.4991979924864705, 3.5392522630417576, 3.5793065335970438, 3.61936080415233, 3.659415074707616, 3.6994693452629024, 3.7395236158181895, 3.7795778863734757, 3.819632156928763, 3.859686427484049, 3.899740698039335, 3.9397949685946214, 3.9798492391499076, 4.019903509705195, 4.059957780260481, 4.100012050815767, 4.140066321371054, 4.1801205919263404, 4.2201748624816275, 4.260229133036914, 4.3002834035922, 4.340337674147487, 4.380391944702773, 4.4204462152580595, 4.460500485813346, 4.500554756368632, 4.540609026923919]}],\n",
       "                        {\"title\": {\"text\": \"Iris Classes\"}, \"xaxis\": {\"ticklen\": 5, \"title\": {\"text\": \"Sepal Width\"}, \"zeroline\": false}, \"yaxis\": {\"ticklen\": 5, \"title\": {\"text\": \"Sepal Length\"}, \"zeroline\": false}},\n",
       "                        {\"showLink\": false, \"linkText\": \"Export to plot.ly\", \"plotlyServerURL\": \"https://plot.ly\", \"responsive\": true}\n",
       "                    ).then(function(){\n",
       "                            \n",
       "var gd = document.getElementById('6d855b85-c225-4214-b7f0-ccdfb4a38eef');\n",
       "var x = new MutationObserver(function (mutations, observer) {{\n",
       "        var display = window.getComputedStyle(gd).display;\n",
       "        if (!display || display === 'none') {{\n",
       "            console.log([gd, 'removed!']);\n",
       "            Plotly.purge(gd);\n",
       "            observer.disconnect();\n",
       "        }}\n",
       "}});\n",
       "\n",
       "// Listen for the removal of the full notebook cells\n",
       "var notebookContainer = gd.closest('#notebook-container');\n",
       "if (notebookContainer) {{\n",
       "    x.observe(notebookContainer, {childList: true});\n",
       "}}\n",
       "\n",
       "// Listen for the clearing of the current output cell\n",
       "var outputEl = gd.closest('.output');\n",
       "if (outputEl) {{\n",
       "    x.observe(outputEl, {childList: true});\n",
       "}}\n",
       "\n",
       "                        })\n",
       "                };\n",
       "                });\n",
       "            </script>\n",
       "        </div>"
      ]
     },
     "metadata": {},
     "output_type": "display_data"
    }
   ],
   "source": [
    "# prepare data frames\n",
    "df_versicolor_test = X_test[(y_test==-1)[:, 0]]\n",
    "df_setosa_test = X_test[(y_test==1)[:, 0]]\n",
    "\n",
    "# Prepare the decision function boundary\n",
    "# Reference: https://stats.stackexchange.com/questions/169343/how-to-plot-the-or-function-along-with-the-decision-boundary-of-a-perceptron\n",
    "line_x_coords = np.linspace(np.min(X_test[:, 0]), np.max(X_test[:, 0]))\n",
    "line_y_coords = c * line_x_coords + d\n",
    "\n",
    "# creating trace1\n",
    "trace1 =go.Scatter(\n",
    "                    x = df_versicolor_test[:, 0],\n",
    "                    y = df_versicolor_test[:, 1],\n",
    "                    mode = \"markers\",\n",
    "                    name = \"Iris Versicolor\",\n",
    "                    marker = dict(color = 'rgba(255, 0, 0, 0.8)', size = 10, symbol='circle'),\n",
    ")\n",
    "# creating trace2\n",
    "trace2 =go.Scatter(\n",
    "                    x = df_setosa_test[:, 0],\n",
    "                    y = df_setosa_test[:, 1],\n",
    "                    mode = \"markers\",\n",
    "                    name = \"Iris Setosa\",\n",
    "                    marker = dict(color = 'rgba(0, 0, 255, 0.8)', size = 10, symbol='x'),\n",
    ")\n",
    "\n",
    "trace3 = go.Scatter(\n",
    "    x = line_x_coords,\n",
    "    y = line_y_coords,\n",
    "    mode = 'lines',\n",
    "    name = 'Perceptron Decision Function'\n",
    ")\n",
    "\n",
    "data = [trace1, trace2, trace3]\n",
    "layout = dict(title = 'Iris Classes',\n",
    "              xaxis= dict(title= 'Sepal Width',ticklen= 5,zeroline= False),\n",
    "              yaxis= dict(title= 'Sepal Length',ticklen= 5,zeroline= False)\n",
    "             )\n",
    "fig = dict(data = data, layout = layout)\n",
    "iplot(fig)"
   ]
  },
  {
   "cell_type": "markdown",
   "metadata": {},
   "source": [
    "**5)** Agora encontre a quantidade de amostras de teste mal-classificadas utilizando código Python. O número encontrado é mesmo visualizado na interpretação gráfica do exercício anterior?\n",
    "\n",
    "**DICA.:** Utilize o método predict da sua classe de Perceptron."
   ]
  },
  {
   "cell_type": "code",
   "execution_count": 198,
   "metadata": {},
   "outputs": [
    {
     "name": "stdout",
     "output_type": "stream",
     "text": [
      "Amostras mal-classificadas: 2\n"
     ]
    }
   ],
   "source": [
    "error_test = y_test.T-pb.predict(X_test)\n",
    "print(\"Amostras mal-classificadas: {}\".format(len(error_test[error_test!=0])))"
   ]
  },
  {
   "cell_type": "markdown",
   "metadata": {},
   "source": [
    "**O número de amostra mal-classificadas corresponde a 2, tanto no gráfico, como na verificação do erro.**"
   ]
  },
  {
   "cell_type": "markdown",
   "metadata": {},
   "source": [
    "### Comentários\n",
    "\n",
    "Utilize a célula abaixo caso deseja comentar e passar o feedback sobre o exercício.\n"
   ]
  },
  {
   "cell_type": "markdown",
   "metadata": {},
   "source": [
    "É solicitado a classificação em -1 e +1, mas o arquivo lido é com classe 0 e 1. Fica um pouco confuso.\n",
    "Poderia ter alguns módulos de teste já implementados, para verificar se a implementação está correta.\n",
    "\n",
    "A estrutura do notebook está muito boa, os exemplos ajudaram bastante"
   ]
  },
  {
   "cell_type": "code",
   "execution_count": 202,
   "metadata": {},
   "outputs": [
    {
     "data": {
      "text/plain": [
       "'4.5; 3.5; 1'"
      ]
     },
     "execution_count": 202,
     "metadata": {},
     "output_type": "execute_result"
    }
   ],
   "source": [
    "str(\"{}; {}; {}\".format(4.5, 3.5, 1))"
   ]
  }
 ],
 "metadata": {
  "kernelspec": {
   "display_name": "Python (Pattern Recognition)",
   "language": "python",
   "name": "pattern_rec_ime_usp"
  },
  "language_info": {
   "codemirror_mode": {
    "name": "ipython",
    "version": 3
   },
   "file_extension": ".py",
   "mimetype": "text/x-python",
   "name": "python",
   "nbconvert_exporter": "python",
   "pygments_lexer": "ipython3",
   "version": "3.7.3"
  },
  "latex_envs": {
   "LaTeX_envs_menu_present": true,
   "autoclose": false,
   "autocomplete": true,
   "bibliofile": "biblio.bib",
   "cite_by": "apalike",
   "current_citInitial": 1,
   "eqLabelWithNumbers": true,
   "eqNumInitial": 1,
   "hotkeys": {
    "equation": "Ctrl-E",
    "itemize": "Ctrl-I"
   },
   "labels_anchors": false,
   "latex_user_defs": false,
   "report_style_numbering": false,
   "user_envs_cfg": false
  },
  "toc": {
   "base_numbering": 1,
   "nav_menu": {},
   "number_sections": true,
   "sideBar": true,
   "skip_h1_title": false,
   "title_cell": "Table of Contents",
   "title_sidebar": "Contents",
   "toc_cell": false,
   "toc_position": {},
   "toc_section_display": true,
   "toc_window_display": false
  }
 },
 "nbformat": 4,
 "nbformat_minor": 2
}

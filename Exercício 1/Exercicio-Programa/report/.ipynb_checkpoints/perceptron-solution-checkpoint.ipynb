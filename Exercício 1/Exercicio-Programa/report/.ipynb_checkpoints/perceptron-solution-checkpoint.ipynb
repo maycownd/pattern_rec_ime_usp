{
 "cells": [
  {
   "cell_type": "markdown",
   "metadata": {},
   "source": [
    "## Parte 2 - Implementação, treinamento e teste do Perceptron"
   ]
  },
  {
   "cell_type": "markdown",
   "metadata": {},
   "source": [
    "Antes de iniciar a implementação do Perceptron, vamos verificar o nosso dataset. A primeira pergunta a ser fazer é \n",
    "se os dataset é linearmente separavel ou não. Caso seja podemos utilizar o algoritmo de Rosenblatt para encontrar os pesos $\\vec{w}$ e o número $b$ que induzem uma reta que separa os pontos por um superficie de decisão. \n",
    "\n",
    "Python facilita o tratamento desses dados porque possui bibliotecas (modulos) com funcionalidades prontas para que possamos trabalhar com esses dados e plota-los. as bibliotecas mais comuns para realizar esse tipo de tarefa são: \n",
    "\n",
    "- **NumPy **: Para operações matriciais\n",
    "- **Pandas **: Para leitura e manipulação de dados \n",
    "- **matplotlib **: Para plotar gráficos\n",
    "\n",
    "Primeiramente vamos realizar as importações mais comuns para realizar essa plotagem."
   ]
  },
  {
   "cell_type": "code",
   "execution_count": 1,
   "metadata": {},
   "outputs": [],
   "source": [
    "import numpy as np # importa NumPy com alias np\n",
    "import pandas as pd # importa pandas com alias pd\n",
    "import matplotlib.pyplot as plt # importa modulo matplotlib.pyplot com alias pd"
   ]
  },
  {
   "cell_type": "markdown",
   "metadata": {},
   "source": [
    "Primeiramente vamos plotar os dados salvos no arquivo \"exemplo.csv\":"
   ]
  },
  {
   "cell_type": "code",
   "execution_count": 2,
   "metadata": {},
   "outputs": [
    {
     "name": "stdout",
     "output_type": "stream",
     "text": [
      "feature1;feature2;label\n",
      "3;4;0\n",
      "2;5;0\n",
      "4;6;0\n",
      "1;3;1\n",
      "3;2;1\n",
      "2;0;1\n"
     ]
    }
   ],
   "source": [
    "with open(\"exemplo.csv\") as file:\n",
    "    print(file.read())"
   ]
  },
  {
   "cell_type": "markdown",
   "metadata": {},
   "source": [
    "Como mostrado acima, o arquivo \"exemplo.csv\" possui um cabeçalhado (\"feature1\", \"feature2\" e \"label\") e linhas com valores para as caracteristicas e rotulo. Nesse arquivo, cada linha (exceto o cabeçalho) são amostras de \"feature1\" e \"feature2\" que estão associados com o rotulo 0 ou 1. Primeira coisa que faremos será ler esses dados em um DataFrame da biblioteca Pandas conforme exibido abaixo:"
   ]
  },
  {
   "cell_type": "code",
   "execution_count": 3,
   "metadata": {},
   "outputs": [
    {
     "data": {
      "text/html": [
       "<div>\n",
       "<style scoped>\n",
       "    .dataframe tbody tr th:only-of-type {\n",
       "        vertical-align: middle;\n",
       "    }\n",
       "\n",
       "    .dataframe tbody tr th {\n",
       "        vertical-align: top;\n",
       "    }\n",
       "\n",
       "    .dataframe thead th {\n",
       "        text-align: right;\n",
       "    }\n",
       "</style>\n",
       "<table border=\"1\" class=\"dataframe\">\n",
       "  <thead>\n",
       "    <tr style=\"text-align: right;\">\n",
       "      <th></th>\n",
       "      <th>feature1</th>\n",
       "      <th>feature2</th>\n",
       "      <th>label</th>\n",
       "    </tr>\n",
       "  </thead>\n",
       "  <tbody>\n",
       "    <tr>\n",
       "      <th>0</th>\n",
       "      <td>3</td>\n",
       "      <td>4</td>\n",
       "      <td>0</td>\n",
       "    </tr>\n",
       "    <tr>\n",
       "      <th>1</th>\n",
       "      <td>2</td>\n",
       "      <td>5</td>\n",
       "      <td>0</td>\n",
       "    </tr>\n",
       "    <tr>\n",
       "      <th>2</th>\n",
       "      <td>4</td>\n",
       "      <td>6</td>\n",
       "      <td>0</td>\n",
       "    </tr>\n",
       "    <tr>\n",
       "      <th>3</th>\n",
       "      <td>1</td>\n",
       "      <td>3</td>\n",
       "      <td>1</td>\n",
       "    </tr>\n",
       "    <tr>\n",
       "      <th>4</th>\n",
       "      <td>3</td>\n",
       "      <td>2</td>\n",
       "      <td>1</td>\n",
       "    </tr>\n",
       "    <tr>\n",
       "      <th>5</th>\n",
       "      <td>2</td>\n",
       "      <td>0</td>\n",
       "      <td>1</td>\n",
       "    </tr>\n",
       "  </tbody>\n",
       "</table>\n",
       "</div>"
      ],
      "text/plain": [
       "   feature1  feature2  label\n",
       "0         3         4      0\n",
       "1         2         5      0\n",
       "2         4         6      0\n",
       "3         1         3      1\n",
       "4         3         2      1\n",
       "5         2         0      1"
      ]
     },
     "metadata": {},
     "output_type": "display_data"
    }
   ],
   "source": [
    "df = pd.read_csv(\"exemplo.csv\", delimiter=\";\")\n",
    "display(df)"
   ]
  },
  {
   "cell_type": "markdown",
   "metadata": {},
   "source": [
    "Agora, vamos separar esses dados em duas variaveis. Uma variável $X$ que será uma matriz onde cada linha é um vetor de caracteristicas e $y$ que é uma lista de rotulos. Essas duas variaveis serão relacionadas pela linha em $X$ e pela ordem do rotulo em $y$, por exemplo, o vetor de caracteristica em $X$[i] possui o rotulo $y$[i] O código abaixo realiza essa separação."
   ]
  },
  {
   "cell_type": "code",
   "execution_count": 4,
   "metadata": {},
   "outputs": [
    {
     "data": {
      "text/plain": [
       "array([[3, 4],\n",
       "       [2, 5],\n",
       "       [4, 6],\n",
       "       [1, 3],\n",
       "       [3, 2],\n",
       "       [2, 0]])"
      ]
     },
     "metadata": {},
     "output_type": "display_data"
    },
    {
     "data": {
      "text/plain": [
       "array([0, 0, 0, 1, 1, 1])"
      ]
     },
     "metadata": {},
     "output_type": "display_data"
    }
   ],
   "source": [
    "# pegamos todas as linhas das colunas \"feature1\" e \"feature2\" e convertemos para um array do NumPy (chamand values)\n",
    "X = df[[\"feature1\", \"feature2\"]].values \n",
    "y = df[\"label\"].values # pegamos todos os rotulos e convertemos para um array NumPy.\n",
    "\n",
    "display(X, y)"
   ]
  },
  {
   "cell_type": "markdown",
   "metadata": {},
   "source": [
    "Para nosso exemplo, a classe negativa será $0$ e a classe positiva $1$. Logo precisaremos converter os números $0$ em $-1$ conforme exibido abaixo:"
   ]
  },
  {
   "cell_type": "code",
   "execution_count": 5,
   "metadata": {},
   "outputs": [
    {
     "data": {
      "text/plain": [
       "array([-1, -1, -1,  1,  1,  1])"
      ]
     },
     "metadata": {},
     "output_type": "display_data"
    }
   ],
   "source": [
    "# função que verifica se cada item cumpri a condição y == 0, se sim é transformado em -1 senão 1\n",
    "y = np.where(y == 0, -1, 1) \n",
    "display(y)"
   ]
  },
  {
   "cell_type": "markdown",
   "metadata": {},
   "source": [
    "Agora que temos os dados no formato que gostariamos, vamos utilizar matplotlib para plotar um gráfico de dispersão das nossas caracteristicas. Para isso vamos utilizar a função *scatter*  que recebe uma lista de coordenadas da abscissa, uma lista de coordenadas de ordenadas (relacinadas pela ordem na lista) e configurações \n",
    "de marcadores e cores para plotar os pontos no gráfico. conforme o código abaixo:"
   ]
  },
  {
   "cell_type": "code",
   "execution_count": 6,
   "metadata": {},
   "outputs": [
    {
     "name": "stdout",
     "output_type": "stream",
     "text": [
      "(6,)\n",
      "(6, 2)\n"
     ]
    },
    {
     "data": {
      "image/png": "[encoded data removed]",
      "text/plain": [
       "<Figure size 432x288 with 1 Axes>"
      ]
     },
     "metadata": {
      "needs_background": "light"
     },
     "output_type": "display_data"
    }
   ],
   "source": [
    "# comando para plotagem direta no Jupyter notebook\n",
    "%matplotlib inline\n",
    "\n",
    "print(y.shape)\n",
    "print(X.shape)\n",
    "# plotar os pontos da classe positiva em azul com marcadores em \"x\":\n",
    "plt.scatter(X[y == 1, 0], X[y == 1, 1], color=\"blue\", marker=\"x\")\n",
    "\n",
    "#plotar os pontos da classe negativa em vermelho com marcadores \"o\"\n",
    "plt.scatter(X[y == -1, 0], X[y == -1, 1], color=\"red\", marker=\"o\")\n",
    "\n",
    "# exibe o gráfico.\n",
    "plt.show()"
   ]
  },
  {
   "cell_type": "markdown",
   "metadata": {},
   "source": [
    "## Exercícios"
   ]
  },
  {
   "cell_type": "markdown",
   "metadata": {},
   "source": [
    "**1)** Conforme apresentado acima, leia o arquivo \"treino.csv\" gerado na **parte 1** desse exercício. Plote os dados contidos no arquivo em um gráfico de dispersão, configure o conjunto de vetores de caracteristicas em uma matriz \"$X$\" onde cada linha é o vetor de caracteristicas, configure o conjunto de labels \"$y$\" tal que o conjunto de labels estaja relacionada com \"$X$\" por suas ordens, ou seja, a amostra na linha $i$ da matriz $X$ possui o rotulo $y$ na posição $i$.\n",
    "\n",
    "Realiza a importação dos modulos necessários, plote os gráficos de dispersão com marcador \"x\" e cor azul para as amostras de classe positiva e marcador \"o\" e cor \"vermelha\" para as amostras de classe negativa. Visualmente diga se os dados são linearmente separaveis ou não."
   ]
  },
  {
   "cell_type": "code",
   "execution_count": 7,
   "metadata": {},
   "outputs": [
    {
     "data": {
      "image/png": "[encoded data removed]",
      "text/plain": [
       "<Figure size 432x288 with 1 Axes>"
      ]
     },
     "metadata": {
      "needs_background": "light"
     },
     "output_type": "display_data"
    }
   ],
   "source": [
    "import matplotlib.pyplot as plt\n",
    "import numpy as np\n",
    "import pandas as pd\n",
    " \n",
    "%matplotlib inline    \n",
    "    \n",
    "df = pd.read_csv(\"./dataset/treino.csv\", delimiter=\";\")\n",
    "\n",
    "y = df[\"type\"].values\n",
    "X = df[[\"sepal width\", \"sepal length\"]].values\n",
    "\n",
    "y = np.where(y == 0, -1, 1)\n",
    "\n",
    "plt.scatter(X[y == -1, 0], X[y == -1, 1], color=\"red\", marker=\"o\")\n",
    "plt.scatter(X[y == 1, 0], X[y == 1, 1], color=\"blue\", marker=\"+\")\n",
    "plt.show()"
   ]
  },
  {
   "cell_type": "markdown",
   "metadata": {},
   "source": [
    "Visualmente é linearmente separavel."
   ]
  },
  {
   "cell_type": "markdown",
   "metadata": {},
   "source": [
    "**2)** Dentro da pasta \"ml\" crie um modulo chamado \"perceptron\". Implemente uma classe chamada \"PerceptronBatch\" com dois métodos \"fit\" e \"predict\", onde \"fit\" recebe o conjunto de vetores com duas caracteristicas e o conjunto \n",
    "de rotulos (classes ou *labels*) com duas classes e treina o classificador Perceptron de Rosenblatt utilizando o algoritmo em Batch e ao final do método configure o atributo \"w\" e b contendo os pesos e bias do Perceptron respectivamente. O método \"predict\" recebe um conjunto de amostras (vetores com duas caracteristicas) e utiliza o algoritmo de Perceptron para classificar a classe em -1 ou 1. Sua classe deve suportar configurar uma semente para número aleatorios (\"random_state\") e um valor para o coeficiente de aprendizagem (eta) no construtor de sua classe.\n",
    "\n",
    "Após implementa-lo, crie uma instância da sua classe com random_state=0 e eta=0.0001 treine o Perceptron com \"X\" e \"y\" lidos no exercício anterior e imprima os valores de pesos (\"w\") e bias (\"b\")."
   ]
  },
  {
   "cell_type": "code",
   "execution_count": 8,
   "metadata": {},
   "outputs": [
    {
     "data": {
      "text/plain": [
       "array([-0.00328928,  0.00542516])"
      ]
     },
     "metadata": {},
     "output_type": "display_data"
    },
    {
     "data": {
      "text/plain": [
       "0.0017704046507724025"
      ]
     },
     "metadata": {},
     "output_type": "display_data"
    }
   ],
   "source": [
    "from ml.perceptron import BatchPerceptron\n",
    "\n",
    "perceptron = BatchPerceptron(eta=0.0001, random_state=0)\n",
    "perceptron.fit(X, y)\n",
    "display(perceptron.w, perceptron.b)"
   ]
  },
  {
   "cell_type": "markdown",
   "metadata": {},
   "source": [
    "### Plotagem de função em Python\n",
    "\n",
    "Para o próximo exercício, você precisará plotar uma reta utilizando \"matplotlib\" (superficie de decisão do pereceptron). Para plotar uma reta em Python vamos utilizar a equação da reta:\n",
    "\n",
    "$$ x_2 = ax_1 + b $$ \n",
    "\n",
    "Neste caso não importa os valores de a e b, para exemplificar, vamos fazer $a = 2$ e $b = 3$. Precisamos também definir o intervalo da plotagem, que nesse exemplo vamos definir como $\\left[-3,3\\right]$. Para implementar esse gráfico em Python, vamos utilizar o função \"linspace\" do NumPy. Essa função gera $N$ amostras espaçadas igualmente em um intervalo dado como parâmetro. Vamos também utilizar a função \"plot\" do \"matplotlib\" que dados um conjunto de coordenadas da abscissa e ordenada, desenha um segemento de reta que liga todos as coordenadas."
   ]
  },
  {
   "cell_type": "code",
   "execution_count": 9,
   "metadata": {},
   "outputs": [
    {
     "data": {
      "image/png": "[encoded data removed]",
      "text/plain": [
       "<Figure size 432x288 with 1 Axes>"
      ]
     },
     "metadata": {
      "needs_background": "light"
     },
     "output_type": "display_data"
    }
   ],
   "source": [
    "# configurando as constantes a e b\n",
    "a = 2\n",
    "b = 3\n",
    "\n",
    "# Gerando 100 amostras do intervalo [-3, 3]\n",
    "x1 = np.linspace(start=-3, stop=3, num=100) \n",
    "\n",
    "# calculado as ordenadas \"y\"\n",
    "x2 = a*x1 + b\n",
    "\n",
    "# plotando a \"reta\"\n",
    "plt.plot(x1, x2, color=\"black\")\n",
    "plt.title(\"Plotagem da função $x_2 = 2x_1 + 3$ no intervalo [-3, 3]\")\n",
    "plt.xlabel(\"$x_1$\")\n",
    "plt.ylabel(\"$x_2$\")\n",
    "plt.show()"
   ]
  },
  {
   "cell_type": "markdown",
   "metadata": {},
   "source": [
    "**3)** Para visualizar a interpretação gráfica do Perceptron, plote o gráfico de dispersão do seu conjunto de dados de maneira semelhante ao exercício **1)** e no mesmo gráfico, plote a reta (ou superficie de decisão) do Perceptron treinado no exercício anterior. \n",
    "\n",
    "DICA: Lembre-se que a reta (ou superficie de decisão) do Perceptron é definida como:\n",
    "\n",
    "$$ \\vec{w}^T \\vec{x} + b = 0 $$"
   ]
  },
  {
   "cell_type": "code",
   "execution_count": 10,
   "metadata": {},
   "outputs": [
    {
     "data": {
      "image/png": "[encoded data removed]",
      "text/plain": [
       "<Figure size 432x288 with 1 Axes>"
      ]
     },
     "metadata": {
      "needs_background": "light"
     },
     "output_type": "display_data"
    }
   ],
   "source": [
    "w,b = perceptron.w, perceptron.b\n",
    "\n",
    "x1 = np.linspace(2.5, 8.0)\n",
    "x2 = -(x1*w[0]+b)/w[1]\n",
    "\n",
    "plt.scatter(X[y == -1, 0], X[y == -1, 1], color=\"red\", marker=\"o\")\n",
    "plt.scatter(X[y == 1, 0], X[y == 1, 1], color=\"blue\", marker=\"+\")\n",
    "plt.plot(x1, x2, color=\"black\")\n",
    "plt.show()"
   ]
  },
  {
   "cell_type": "markdown",
   "metadata": {},
   "source": [
    "**4)** Agora vamos verificar como o Perceptron se sai no conjunto de dados de teste. Primeiramente, leia sua base de testes (arquivo \"teste.csv\", gerado na parte 1 do exercício), então semelhantemente ao exercício anterior plote os dados de teste em um gráfico de dispersão juntamente com a reta do seu Perceptron.\n",
    "\n",
    "**OBS.:** Não treine seu Perceptron com os dados de teste. Matenha os pesos do Perceptron conforme encontrados no exercício de treinamento. Estamos verificando a eficiência do seu Perceptron treinado com os dados de treinamento."
   ]
  },
  {
   "cell_type": "code",
   "execution_count": 11,
   "metadata": {},
   "outputs": [
    {
     "data": {
      "image/png": "[encoded data removed]",
      "text/plain": [
       "<Figure size 432x288 with 1 Axes>"
      ]
     },
     "metadata": {
      "needs_background": "light"
     },
     "output_type": "display_data"
    }
   ],
   "source": [
    "df = pd.read_csv(\"./dataset/teste.csv\", delimiter=\";\")\n",
    "\n",
    "y_test = df[\"type\"].values\n",
    "y_test = np.where(y_test == 0, -1, 1)\n",
    "\n",
    "X_test = df[[\"sepal width\", \"sepal length\"]].values\n",
    "\n",
    "plt.scatter(X_test[y_test == -1, 0], X_test[y_test == -1, 1], color=\"red\", marker=\"o\")\n",
    "plt.scatter(X_test[y_test == 1, 0], X_test[y_test == 1, 1], color=\"blue\", marker=\"+\")\n",
    "plt.plot(x1, x2, color=\"black\")\n",
    "plt.show()"
   ]
  },
  {
   "cell_type": "markdown",
   "metadata": {},
   "source": [
    "**5)** Agora encontre a quantidade de amostras de teste mal-classificadas utilizando código Python. O número encontrado é mesmo visualizado na interpretação gráfica do exercício anterior?\n",
    "\n",
    "**DICA.:** Utilize o método predict da sua classe de Perceptron."
   ]
  },
  {
   "cell_type": "code",
   "execution_count": 12,
   "metadata": {},
   "outputs": [
    {
     "data": {
      "text/plain": [
       "1"
      ]
     },
     "execution_count": 12,
     "metadata": {},
     "output_type": "execute_result"
    }
   ],
   "source": [
    "predicted = perceptron.predict(X_test)\n",
    "np.count_nonzero(predicted != y_test)"
   ]
  },
  {
   "cell_type": "markdown",
   "metadata": {},
   "source": [
    "Sim. Tanto na representação gráfica como no código Python foi encontrado apenas uma amostra mal-classificada."
   ]
  },
  {
   "cell_type": "markdown",
   "metadata": {},
   "source": [
    "### Comentários\n",
    "\n",
    "Utilize a celula abaixo caso deseja comentar e passar o feedback sobre o exercício e ou aproveite para sugerir assuntos relacionados a disciplina que possa ajudar em sua pesquisa.\n"
   ]
  },
  {
   "cell_type": "markdown",
   "metadata": {},
   "source": []
  }
 ],
 "metadata": {
  "kernelspec": {
   "display_name": "Python 3",
   "language": "python",
   "name": "python3"
  },
  "language_info": {
   "codemirror_mode": {
    "name": "ipython",
    "version": 3
   },
   "file_extension": ".py",
   "mimetype": "text/x-python",
   "name": "python",
   "nbconvert_exporter": "python",
   "pygments_lexer": "ipython3",
   "version": "3.7.2"
  }
 },
 "nbformat": 4,
 "nbformat_minor": 2
}

{
 "cells": [
  {
   "cell_type": "markdown",
   "metadata": {},
   "source": [
    "## Parte 2 - Implementação, treinamento e teste do Perceptron"
   ]
  },
  {
   "cell_type": "markdown",
   "metadata": {},
   "source": [
    "Antes de iniciar a implementação do Perceptron, vamos verificar o nosso dataset. A primeira pergunta a ser fazer é\n",
    "se os dataset é linearmente separável ou não. Caso seja podemos utilizar o algoritmo de Rosenblatt para encontrar os pesos $\\vec{w}$ e o número $b$ que induzem uma reta que separa os pontos por um superfície de decisão.\n",
    "\n",
    "Python facilita o tratamento dos dados do dataset porque possui bibliotecas (módulos) com funcionalidades prontas para que possamos trabalhar com esses dados e plota-los. as bibliotecas mais comuns para realizar esse tipo de tarefa são:\n",
    "\n",
    "- **NumPy **: Para operações matriciais\n",
    "- **Pandas **: Para leitura e manipulação de dados\n",
    "- **matplotlib **: Para plotar gráficos.\n",
    "\n",
    "Primeiramente vamos realizar as importações mais comuns para realizar essa plotagem."
   ]
  },
  {
   "cell_type": "code",
   "execution_count": 413,
   "metadata": {
    "ExecuteTime": {
     "end_time": "2019-04-26T02:58:34.997748Z",
     "start_time": "2019-04-26T02:58:29.831480Z"
    }
   },
   "outputs": [],
   "source": [
    "%load_ext autoreload\n",
    "%autoreload 2"
   ]
  },
  {
   "cell_type": "code",
   "execution_count": 30,
   "metadata": {
    "ExecuteTime": {
     "end_time": "2019-04-26T00:34:49.086090Z",
     "start_time": "2019-04-26T00:34:49.082094Z"
    }
   },
   "outputs": [],
   "source": [
    "import numpy as np # importa NumPy com alias np\n",
    "import pandas as pd # importa pandas com alias pd\n",
    "import matplotlib.pyplot as plt # importa modulo matplotlib.pyplot com alias pd\n",
    "\n",
    "# Importing cufflinks and plotly for interactive visualization\n",
    "import cufflinks as cf\n",
    "import plotly.graph_objs as go\n",
    "from plotly.offline import download_plotlyjs, init_notebook_mode, plot, iplot"
   ]
  },
  {
   "cell_type": "code",
   "execution_count": 9,
   "metadata": {
    "ExecuteTime": {
     "end_time": "2019-04-26T00:10:55.532204Z",
     "start_time": "2019-04-26T00:10:55.526227Z"
    }
   },
   "outputs": [
    {
     "data": {
      "text/html": [
       "        <script type=\"text/javascript\">\n",
       "        window.PlotlyConfig = {MathJaxConfig: 'local'};\n",
       "        if (window.MathJax) {MathJax.Hub.Config({SVG: {font: \"STIX-Web\"}});}\n",
       "        if (typeof require !== 'undefined') {\n",
       "        require.undef(\"plotly\");\n",
       "        requirejs.config({\n",
       "            paths: {\n",
       "                'plotly': ['https://cdn.plot.ly/plotly-latest.min']\n",
       "            }\n",
       "        });\n",
       "        require(['plotly'], function(Plotly) {\n",
       "            window._Plotly = Plotly;\n",
       "        });\n",
       "        }\n",
       "        </script>\n",
       "        "
      ]
     },
     "metadata": {},
     "output_type": "display_data"
    }
   ],
   "source": [
    "init_notebook_mode(connected=True)"
   ]
  },
  {
   "cell_type": "code",
   "execution_count": 10,
   "metadata": {
    "ExecuteTime": {
     "end_time": "2019-04-26T00:11:06.143750Z",
     "start_time": "2019-04-26T00:11:06.135738Z"
    }
   },
   "outputs": [
    {
     "data": {
      "text/html": [
       "        <script type=\"text/javascript\">\n",
       "        window.PlotlyConfig = {MathJaxConfig: 'local'};\n",
       "        if (window.MathJax) {MathJax.Hub.Config({SVG: {font: \"STIX-Web\"}});}\n",
       "        if (typeof require !== 'undefined') {\n",
       "        require.undef(\"plotly\");\n",
       "        requirejs.config({\n",
       "            paths: {\n",
       "                'plotly': ['https://cdn.plot.ly/plotly-latest.min']\n",
       "            }\n",
       "        });\n",
       "        require(['plotly'], function(Plotly) {\n",
       "            window._Plotly = Plotly;\n",
       "        });\n",
       "        }\n",
       "        </script>\n",
       "        "
      ]
     },
     "metadata": {},
     "output_type": "display_data"
    }
   ],
   "source": [
    "cf.go_offline()"
   ]
  },
  {
   "cell_type": "markdown",
   "metadata": {},
   "source": [
    "Agora vamos plotar os dados salvos no arquivo \"exemplo.csv\":"
   ]
  },
  {
   "cell_type": "code",
   "execution_count": 2,
   "metadata": {
    "ExecuteTime": {
     "end_time": "2019-04-26T00:01:23.410253Z",
     "start_time": "2019-04-26T00:01:23.399252Z"
    }
   },
   "outputs": [
    {
     "name": "stdout",
     "output_type": "stream",
     "text": [
      "feature1;feature2;label\n",
      "3;4;0\n",
      "2;5;0\n",
      "4;6;0\n",
      "1;3;1\n",
      "3;2;1\n",
      "2;0;1\n"
     ]
    }
   ],
   "source": [
    "with open(\"exemplo.csv\") as file:\n",
    "    print(file.read())"
   ]
  },
  {
   "cell_type": "markdown",
   "metadata": {},
   "source": [
    "Como mostrado acima, o arquivo \"exemplo.csv\" possui um cabeçalho (\"feature1\", \"feature2\" e \"label\") e linhas com valores para as características e rotulo. Nesse arquivo, cada linha (exceto o cabeçalho) são amostras de \"feature1\" e \"feature2\" que estão associados com o rotulo 0 ou 1. Primeira coisa que faremos será ler esses dados em um DataFrame da biblioteca Pandas conforme exibido abaixo:"
   ]
  },
  {
   "cell_type": "code",
   "execution_count": 11,
   "metadata": {
    "ExecuteTime": {
     "end_time": "2019-04-26T00:12:03.672242Z",
     "start_time": "2019-04-26T00:12:03.659243Z"
    }
   },
   "outputs": [
    {
     "data": {
      "text/html": [
       "<div>\n",
       "<style scoped>\n",
       "    .dataframe tbody tr th:only-of-type {\n",
       "        vertical-align: middle;\n",
       "    }\n",
       "\n",
       "    .dataframe tbody tr th {\n",
       "        vertical-align: top;\n",
       "    }\n",
       "\n",
       "    .dataframe thead th {\n",
       "        text-align: right;\n",
       "    }\n",
       "</style>\n",
       "<table border=\"1\" class=\"dataframe\">\n",
       "  <thead>\n",
       "    <tr style=\"text-align: right;\">\n",
       "      <th></th>\n",
       "      <th>feature1</th>\n",
       "      <th>feature2</th>\n",
       "      <th>label</th>\n",
       "    </tr>\n",
       "  </thead>\n",
       "  <tbody>\n",
       "    <tr>\n",
       "      <th>0</th>\n",
       "      <td>3</td>\n",
       "      <td>4</td>\n",
       "      <td>0</td>\n",
       "    </tr>\n",
       "    <tr>\n",
       "      <th>1</th>\n",
       "      <td>2</td>\n",
       "      <td>5</td>\n",
       "      <td>0</td>\n",
       "    </tr>\n",
       "    <tr>\n",
       "      <th>2</th>\n",
       "      <td>4</td>\n",
       "      <td>6</td>\n",
       "      <td>0</td>\n",
       "    </tr>\n",
       "    <tr>\n",
       "      <th>3</th>\n",
       "      <td>1</td>\n",
       "      <td>3</td>\n",
       "      <td>1</td>\n",
       "    </tr>\n",
       "    <tr>\n",
       "      <th>4</th>\n",
       "      <td>3</td>\n",
       "      <td>2</td>\n",
       "      <td>1</td>\n",
       "    </tr>\n",
       "    <tr>\n",
       "      <th>5</th>\n",
       "      <td>2</td>\n",
       "      <td>0</td>\n",
       "      <td>1</td>\n",
       "    </tr>\n",
       "  </tbody>\n",
       "</table>\n",
       "</div>"
      ],
      "text/plain": [
       "   feature1  feature2  label\n",
       "0         3         4      0\n",
       "1         2         5      0\n",
       "2         4         6      0\n",
       "3         1         3      1\n",
       "4         3         2      1\n",
       "5         2         0      1"
      ]
     },
     "metadata": {},
     "output_type": "display_data"
    }
   ],
   "source": [
    "df = pd.read_csv(\"exemplo.csv\", delimiter=\";\")\n",
    "display(df)"
   ]
  },
  {
   "cell_type": "markdown",
   "metadata": {},
   "source": [
    "Agora, vamos separar esses dados em duas variáveis. Uma variável $X$ que será uma matriz onde cada linha é um vetor de características e $y$ que é uma lista de rótulos. Essas duas variáveis serão relacionadas pela linha em $X$ e pela ordem do rotulo em $y$, por exemplo, o vetor de característica em $X$[i] possui o rotulo $y$[i]. O código abaixo realiza essa separação."
   ]
  },
  {
   "cell_type": "code",
   "execution_count": 4,
   "metadata": {
    "ExecuteTime": {
     "end_time": "2019-04-26T00:01:29.692265Z",
     "start_time": "2019-04-26T00:01:29.663263Z"
    }
   },
   "outputs": [
    {
     "data": {
      "text/plain": [
       "array([[3, 4],\n",
       "       [2, 5],\n",
       "       [4, 6],\n",
       "       [1, 3],\n",
       "       [3, 2],\n",
       "       [2, 0]], dtype=int64)"
      ]
     },
     "metadata": {},
     "output_type": "display_data"
    },
    {
     "data": {
      "text/plain": [
       "array([0, 0, 0, 1, 1, 1], dtype=int64)"
      ]
     },
     "metadata": {},
     "output_type": "display_data"
    }
   ],
   "source": [
    "# pegamos todas as linhas das colunas \"feature1\" e \"feature2\" e convertemos para um array do NumPy (chamando values)\n",
    "X = df[[\"feature1\", \"feature2\"]].values \n",
    "y = df[\"label\"].values # pegamos todos os rotulos e convertemos para um array NumPy.\n",
    "\n",
    "display(X, y)"
   ]
  },
  {
   "cell_type": "markdown",
   "metadata": {},
   "source": [
    "Para nosso exemplo, a classe negativa será $0$ e a classe positiva $1$. Logo precisaremos converter os números $0$ em $-1$ conforme exibido abaixo:"
   ]
  },
  {
   "cell_type": "code",
   "execution_count": 5,
   "metadata": {
    "ExecuteTime": {
     "end_time": "2019-04-26T00:01:38.203913Z",
     "start_time": "2019-04-26T00:01:38.197910Z"
    }
   },
   "outputs": [
    {
     "data": {
      "text/plain": [
       "array([-1, -1, -1,  1,  1,  1])"
      ]
     },
     "metadata": {},
     "output_type": "display_data"
    }
   ],
   "source": [
    "# função que verifica se cada item cumpre a condição y == 0, se sim é transformado em -1 senão 1\n",
    "y = np.where(y == 0, -1, 1) \n",
    "display(y)"
   ]
  },
  {
   "cell_type": "markdown",
   "metadata": {},
   "source": [
    "Agora que temos os dados no formato que gostaríamos, vamos utilizar matplotlib para plotar um gráfico de dispersão das nossas características. Para isso vamos utilizar a função *scatter* que recebe uma lista de coordenadas da abscissa, uma lista de coordenadas de ordenadas (relacionadas pela ordem na lista) e configurações\n",
    "de marcadores e cores para plotar os pontos no gráfico. Conforme o código abaixo:"
   ]
  },
  {
   "cell_type": "code",
   "execution_count": 12,
   "metadata": {
    "ExecuteTime": {
     "end_time": "2019-04-26T00:12:10.726124Z",
     "start_time": "2019-04-26T00:12:10.597136Z"
    }
   },
   "outputs": [
    {
     "data": {
      "image/png": "[encoded data removed]",
      "text/plain": [
       "<Figure size 432x288 with 1 Axes>"
      ]
     },
     "metadata": {
      "needs_background": "light"
     },
     "output_type": "display_data"
    }
   ],
   "source": [
    "# comando para plotagem direta no Jupyter notebook\n",
    "%matplotlib inline\n",
    "\n",
    "# plotar os pontos da classe positiva em azul com marcadores em \"x\":\n",
    "plt.scatter(X[y == 1, 0], X[y == 1, 1], color=\"blue\", marker=\"x\")\n",
    "\n",
    "#plotar os pontos da classe negativa em vermelho com marcadores \"o\"\n",
    "plt.scatter(X[y == -1, 0], X[y == -1, 1], color=\"red\", marker=\"o\")\n",
    "\n",
    "# exibe o gráfico.\n",
    "plt.show()"
   ]
  },
  {
   "cell_type": "markdown",
   "metadata": {},
   "source": [
    "## Exercícios"
   ]
  },
  {
   "cell_type": "markdown",
   "metadata": {},
   "source": [
    "**1)** Conforme apresentado acima, leia o arquivo \"treino.csv\" gerado na **parte 1** desse exercício. Plote os dados contidos no arquivo em um gráfico de dispersão, configure o conjunto de vetores de características em uma matriz \"$X$\" onde cada linha é o vetor de características, configure o conjunto de labels \"$y$\" tal que o conjunto de labels esteja relacionada com \"$X$\" por suas ordens, ou seja, a amostra na linha $i$ da matriz $X$ possui o rotulo $y$ na posição $i$.\n",
    "\n",
    "Realiza a importação dos módulos necessários, plote os gráficos de dispersão com marcador \"x\" e cor azul para as amostras de classe positiva e marcador \"o\" e cor \"vermelha\" para as amostras de classe negativa. Visualmente diga se os dados são linearmente separáveis ou não."
   ]
  },
  {
   "cell_type": "code",
   "execution_count": 13,
   "metadata": {
    "ExecuteTime": {
     "end_time": "2019-04-26T00:13:36.415962Z",
     "start_time": "2019-04-26T00:13:36.331949Z"
    }
   },
   "outputs": [],
   "source": [
    "df_train = pd.read_csv(\"dataset/treino.csv\", sep=\";\")"
   ]
  },
  {
   "cell_type": "code",
   "execution_count": 455,
   "metadata": {
    "ExecuteTime": {
     "end_time": "2019-04-26T04:46:34.503110Z",
     "start_time": "2019-04-26T04:46:34.369107Z"
    }
   },
   "outputs": [
    {
     "data": {
      "text/html": [
       "<div>\n",
       "<style scoped>\n",
       "    .dataframe tbody tr th:only-of-type {\n",
       "        vertical-align: middle;\n",
       "    }\n",
       "\n",
       "    .dataframe tbody tr th {\n",
       "        vertical-align: top;\n",
       "    }\n",
       "\n",
       "    .dataframe thead th {\n",
       "        text-align: right;\n",
       "    }\n",
       "</style>\n",
       "<table border=\"1\" class=\"dataframe\">\n",
       "  <thead>\n",
       "    <tr style=\"text-align: right;\">\n",
       "      <th></th>\n",
       "      <th>sepal width</th>\n",
       "      <th>sepal length</th>\n",
       "      <th>type</th>\n",
       "    </tr>\n",
       "  </thead>\n",
       "  <tbody>\n",
       "    <tr>\n",
       "      <th>0</th>\n",
       "      <td>4.8</td>\n",
       "      <td>3.4</td>\n",
       "      <td>1</td>\n",
       "    </tr>\n",
       "    <tr>\n",
       "      <th>1</th>\n",
       "      <td>4.9</td>\n",
       "      <td>3.1</td>\n",
       "      <td>1</td>\n",
       "    </tr>\n",
       "    <tr>\n",
       "      <th>2</th>\n",
       "      <td>5.0</td>\n",
       "      <td>3.4</td>\n",
       "      <td>1</td>\n",
       "    </tr>\n",
       "    <tr>\n",
       "      <th>3</th>\n",
       "      <td>5.4</td>\n",
       "      <td>3.9</td>\n",
       "      <td>1</td>\n",
       "    </tr>\n",
       "    <tr>\n",
       "      <th>4</th>\n",
       "      <td>5.7</td>\n",
       "      <td>2.8</td>\n",
       "      <td>0</td>\n",
       "    </tr>\n",
       "  </tbody>\n",
       "</table>\n",
       "</div>"
      ],
      "text/plain": [
       "   sepal width  sepal length  type\n",
       "0          4.8           3.4     1\n",
       "1          4.9           3.1     1\n",
       "2          5.0           3.4     1\n",
       "3          5.4           3.9     1\n",
       "4          5.7           2.8     0"
      ]
     },
     "execution_count": 455,
     "metadata": {},
     "output_type": "execute_result"
    }
   ],
   "source": [
    "X = df_train.loc[:, [\"sepal width\", \"sepal length\"]].values\n",
    "y = df_train.loc[:, [\"type\"]].values\n",
    "y[y==0] = -1\n",
    "df_train.head(5)\n"
   ]
  },
  {
   "cell_type": "code",
   "execution_count": 456,
   "metadata": {
    "ExecuteTime": {
     "end_time": "2019-04-26T04:46:47.927465Z",
     "start_time": "2019-04-26T04:46:47.629465Z"
    }
   },
   "outputs": [
    {
     "data": {
      "application/vnd.plotly.v1+json": {
       "config": {
        "linkText": "Export to plot.ly",
        "plotlyServerURL": "https://plot.ly",
        "responsive": true,
        "showLink": false
       },
       "data": [
        {
         "marker": {
          "color": "rgba(255, 0, 0, 0.8)",
          "size": 10,
          "symbol": "circle"
         },
         "mode": "markers",
         "name": "Iris Versicolor",
         "text": [
          "Iris Versicolor",
          "Iris Versicolor",
          "Iris Versicolor",
          "Iris Versicolor",
          "Iris Versicolor",
          "Iris Versicolor",
          "Iris Versicolor",
          "Iris Versicolor",
          "Iris Versicolor",
          "Iris Versicolor"
         ],
         "type": "scatter",
         "uid": "0a7ae3b2-0ad4-4777-a85c-a13157ff7be8",
         "x": [
          5.7,
          6.4,
          7,
          6.9,
          6.5,
          7,
          6.4,
          6.9,
          5.5,
          6.5
         ],
         "y": [
          2.8,
          3.2,
          3.2,
          3.1,
          2.8,
          3.2,
          3.2,
          3.1,
          2.3,
          2.8
         ]
        },
        {
         "marker": {
          "color": "rgba(0, 0, 255, 0.8)",
          "size": 10,
          "symbol": "x"
         },
         "mode": "markers",
         "name": "Iris Setosa",
         "text": [
          "Iris Setosa",
          "Iris Setosa",
          "Iris Setosa",
          "Iris Setosa",
          "Iris Setosa",
          "Iris Setosa",
          "Iris Setosa",
          "Iris Setosa",
          "Iris Setosa",
          "Iris Setosa",
          "Iris Setosa"
         ],
         "type": "scatter",
         "uid": "98d0935a-9951-4b4d-8af4-bec109284555",
         "x": [
          4.8,
          4.9,
          5,
          5.4,
          4.4,
          5.4,
          5,
          4.4,
          4.9,
          5.4,
          4.8
         ],
         "y": [
          3.4,
          3.1,
          3.4,
          3.9,
          2.9,
          3.7,
          3.4,
          2.9,
          3.1,
          3.7,
          3.4
         ]
        }
       ],
       "layout": {
        "title": {
         "text": "Iris Classes"
        },
        "xaxis": {
         "ticklen": 5,
         "title": {
          "text": "Sepal Width"
         },
         "zeroline": false
        },
        "yaxis": {
         "ticklen": 5,
         "title": {
          "text": "Sepal Length"
         },
         "zeroline": false
        }
       }
      },
      "text/html": [
       "<div>\n",
       "        \n",
       "        \n",
       "            <div id=\"47ec8590-2b7a-4d78-bb7c-222fcd39ff24\" class=\"plotly-graph-div\" style=\"height:525px; width:100%;\"></div>\n",
       "            <script type=\"text/javascript\">\n",
       "                require([\"plotly\"], function(Plotly) {\n",
       "                    window.PLOTLYENV=window.PLOTLYENV || {};\n",
       "                    window.PLOTLYENV.BASE_URL='https://plot.ly';\n",
       "                    \n",
       "                if (document.getElementById(\"47ec8590-2b7a-4d78-bb7c-222fcd39ff24\")) {\n",
       "                    Plotly.newPlot(\n",
       "                        '47ec8590-2b7a-4d78-bb7c-222fcd39ff24',\n",
       "                        [{\"marker\": {\"color\": \"rgba(255, 0, 0, 0.8)\", \"size\": 10, \"symbol\": \"circle\"}, \"mode\": \"markers\", \"name\": \"Iris Versicolor\", \"text\": [\"Iris Versicolor\", \"Iris Versicolor\", \"Iris Versicolor\", \"Iris Versicolor\", \"Iris Versicolor\", \"Iris Versicolor\", \"Iris Versicolor\", \"Iris Versicolor\", \"Iris Versicolor\", \"Iris Versicolor\"], \"type\": \"scatter\", \"uid\": \"8765a93e-d7b3-485f-be69-147c4396bdaa\", \"x\": [5.7, 6.4, 7.0, 6.9, 6.5, 7.0, 6.4, 6.9, 5.5, 6.5], \"y\": [2.8, 3.2, 3.2, 3.1, 2.8, 3.2, 3.2, 3.1, 2.3, 2.8]}, {\"marker\": {\"color\": \"rgba(0, 0, 255, 0.8)\", \"size\": 10, \"symbol\": \"x\"}, \"mode\": \"markers\", \"name\": \"Iris Setosa\", \"text\": [\"Iris Setosa\", \"Iris Setosa\", \"Iris Setosa\", \"Iris Setosa\", \"Iris Setosa\", \"Iris Setosa\", \"Iris Setosa\", \"Iris Setosa\", \"Iris Setosa\", \"Iris Setosa\", \"Iris Setosa\"], \"type\": \"scatter\", \"uid\": \"644508ea-b774-44bc-ab75-d11780d786d0\", \"x\": [4.8, 4.9, 5.0, 5.4, 4.4, 5.4, 5.0, 4.4, 4.9, 5.4, 4.8], \"y\": [3.4, 3.1, 3.4, 3.9, 2.9, 3.7, 3.4, 2.9, 3.1, 3.7, 3.4]}],\n",
       "                        {\"title\": {\"text\": \"Iris Classes\"}, \"xaxis\": {\"ticklen\": 5, \"title\": {\"text\": \"Sepal Width\"}, \"zeroline\": false}, \"yaxis\": {\"ticklen\": 5, \"title\": {\"text\": \"Sepal Length\"}, \"zeroline\": false}},\n",
       "                        {\"showLink\": false, \"linkText\": \"Export to plot.ly\", \"plotlyServerURL\": \"https://plot.ly\", \"responsive\": true}\n",
       "                    ).then(function(){\n",
       "                            \n",
       "var gd = document.getElementById('47ec8590-2b7a-4d78-bb7c-222fcd39ff24');\n",
       "var x = new MutationObserver(function (mutations, observer) {{\n",
       "        var display = window.getComputedStyle(gd).display;\n",
       "        if (!display || display === 'none') {{\n",
       "            console.log([gd, 'removed!']);\n",
       "            Plotly.purge(gd);\n",
       "            observer.disconnect();\n",
       "        }}\n",
       "}});\n",
       "\n",
       "// Listen for the removal of the full notebook cells\n",
       "var notebookContainer = gd.closest('#notebook-container');\n",
       "if (notebookContainer) {{\n",
       "    x.observe(notebookContainer, {childList: true});\n",
       "}}\n",
       "\n",
       "// Listen for the clearing of the current output cell\n",
       "var outputEl = gd.closest('.output');\n",
       "if (outputEl) {{\n",
       "    x.observe(outputEl, {childList: true});\n",
       "}}\n",
       "\n",
       "                        })\n",
       "                };\n",
       "                });\n",
       "            </script>\n",
       "        </div>"
      ]
     },
     "metadata": {},
     "output_type": "display_data"
    }
   ],
   "source": [
    "# prepare data frames\n",
    "df_setosa = df_train[df_train.type == 1]\n",
    "df_versicolor = df_train[df_train.type == 0]\n",
    "\n",
    "for df in [df_versicolor, df_setosa]:\n",
    "    df['type_name'] = np.where(df['type']==0, 'Iris Versicolor', 'Iris Setosa')\n",
    "    \n",
    "# creating trace1\n",
    "trace1 =go.Scatter(\n",
    "                    x = df_versicolor[\"sepal width\"],\n",
    "                    y = df_versicolor[\"sepal length\"],\n",
    "                    mode = \"markers\",\n",
    "                    name = \"Iris Versicolor\",\n",
    "                    marker = dict(color = 'rgba(255, 0, 0, 0.8)', size = 10, symbol='circle'),\n",
    "                    text= df_versicolor[\"type_name\"])\n",
    "# creating trace2\n",
    "trace2 =go.Scatter(\n",
    "                    x = df_setosa[\"sepal width\"],\n",
    "                    y = df_setosa[\"sepal length\"],\n",
    "                    mode = \"markers\",\n",
    "                    name = \"Iris Setosa\",\n",
    "                    marker = dict(color = 'rgba(0, 0, 255, 0.8)', size = 10, symbol='x'),\n",
    "                    text= df_setosa[\"type_name\"])\n",
    "\n",
    "data = [trace1, trace2]\n",
    "layout = dict(title = 'Iris Classes',\n",
    "              xaxis= dict(title= 'Sepal Width',ticklen= 5,zeroline= False),\n",
    "              yaxis= dict(title= 'Sepal Length',ticklen= 5,zeroline= False)\n",
    "             )\n",
    "fig = dict(data = data, layout = layout)\n",
    "iplot(fig)"
   ]
  },
  {
   "cell_type": "markdown",
   "metadata": {},
   "source": [
    "**Escreva sua Reposta aqui**"
   ]
  },
  {
   "cell_type": "markdown",
   "metadata": {},
   "source": [
    "Observando visualmente os dados, percebe-se que os mesmos são linearmente separáveis."
   ]
  },
  {
   "cell_type": "markdown",
   "metadata": {},
   "source": [
    "**2)** Dentro da pasta \"ml\" crie um modulo chamado \"perceptron\". Implemente uma classe chamada \"PerceptronBatch\" com pelo menos os métodos \"fit\" e \"predict\", onde \"fit\" recebe o conjunto de vetores com duas características e o conjunto\n",
    "de rótulos (classes ou *labels*) com duas classes e treina o classificador Perceptron de Rosenblatt utilizando o algoritmo em Batch e ao final do método configure o atributo \"w\" e b contendo os pesos e bias do Perceptron respectivamente. O método \"predict\" recebe um conjunto de amostras (vetores com duas características) e utiliza o algoritmo de Perceptron para classificar a classe em -1 ou 1. Sua classe deve suportar configurar uma semente para número aleatórios (\"random_state\") e um valor para o coeficiente de aprendizagem (eta) no construtor de sua classe.\n",
    "\n",
    "Após implementa-lo, crie uma instância da sua classe com random_state=0 e eta=0.001 treine o Perceptron com \"X\" e \"y\" lidos no exercício anterior e imprima os valores de pesos (\"w\") e bias (\"b\")."
   ]
  },
  {
   "cell_type": "markdown",
   "metadata": {},
   "source": [
    "Obs.: Abaixo segue o pseudo-código do algoritmo de treinamento do Perceptron de Rosenblatt em Batch. adaptado de https://www.cis.upenn.edu/~cis519/fall2014/lectures/04_LinearClassificationPerceptron.pdf (slide 12):\n",
    "\n",
    "1. Seja $S_n = \\{ (\\vec{x}^{(1)}, y^{(1)}), (\\vec{x}^{(2)}, y^{(2)}), \\dots (\\vec{x}^{(n)}, y^{(n)}) \\}$ o conjunto\n",
    "   de exemplos de treinamento.\n",
    "\n",
    "2. Inicialize $\\vec{w}$ e $b$ com valores aleatorios próximos de zero\n",
    "\n",
    "3. Seja $\\Delta w = (0,0,0, \\dots, 0) \\in \\mathbb{R}^d$ e $\\Delta b$ os valores iniciais para atualizações de     \n",
    "   pesos.\n",
    "\n",
    "4. Para cada $(\\vec{x}^{(i)}, y^{(i)}) \\in S_n$ faça\n",
    "    * $z^{(i)}$ $\\leftarrow$ $\\vec{w}^T \\vec{x}^{(i)} + b$\n",
    "    * $e^{(i)}$ $\\leftarrow$ $y^{(i)} - \\Phi(z^{(i)})$ \n",
    "    * $\\Delta w$ $\\leftarrow$ $\\Delta w$ + $e^{(i)}\\vec{x}^{(i)}$\n",
    "    * $\\Delta b$ $\\leftarrow$ $\\Delta b$ + $e^{(i)}$\n",
    "\n",
    "5. $\\Delta w$ $\\leftarrow$ $\\frac{\\Delta w}{n}$ e $\\Delta b$ $\\leftarrow$ $\\frac{\\Delta b}{n}$\n",
    "\n",
    "6. $w \\leftarrow w + \\eta \\Delta w$ e $b \\leftarrow \\eta \\Delta b$\n",
    "\n",
    "7. Se errou (existe um $e^{(i)} \\not= 0$) volte ao passo 3; senão seu Perceptron é definido por $w$ e $b$"
   ]
  },
  {
   "cell_type": "code",
   "execution_count": 464,
   "metadata": {
    "ExecuteTime": {
     "end_time": "2019-04-26T04:49:37.948584Z",
     "start_time": "2019-04-26T04:49:37.819600Z"
    }
   },
   "outputs": [
    {
     "name": "stdout",
     "output_type": "stream",
     "text": [
      "[[0.]\n",
      " [0.]\n",
      " [0.]\n",
      " [0.]\n",
      " [0.]\n",
      " [0.]\n",
      " [0.]\n",
      " [0.]\n",
      " [0.]\n",
      " [0.]\n",
      " [0.]\n",
      " [0.]\n",
      " [0.]\n",
      " [0.]\n",
      " [0.]\n",
      " [0.]\n",
      " [0.]\n",
      " [0.]\n",
      " [0.]\n",
      " [0.]\n",
      " [0.]]\n"
     ]
    }
   ],
   "source": [
    "pb = PerceptronBatch()\n",
    "pb.fit(X, y)"
   ]
  },
  {
   "cell_type": "markdown",
   "metadata": {},
   "source": [
    "### Plotagem de função em Python\n",
    "\n",
    "Para o próximo exercício, você precisará plotar uma reta utilizando \"matplotlib\" (superfície de decisão do Perceptron). Para plotar uma reta em Python vamos utilizar a equação da reta:\n",
    "\n",
    "$$ x_2 = ax_1 + b $$\n",
    "\n",
    "Neste caso não importa os valores de a e b, para exemplificar, vamos fazer $a = 2$ e $b = 3$. Precisamos também definir o intervalo da plotagem, que nesse exemplo vamos definir como $\\left[-3,3\\right]$. Para implementar esse gráfico em Python, vamos utilizar a função \"linspace\" do NumPy. Essa função gera $N$ amostras espaçadas igualmente em um intervalo dado como parâmetro. Vamos também utilizar a função \"plot\" do \"matplotlib\" que dados um conjunto de coordenadas da abscissa e ordenada, desenha um segmento de reta que liga todos as coordenadas."
   ]
  },
  {
   "cell_type": "code",
   "execution_count": 9,
   "metadata": {},
   "outputs": [
    {
     "data": {
      "image/png": "[encoded data removed]",
      "text/plain": [
       "<Figure size 432x288 with 1 Axes>"
      ]
     },
     "metadata": {
      "needs_background": "light"
     },
     "output_type": "display_data"
    }
   ],
   "source": [
    "# configurando as constantes a e b\n",
    "a = 2\n",
    "b = 3\n",
    "\n",
    "# Gerando 100 amostras do intervalo [-3, 3]\n",
    "x1 = np.linspace(start=-3, stop=3, num=100) \n",
    "\n",
    "# calculado as ordenadas \"y\"\n",
    "x2 = a*x1 + b\n",
    "\n",
    "# plotando a \"reta\"\n",
    "plt.plot(x1, x2, color=\"black\")\n",
    "plt.title(\"Plotagem da função $x_2 = 2x_1 + 3$ no intervalo [-3, 3]\")\n",
    "plt.xlabel(\"$x_1$\")\n",
    "plt.ylabel(\"$x_2$\")\n",
    "plt.show()"
   ]
  },
  {
   "cell_type": "markdown",
   "metadata": {},
   "source": [
    "**3)** Para visualizar a interpretação gráfica do Perceptron, plote o gráfico de dispersão do seu conjunto de dados de maneira semelhante ao exercício **1)** e no mesmo gráfico, plote a reta (ou superfície de decisão) do Perceptron treinado no exercício anterior.\n",
    "\n",
    "DICA: Lembre-se que a reta (ou superfície de decisão) do Perceptron é definida como:\n",
    "\n",
    "$$ \\vec{w}^T \\vec{x} + b = 0 $$"
   ]
  },
  {
   "cell_type": "code",
   "execution_count": 10,
   "metadata": {},
   "outputs": [],
   "source": [
    " # Escreva sua Reposta aqui"
   ]
  },
  {
   "cell_type": "markdown",
   "metadata": {},
   "source": [
    "**4)** Agora vamos verificar como o Perceptron se sai no conjunto de dados de teste. Primeiramente, leia sua base de testes (arquivo \"teste.csv\", gerado na parte 1 do exercício), então semelhantemente ao exercício anterior plote os dados de teste em um gráfico de dispersão com a reta do seu Perceptron.\n",
    "\n",
    "**OBS.:** Não treine seu Perceptron com os dados de teste. Mantenha os pesos do Perceptron conforme encontrados no exercício de treinamento. Estamos verificando a eficiência do seu Perceptron treinado com os dados de treinamento."
   ]
  },
  {
   "cell_type": "code",
   "execution_count": 11,
   "metadata": {},
   "outputs": [],
   "source": [
    "#  Escreva sua Reposta aqui"
   ]
  },
  {
   "cell_type": "markdown",
   "metadata": {},
   "source": [
    "**5)** Agora encontre a quantidade de amostras de teste mal-classificadas utilizando código Python. O número encontrado é mesmo visualizado na interpretação gráfica do exercício anterior?\n",
    "\n",
    "**DICA.:** Utilize o método predict da sua classe de Perceptron."
   ]
  },
  {
   "cell_type": "code",
   "execution_count": 12,
   "metadata": {},
   "outputs": [],
   "source": [
    "#  Escreva sua Reposta aqui"
   ]
  },
  {
   "cell_type": "markdown",
   "metadata": {},
   "source": [
    "**Escreva sua Reposta aqui**"
   ]
  },
  {
   "cell_type": "markdown",
   "metadata": {},
   "source": [
    "### Comentários\n",
    "\n",
    "Utilize a célula abaixo caso deseja comentar e passar o feedback sobre o exercício.\n"
   ]
  },
  {
   "cell_type": "markdown",
   "metadata": {},
   "source": []
  }
 ],
 "metadata": {
  "kernelspec": {
   "display_name": "Python (Pattern Recognition)",
   "language": "python",
   "name": "patternrec"
  },
  "language_info": {
   "codemirror_mode": {
    "name": "ipython",
    "version": 3
   },
   "file_extension": ".py",
   "mimetype": "text/x-python",
   "name": "python",
   "nbconvert_exporter": "python",
   "pygments_lexer": "ipython3",
   "version": "3.7.3"
  },
  "latex_envs": {
   "LaTeX_envs_menu_present": true,
   "autoclose": false,
   "autocomplete": true,
   "bibliofile": "biblio.bib",
   "cite_by": "apalike",
   "current_citInitial": 1,
   "eqLabelWithNumbers": true,
   "eqNumInitial": 1,
   "hotkeys": {
    "equation": "Ctrl-E",
    "itemize": "Ctrl-I"
   },
   "labels_anchors": false,
   "latex_user_defs": false,
   "report_style_numbering": false,
   "user_envs_cfg": false
  },
  "toc": {
   "base_numbering": 1,
   "nav_menu": {},
   "number_sections": true,
   "sideBar": true,
   "skip_h1_title": false,
   "title_cell": "Table of Contents",
   "title_sidebar": "Contents",
   "toc_cell": false,
   "toc_position": {},
   "toc_section_display": true,
   "toc_window_display": false
  }
 },
 "nbformat": 4,
 "nbformat_minor": 2
}

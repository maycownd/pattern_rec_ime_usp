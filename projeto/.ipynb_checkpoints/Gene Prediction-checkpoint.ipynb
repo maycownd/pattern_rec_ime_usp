{
 "cells": [
  {
   "cell_type": "code",
   "execution_count": 1,
   "metadata": {
    "ExecuteTime": {
     "end_time": "2019-05-14T03:39:41.437742Z",
     "start_time": "2019-05-14T03:39:41.415858Z"
    }
   },
   "outputs": [],
   "source": [
    "%load_ext autoreload\n",
    "%autoreload 2"
   ]
  },
  {
   "cell_type": "code",
   "execution_count": 7,
   "metadata": {
    "ExecuteTime": {
     "end_time": "2019-05-14T03:41:14.666982Z",
     "start_time": "2019-05-14T03:41:13.998248Z"
    }
   },
   "outputs": [],
   "source": [
    "from src.gene_prediction.gene_prediction import read_data\n",
    "import sklearn\n",
    "import pandas as pd"
   ]
  },
  {
   "cell_type": "code",
   "execution_count": 6,
   "metadata": {
    "ExecuteTime": {
     "end_time": "2019-05-14T03:40:53.703438Z",
     "start_time": "2019-05-14T03:40:37.812292Z"
    }
   },
   "outputs": [
    {
     "name": "stdout",
     "output_type": "stream",
     "text": [
      "Loading data...\n",
      "All files loaded (15 s). Preprocessing...\n",
      "Train / test data has 15485 / 3871 genes.\n",
      "x_train shape is (15485, 500)\n",
      "y_train shape is (15485,)\n",
      "x_test shape is (3871, 500)\n",
      "Data preprocessing done...\n",
      "Next steps FOR YOU:\n",
      "------------------------------\n",
      "1. Define a classifier using sklearn\n",
      "2. Assess its accuracy using cross-validation (optional)\n",
      "3. Fine tune the parameters and return to 2 until happy (optional)\n",
      "4. Create submission file. Should be similar to y_train.csv.\n",
      "5. Submit at kaggle.com and sit back.\n"
     ]
    }
   ],
   "source": [
    "x_train, y_train, x_test = read_data()"
   ]
  },
  {
   "cell_type": "code",
   "execution_count": 8,
   "metadata": {
    "ExecuteTime": {
     "end_time": "2019-05-14T03:41:19.433243Z",
     "start_time": "2019-05-14T03:41:19.373506Z"
    }
   },
   "outputs": [
    {
     "data": {
      "text/plain": [
       "array([[2., 1., 4., ..., 0., 0., 1.],\n",
       "       [1., 0., 1., ..., 0., 0., 0.],\n",
       "       [1., 6., 3., ..., 4., 3., 0.],\n",
       "       ...,\n",
       "       [0., 2., 1., ..., 2., 0., 1.],\n",
       "       [0., 0., 0., ..., 2., 0., 0.],\n",
       "       [2., 0., 0., ..., 0., 2., 1.]])"
      ]
     },
     "execution_count": 8,
     "metadata": {},
     "output_type": "execute_result"
    }
   ],
   "source": [
    "x_train_s"
   ]
  },
  {
   "cell_type": "code",
   "execution_count": null,
   "metadata": {},
   "outputs": [],
   "source": []
  }
 ],
 "metadata": {
  "kernelspec": {
   "display_name": "Python (Pattern Recognition)",
   "language": "python",
   "name": "pattern_rec_ime_usp"
  },
  "language_info": {
   "codemirror_mode": {
    "name": "ipython",
    "version": 3
   },
   "file_extension": ".py",
   "mimetype": "text/x-python",
   "name": "python",
   "nbconvert_exporter": "python",
   "pygments_lexer": "ipython3",
   "version": "3.7.3"
  },
  "toc": {
   "base_numbering": 1,
   "nav_menu": {},
   "number_sections": true,
   "sideBar": true,
   "skip_h1_title": false,
   "title_cell": "Table of Contents",
   "title_sidebar": "Contents",
   "toc_cell": false,
   "toc_position": {},
   "toc_section_display": true,
   "toc_window_display": false
  }
 },
 "nbformat": 4,
 "nbformat_minor": 2
}
